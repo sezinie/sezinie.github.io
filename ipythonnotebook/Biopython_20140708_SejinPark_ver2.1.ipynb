{
 "metadata": {
  "name": "",
  "signature": "sha256:53e073f8fd9a7f8429dc57a2e501b99584f457f1358cdbcf3f856c84fee57ada"
 },
 "nbformat": 3,
 "nbformat_minor": 0,
 "worksheets": [
  {
   "cells": [
    {
     "cell_type": "code",
     "collapsed": false,
     "input": [
      "# 2014.7.8  \ud30c\uc774\uc36c\uc744 \uc774\uc6a9\ud55c Bioinformatics \uae30\ucd08 Part I - Biopython \n",
      "# \ubc1c\uc81c\uc790 : \ubc15\uc138\uc9c4"
     ],
     "language": "python",
     "metadata": {},
     "outputs": [],
     "prompt_number": 53
    },
    {
     "cell_type": "heading",
     "level": 1,
     "metadata": {},
     "source": [
      "4.13 Biopython I"
     ]
    },
    {
     "cell_type": "heading",
     "level": 2,
     "metadata": {},
     "source": [
      "4.13.1 Biopython - basics"
     ]
    },
    {
     "cell_type": "heading",
     "level": 3,
     "metadata": {},
     "source": [
      "some of the most common data formats in computational biology"
     ]
    },
    {
     "cell_type": "markdown",
     "metadata": {},
     "source": [
      "|Uses | Note|\n",
      "|------|----------|\n",
      "|Blast| finds regions of local similarity between sequences|\n",
      "|ClustalW |multiple sequence alignment program|\n",
      "|GenBank| NCBI sequence database|\n",
      "|PubMed and Medline| Document database|\n",
      "|ExPASy| SIB resource portal (Enzyme and Prosite)|\n",
      "|SCOP| Structural Classification of Proteins (e.g. \u2018dom\u2019,\u2019lin\u2019)|\n",
      "|UniGene| computationally identifies transcripts from the same locus|\n",
      "|SwissProt| annotated and non-redundant protein sequence database|"
     ]
    },
    {
     "cell_type": "heading",
     "level": 4,
     "metadata": {},
     "source": [
      "Getting started"
     ]
    },
    {
     "cell_type": "code",
     "collapsed": false,
     "input": [
      "import Bio"
     ],
     "language": "python",
     "metadata": {},
     "outputs": [],
     "prompt_number": 1
    },
    {
     "cell_type": "code",
     "collapsed": false,
     "input": [
      "Bio.__version__"
     ],
     "language": "python",
     "metadata": {},
     "outputs": [
      {
       "metadata": {},
       "output_type": "pyout",
       "prompt_number": 3,
       "text": [
        "'1.62'"
       ]
      }
     ],
     "prompt_number": 3
    },
    {
     "cell_type": "code",
     "collapsed": false,
     "input": [
      "from Bio.Seq import Seq"
     ],
     "language": "python",
     "metadata": {},
     "outputs": [],
     "prompt_number": 2
    },
    {
     "cell_type": "code",
     "collapsed": false,
     "input": [
      "my_seq = Seq(\"AGTACACTGGT\")"
     ],
     "language": "python",
     "metadata": {},
     "outputs": [],
     "prompt_number": 12
    },
    {
     "cell_type": "code",
     "collapsed": false,
     "input": [
      "my_seq"
     ],
     "language": "python",
     "metadata": {},
     "outputs": [
      {
       "metadata": {},
       "output_type": "pyout",
       "prompt_number": 13,
       "text": [
        "Seq('AGTACACTGGT', Alphabet())"
       ]
      }
     ],
     "prompt_number": 13
    },
    {
     "cell_type": "code",
     "collapsed": false,
     "input": [
      "type(my_seq)"
     ],
     "language": "python",
     "metadata": {},
     "outputs": [
      {
       "metadata": {},
       "output_type": "pyout",
       "prompt_number": 14,
       "text": [
        "Bio.Seq.Seq"
       ]
      }
     ],
     "prompt_number": 14
    },
    {
     "cell_type": "raw",
     "metadata": {},
     "source": [
      "\uadf8\ub0e5 \ubb38\uc790\uc5f4\uacfc\ub294 \ub2e4\ub978 \ud568\uc218\ub4e4\uc744 \uc0ac\uc6a9\ud560 \uc218 \uc788\uc2b5\ub2c8\ub2e4!!  \n",
      "'complement''reverse_complement''transcribe''translate' \ub4f1"
     ]
    },
    {
     "cell_type": "code",
     "collapsed": false,
     "input": [
      "dir(Seq)"
     ],
     "language": "python",
     "metadata": {},
     "outputs": [
      {
       "metadata": {},
       "output_type": "pyout",
       "prompt_number": 15,
       "text": [
        "['__add__',\n",
        " '__class__',\n",
        " '__cmp__',\n",
        " '__contains__',\n",
        " '__delattr__',\n",
        " '__dict__',\n",
        " '__doc__',\n",
        " '__format__',\n",
        " '__getattribute__',\n",
        " '__getitem__',\n",
        " '__hash__',\n",
        " '__init__',\n",
        " '__len__',\n",
        " '__module__',\n",
        " '__new__',\n",
        " '__radd__',\n",
        " '__reduce__',\n",
        " '__reduce_ex__',\n",
        " '__repr__',\n",
        " '__setattr__',\n",
        " '__sizeof__',\n",
        " '__str__',\n",
        " '__subclasshook__',\n",
        " '__weakref__',\n",
        " '_get_seq_str_and_check_alphabet',\n",
        " 'back_transcribe',\n",
        " 'complement',\n",
        " 'count',\n",
        " 'endswith',\n",
        " 'find',\n",
        " 'lower',\n",
        " 'lstrip',\n",
        " 'reverse_complement',\n",
        " 'rfind',\n",
        " 'rsplit',\n",
        " 'rstrip',\n",
        " 'split',\n",
        " 'startswith',\n",
        " 'strip',\n",
        " 'tomutable',\n",
        " 'tostring',\n",
        " 'transcribe',\n",
        " 'translate',\n",
        " 'ungap',\n",
        " 'upper']"
       ]
      }
     ],
     "prompt_number": 15
    },
    {
     "cell_type": "code",
     "collapsed": false,
     "input": [
      "aStringSeq = str(my_seq)"
     ],
     "language": "python",
     "metadata": {},
     "outputs": [],
     "prompt_number": 16
    },
    {
     "cell_type": "code",
     "collapsed": false,
     "input": [
      "aStringSeq"
     ],
     "language": "python",
     "metadata": {},
     "outputs": [
      {
       "metadata": {},
       "output_type": "pyout",
       "prompt_number": 17,
       "text": [
        "'AGTACACTGGT'"
       ]
      }
     ],
     "prompt_number": 17
    },
    {
     "cell_type": "code",
     "collapsed": false,
     "input": [
      "type(aStringSeq)"
     ],
     "language": "python",
     "metadata": {},
     "outputs": [
      {
       "metadata": {},
       "output_type": "pyout",
       "prompt_number": 18,
       "text": [
        "str"
       ]
      }
     ],
     "prompt_number": 18
    },
    {
     "cell_type": "code",
     "collapsed": false,
     "input": [
      "my_seq_complement = my_seq.complement()"
     ],
     "language": "python",
     "metadata": {},
     "outputs": [],
     "prompt_number": 19
    },
    {
     "cell_type": "code",
     "collapsed": false,
     "input": [
      "my_seq_complement"
     ],
     "language": "python",
     "metadata": {},
     "outputs": [
      {
       "metadata": {},
       "output_type": "pyout",
       "prompt_number": 20,
       "text": [
        "Seq('TCATGTGACCA', Alphabet())"
       ]
      }
     ],
     "prompt_number": 20
    },
    {
     "cell_type": "code",
     "collapsed": false,
     "input": [
      "my_seq_reverse = my_seq.reverse()"
     ],
     "language": "python",
     "metadata": {},
     "outputs": [
      {
       "ename": "AttributeError",
       "evalue": "'Seq' object has no attribute 'reverse'",
       "output_type": "pyerr",
       "traceback": [
        "\u001b[0;31m---------------------------------------------------------------------------\u001b[0m\n\u001b[0;31mAttributeError\u001b[0m                            Traceback (most recent call last)",
        "\u001b[0;32m<ipython-input-21-19227d583e10>\u001b[0m in \u001b[0;36m<module>\u001b[0;34m()\u001b[0m\n\u001b[0;32m----> 1\u001b[0;31m \u001b[0mmy_seq_reverse\u001b[0m \u001b[0;34m=\u001b[0m \u001b[0mmy_seq\u001b[0m\u001b[0;34m.\u001b[0m\u001b[0mreverse\u001b[0m\u001b[0;34m(\u001b[0m\u001b[0;34m)\u001b[0m\u001b[0;34m\u001b[0m\u001b[0m\n\u001b[0m",
        "\u001b[0;31mAttributeError\u001b[0m: 'Seq' object has no attribute 'reverse'"
       ]
      }
     ],
     "prompt_number": 21
    },
    {
     "cell_type": "code",
     "collapsed": false,
     "input": [
      "# .reverse() \ub77c\ub294 \ud568\uc218\uba85\uc774 \ud604\uc7ac\ub294 \uc874\uc7ac\ud558\uc9c0 \uc54a\ub294\uac83 \uac19\uc2b5\ub2c8\ub2e4. \ub2e4\uc74c\uc73c\ub85c \ub300\uccb4\uac00\ub2a5\ud569\ub2c8\ub2e4. "
     ],
     "language": "python",
     "metadata": {},
     "outputs": [],
     "prompt_number": 52
    },
    {
     "cell_type": "code",
     "collapsed": false,
     "input": [
      "my_seq_reverse = my_seq[::-1]"
     ],
     "language": "python",
     "metadata": {},
     "outputs": [],
     "prompt_number": 22
    },
    {
     "cell_type": "code",
     "collapsed": false,
     "input": [
      "my_seq_reverse "
     ],
     "language": "python",
     "metadata": {},
     "outputs": [
      {
       "metadata": {},
       "output_type": "pyout",
       "prompt_number": 23,
       "text": [
        "Seq('TGGTCACATGA', Alphabet())"
       ]
      }
     ],
     "prompt_number": 23
    },
    {
     "cell_type": "code",
     "collapsed": false,
     "input": [
      "my_seq_rc"
     ],
     "language": "python",
     "metadata": {},
     "outputs": [
      {
       "metadata": {},
       "output_type": "pyout",
       "prompt_number": 25,
       "text": [
        "Seq('ACCAGTGTACT', Alphabet())"
       ]
      }
     ],
     "prompt_number": 25
    },
    {
     "cell_type": "markdown",
     "metadata": {},
     "source": [
      "Nucleic acid code | Note| Nucleic acid code |Note\n",
      "--|--|--|--\n",
      "A |adenosine |K| G/T (keto)\n",
      "T |thymidine |M| A/C (amino)\n",
      "C |cytidine |R| G/A (purine)\n",
      "G |guanine |S| G/C (strong)\n",
      "N |A/G/C/T (any) |W| A/T (weak)\n",
      "U |uridine |B| G/T/C\n",
      "D |G/A/T |Y| T/C (pyrimidine)\n",
      "H |A/C/T |V| G/C/A"
     ]
    },
    {
     "cell_type": "code",
     "collapsed": false,
     "input": [
      "import os.path"
     ],
     "language": "python",
     "metadata": {},
     "outputs": [],
     "prompt_number": 3
    },
    {
     "cell_type": "code",
     "collapsed": false,
     "input": [
      "from Bio import SeqIO"
     ],
     "language": "python",
     "metadata": {},
     "outputs": [],
     "prompt_number": 4
    },
    {
     "cell_type": "markdown",
     "metadata": {},
     "source": [
      "\ud604\uc7ac\uacbd\ub85c \uc544\ub798 data\ud3f4\ub354\ub97c \ub9cc\ub4e4\uace0 \uadf8 \uc548\uc5d0 ls_orchid.fasta \ud30c\uc77c\uc744 \uc800\uc7a5\ud558\uace0 \ub2e4\uc74c\uc744 \uc2e4\ud589\ud558\uc138\uc694. "
     ]
    },
    {
     "cell_type": "markdown",
     "metadata": {},
     "source": [
      "http://www.dalkescientific.com/writings/NBN/data/ls_orchid.fasta"
     ]
    },
    {
     "cell_type": "code",
     "collapsed": false,
     "input": [
      "os.path.join(\"data\",\"ls_orchid.fasta\")"
     ],
     "language": "python",
     "metadata": {},
     "outputs": [
      {
       "metadata": {},
       "output_type": "pyout",
       "prompt_number": 26,
       "text": [
        "'data/ls_orchid.fasta'"
       ]
      }
     ],
     "prompt_number": 26
    },
    {
     "cell_type": "code",
     "collapsed": false,
     "input": [
      "for seq_record in SeqIO.parse(os.path.join(\"data\",\"ls_orchid.fasta\"),\"fasta\"):\n",
      "    print seq_record.id\n",
      "    print repr(seq_record.seq)\n",
      "    print len(seq_record)"
     ],
     "language": "python",
     "metadata": {},
     "outputs": [
      {
       "output_type": "stream",
       "stream": "stdout",
       "text": [
        "gi|2765658|emb|Z78533.1|CIZ78533\n",
        "Seq('CGTAACAAGGTTTCCGTAGGTGAACCTGCGGAAGGATCATTGATGAGACCGTGG...CGC', SingleLetterAlphabet())\n",
        "740\n",
        "gi|2765657|emb|Z78532.1|CCZ78532\n",
        "Seq('CGTAACAAGGTTTCCGTAGGTGAACCTGCGGAAGGATCATTGTTGAGACAACAG...GGC', SingleLetterAlphabet())\n",
        "753\n",
        "gi|2765656|emb|Z78531.1|CFZ78531\n",
        "Seq('CGTAACAAGGTTTCCGTAGGTGAACCTGCGGAAGGATCATTGTTGAGACAGCAG...TAA', SingleLetterAlphabet())\n",
        "748\n",
        "gi|2765655|emb|Z78530.1|CMZ78530\n",
        "Seq('CGTAACAAGGTTTCCGTAGGTGAACCTGCGGAAGGATCATTGTTGAAACAACAT...CAT', SingleLetterAlphabet())\n",
        "744\n",
        "gi|2765654|emb|Z78529.1|CLZ78529\n",
        "Seq('ACGGCGAGCTGCCGAAGGACATTGTTGAGACAGCAGAATATACGATTGAGTGAA...AAA', SingleLetterAlphabet())\n",
        "733\n",
        "gi|2765652|emb|Z78527.1|CYZ78527\n",
        "Seq('CGTAACAAGGTTTCCGTAGGTGAACCTGCGGAAGGATCATTGTTGAGACAGTAG...CCC', SingleLetterAlphabet())\n",
        "718\n",
        "gi|2765651|emb|Z78526.1|CGZ78526\n",
        "Seq('CGTAACAAGGTTTCCGTAGGTGAACCTGCGGAAGGATCATTGTTGAGACAGTAG...TGT', SingleLetterAlphabet())\n",
        "730\n",
        "gi|2765650|emb|Z78525.1|CAZ78525\n",
        "Seq('TGTTGAGATAGCAGAATATACATCGAGTGAATCCGGAGGACCTGTGGTTATTCG...GCA', SingleLetterAlphabet())\n",
        "704\n",
        "gi|2765649|emb|Z78524.1|CFZ78524\n",
        "Seq('CGTAACAAGGTTTCCGTAGGTGAACCTGCGGAAGGATCATTGTTGAGATAGTAG...AGC', SingleLetterAlphabet())\n",
        "740\n",
        "gi|2765648|emb|Z78523.1|CHZ78523\n",
        "Seq('CGTAACCAGGTTTCCGTAGGTGAACCTGCGGCAGGATCATTGTTGAGACAGCAG...AAG', SingleLetterAlphabet())\n",
        "709\n",
        "gi|2765647|emb|Z78522.1|CMZ78522\n",
        "Seq('CGTAACAAGGTTTCCGTAGGTGAACCTGCGGAAGGATCATTGTTGAGACAGCAG...GAG', SingleLetterAlphabet())\n",
        "700\n",
        "gi|2765646|emb|Z78521.1|CCZ78521\n",
        "Seq('GTAGGTGAACCTGCGGAAGGATCATTGTTGAGACAGTAGAATATATGATCGAGT...ACC', SingleLetterAlphabet())\n",
        "726\n",
        "gi|2765645|emb|Z78520.1|CSZ78520\n",
        "Seq('CGTAACAAGGTTTCCGTAGGTGAACCTGCGGAAGGATCATTGTTGAGACAGCAG...TTT', SingleLetterAlphabet())\n",
        "753\n",
        "gi|2765644|emb|Z78519.1|CPZ78519\n",
        "Seq('ATATGATCGAGTGAATCTGGTGGACTTGTGGTTACTCAGCTCGCCATAGGCTTT...TTA', SingleLetterAlphabet())\n",
        "699\n",
        "gi|2765643|emb|Z78518.1|CRZ78518\n",
        "Seq('CGTAACAAGGTTTCCGTAGGTGAACCTGCGGGAGGATCATTGTTGAGATAGTAG...TCC', SingleLetterAlphabet())\n",
        "658\n",
        "gi|2765642|emb|Z78517.1|CFZ78517\n",
        "Seq('CGTAACAAGGTTTCCGTAGGTGAACCTGCGGAAGGATCATTGTTGAGACAGTAG...AGC', SingleLetterAlphabet())\n",
        "752\n",
        "gi|2765641|emb|Z78516.1|CPZ78516\n",
        "Seq('CGTAACAAGGTTTCCGTAGGTGAACCTGCGGAAGGATCATTGTTGAGACAGTAT...TAA', SingleLetterAlphabet())\n",
        "726\n",
        "gi|2765640|emb|Z78515.1|MXZ78515\n",
        "Seq('CGTAACAAGGTTTCCGTAGGTGAACCTGCGGAAGGATCATTGCTGAGACCGTAG...AGC', SingleLetterAlphabet())\n",
        "765\n",
        "gi|2765639|emb|Z78514.1|PSZ78514\n",
        "Seq('CGTAACAAGGTTTCCGTAGGTGGACCTTCGGGAGGATCATTTTTGAAGCCCCCA...CTA', SingleLetterAlphabet())\n",
        "755\n",
        "gi|2765638|emb|Z78513.1|PBZ78513\n",
        "Seq('CGTAACAAGGTTTCCGTAGGTGAACCTGCGGAAGGATCATTGTTGAGACCGCCA...GAG', SingleLetterAlphabet())\n",
        "742\n",
        "gi|2765637|emb|Z78512.1|PWZ78512\n",
        "Seq('CGTAACAAGGTTTCCGTAGGTGGACCTTCGGGAGGATCATTTTTGAAGCCCCCA...AGC', SingleLetterAlphabet())\n",
        "762\n",
        "gi|2765636|emb|Z78511.1|PEZ78511\n",
        "Seq('CGTAACAAGGTTTCCGTAGGTGAACCTTCGGAAGGATCATTGTTGAGACCCCCA...GGA', SingleLetterAlphabet())\n",
        "745\n",
        "gi|2765635|emb|Z78510.1|PCZ78510\n",
        "Seq('CTAACCAGGGTTCCGAGGTGACCTTCGGGAGGATTCCTTTTTAAGCCCCCGAAA...TTA', SingleLetterAlphabet())\n",
        "750\n",
        "gi|2765634|emb|Z78509.1|PPZ78509\n",
        "Seq('CGTAACAAGGTTTCCGTAGGTGAACCTGCGGAAGGATCATTGTTGAGACCGCCA...GGA', SingleLetterAlphabet())\n",
        "731\n",
        "gi|2765633|emb|Z78508.1|PLZ78508\n",
        "Seq('CGTAACAAGGTTTCCGTAGGTGAACCTGCGGAAGGATCATTGTTGAGACCGCCA...TGA', SingleLetterAlphabet())\n",
        "741\n",
        "gi|2765632|emb|Z78507.1|PLZ78507\n",
        "Seq('CGTAACAAGGTTTCCGTAGGTGAACCTGCGGAAGGATCATTGTTGAGACCCCCA...TGA', SingleLetterAlphabet())\n",
        "740\n",
        "gi|2765631|emb|Z78506.1|PLZ78506\n",
        "Seq('CGTAACAAGGTTTCCGTAGGTGAACCTGCGGAAGGATCATTGTTGAGACCGCAA...TGA', SingleLetterAlphabet())\n",
        "727\n",
        "gi|2765630|emb|Z78505.1|PSZ78505\n",
        "Seq('CGTAACAAGGTTTCCGTAGGTGAACCTGCGGAAGGATCATTGTTGAGACCGCCA...TTT', SingleLetterAlphabet())\n",
        "711\n",
        "gi|2765629|emb|Z78504.1|PKZ78504\n",
        "Seq('CGTAACAAGGTTTCCGTAGGTGAACCTTCGGAAGGATCATTGTTGAGACCGCAA...TAA', SingleLetterAlphabet())\n",
        "743\n",
        "gi|2765628|emb|Z78503.1|PCZ78503\n",
        "Seq('CGTAACCAGGTTTCCGTAGGTGAACCTCCGGAAGGATCCTTGTTGAGACCGCCA...TAA', SingleLetterAlphabet())\n",
        "727\n",
        "gi|2765627|emb|Z78502.1|PBZ78502\n",
        "Seq('CGTAACCAGGTTTCCGTAGGTGAACCTCCGGAAGGATCATTGTTGAGACCGCCA...CGC', SingleLetterAlphabet())\n",
        "757\n",
        "gi|2765626|emb|Z78501.1|PCZ78501\n",
        "Seq('CGTAACAAGGTTTCCGTAGGTGAACCTGCGGAAGGATCATTGTTGAGACCGCAA...AGA', SingleLetterAlphabet())\n",
        "770\n",
        "gi|2765625|emb|Z78500.1|PWZ78500\n",
        "Seq('CGTAACAAGGTTTCCGTAGGTGAACCTGCGGAAGGCTCATTGTTGAGACCGCAA...AAG', SingleLetterAlphabet())\n",
        "767\n",
        "gi|2765624|emb|Z78499.1|PMZ78499\n",
        "Seq('CGTAACAAGGTTTCCGTAGGTGAACCTGCGGAGGGATCATTGTTGAGATCGCAT...ACC', SingleLetterAlphabet())\n",
        "759\n",
        "gi|2765623|emb|Z78498.1|PMZ78498\n",
        "Seq('CGTAACAAGGTTTCCGTAGGTGAACCTGCGGAAAGGTCATTGTTGAGATCACAT...AGC', SingleLetterAlphabet())\n",
        "750\n",
        "gi|2765622|emb|Z78497.1|PDZ78497\n",
        "Seq('CGTAACAAGGTTTCCGTAGGTGAACCTGCGGAAGGATCATTGTTGAGATCACAT...AGC', SingleLetterAlphabet())\n",
        "788\n",
        "gi|2765621|emb|Z78496.1|PAZ78496\n",
        "Seq('CGTAACAAGGTTTCCGTAGGTGAACCTGCGGAAGGATCATTGTTGAGATCGCAT...AGC', SingleLetterAlphabet())\n",
        "774\n",
        "gi|2765620|emb|Z78495.1|PEZ78495\n",
        "Seq('CGTAACAAGGTTTCCGTAGGTGAACCTCCGGAAGGATCATTGTTGAGATCACAT...GTG', SingleLetterAlphabet())\n",
        "789\n",
        "gi|2765619|emb|Z78494.1|PNZ78494\n",
        "Seq('CGTAACAAGGTTTCCGTAGGTGAACCTGCGGAAGGATCATTGTTGAGGTCGCAT...AAG', SingleLetterAlphabet())\n",
        "688\n",
        "gi|2765618|emb|Z78493.1|PGZ78493\n",
        "Seq('CGTAACAAGGATTCCGTAGGTGAACCTGCGGAAGGATCATTGTTGAGATCGCAT...CCC', SingleLetterAlphabet())\n",
        "719\n",
        "gi|2765617|emb|Z78492.1|PBZ78492\n",
        "Seq('CGTAACAAGGTTTCCGTAGGTGAACCTGCGGAAGGATCATTGTTGAGATCGCAT...ATA', SingleLetterAlphabet())\n",
        "743\n",
        "gi|2765616|emb|Z78491.1|PCZ78491\n",
        "Seq('CGTAACAAGGTTTCCGTAGGTGAACCTGCGGAAGGATCATTGTTGAGATCGCAT...AGC', SingleLetterAlphabet())\n",
        "737\n",
        "gi|2765615|emb|Z78490.1|PFZ78490\n",
        "Seq('CGTAACAAGGTTTCCGTAGGTGAACCTGCGGAAGGATCATTGTTGAGATCACAT...TGA', SingleLetterAlphabet())\n",
        "728\n",
        "gi|2765614|emb|Z78489.1|PDZ78489\n",
        "Seq('CGTAACAAGGTTTCCGTAGGTGAACCTGCGGAAGGATCATTGTTGAGATCACAT...GGC', SingleLetterAlphabet())\n",
        "740\n",
        "gi|2765613|emb|Z78488.1|PTZ78488\n",
        "Seq('CTGTAGGTGAACCTGCGGAAGGATCATTGTTGAGATCACGCAATAATTGATCGA...GCT', SingleLetterAlphabet())\n",
        "696\n",
        "gi|2765612|emb|Z78487.1|PHZ78487\n",
        "Seq('CGTAACAAGGTTTCCGTAGGTGAACCTGCGGAAGGATCATTGTTGAGATCACAT...TAA', SingleLetterAlphabet())\n",
        "732\n",
        "gi|2765611|emb|Z78486.1|PBZ78486\n",
        "Seq('CGTCACGAGGTTTCCGTAGGTGAATCTGCGGGAGGATCATTGTTGAGATCACAT...TGA', SingleLetterAlphabet())\n",
        "731\n",
        "gi|2765610|emb|Z78485.1|PHZ78485\n",
        "Seq('CTGAACCTGGTGTCCGAAGGTGAATCTGCGGATGGATCATTGTTGAGATATCAT...GTA', SingleLetterAlphabet())\n",
        "735\n",
        "gi|2765609|emb|Z78484.1|PCZ78484\n",
        "Seq('CGTAACAAGGTTTCCGTAGGTGAACCTGGGGAAGGATCATTGTTGAGATCACAT...TTT', SingleLetterAlphabet())\n",
        "720\n",
        "gi|2765608|emb|Z78483.1|PVZ78483\n",
        "Seq('CGTAACAAGGTTTCCGTAGGTGAACCTGCGGAAGGATCATTGTTGAGATCACAT...GCA', SingleLetterAlphabet())\n",
        "740\n",
        "gi|2765607|emb|Z78482.1|PEZ78482\n",
        "Seq('TCTACTGCAGTGACCGAGATTTGCCATCGAGCCTCCTGGGAGCTTTCTTGCTGG...GCA', SingleLetterAlphabet())\n",
        "629\n",
        "gi|2765606|emb|Z78481.1|PIZ78481\n",
        "Seq('CGTAACAAGGTTTCCGTAGGTGAACCTGCGGAAGGATCATTGTTGAGATCACAT...TGA', SingleLetterAlphabet())\n",
        "572\n",
        "gi|2765605|emb|Z78480.1|PGZ78480\n",
        "Seq('CGTAACAAGGTTTCCGTAGGTGAACCTGCGGAAGGATCATTGTTGAGATCACAT...TGA', SingleLetterAlphabet())\n",
        "587\n",
        "gi|2765604|emb|Z78479.1|PPZ78479\n",
        "Seq('CGTAACAAGGTTTCCGTAGGTGAACCTGCGGAAGGATCATTGTTGAGATCACAT...AGT', SingleLetterAlphabet())\n",
        "700\n",
        "gi|2765603|emb|Z78478.1|PVZ78478\n",
        "Seq('CGTAACAAGGTTTCCGTAGGTGAACCTCCGGAAGGATCAGTGTTGAGATCACAT...GGC', SingleLetterAlphabet())\n",
        "636\n",
        "gi|2765602|emb|Z78477.1|PVZ78477\n",
        "Seq('CGTAACAAGGTTTCCGTAGGTGAACCTGCGGAAGGATCATTGTTGAGATCACAT...TGC', SingleLetterAlphabet())\n",
        "716\n",
        "gi|2765601|emb|Z78476.1|PGZ78476\n",
        "Seq('CGTAACAAGGTTTCCGTAGGTGAACCTGCGGAAGGATCATTGTTGAGATCACAT...CCC', SingleLetterAlphabet())\n",
        "592\n",
        "gi|2765600|emb|Z78475.1|PSZ78475\n",
        "Seq('CGTAACAAGGTTTCCGTAGGTGAACCTGCGGAAGGATCATTGTTGAGATCACAT...GGT', SingleLetterAlphabet())\n",
        "716\n",
        "gi|2765599|emb|Z78474.1|PKZ78474\n",
        "Seq('CGTAACAAGGTTTCCGTAGGTGAACCTGCGGAAGGATCATTGTTGAGATCACGT...CTT', SingleLetterAlphabet())\n",
        "733\n",
        "gi|2765598|emb|Z78473.1|PSZ78473\n",
        "Seq('CGTAACAAGGTTTCCGTAGGTGAACCTGCGGAAGGATCATTGTTGAGATCACAT...AGG', SingleLetterAlphabet())\n",
        "626\n",
        "gi|2765597|emb|Z78472.1|PLZ78472\n",
        "Seq('CGTAACAAGGTTTCCGTAGGTGAACCTGCGGAAGGATCATTGTTGAGATCACAT...AGC', SingleLetterAlphabet())\n",
        "737\n",
        "gi|2765596|emb|Z78471.1|PDZ78471\n",
        "Seq('CGTAACAAGGTTTCCGTAGGTGAACCTGCGGAAGGATCATTGTTGAGATCACAT...AGC', SingleLetterAlphabet())\n",
        "740\n",
        "gi|2765595|emb|Z78470.1|PPZ78470\n",
        "Seq('CGTAACAAGGTTTCCGTAGGTGAACCTGCGGAAGGATCATTGTTGAGATCACAT...GTT', SingleLetterAlphabet())\n",
        "574\n",
        "gi|2765594|emb|Z78469.1|PHZ78469\n",
        "Seq('CGTAACAAGGTTTCCGTAGGTGAACCTGCGGAAGGATCATTGTTGAGATCACAT...GTT', SingleLetterAlphabet())\n",
        "594\n",
        "gi|2765593|emb|Z78468.1|PAZ78468\n",
        "Seq('CGTAACAAGGTTTCCGTAGGTGAACCTGCGGAAGGATCATTGTTGAGATCGCAT...GTT', SingleLetterAlphabet())\n",
        "610\n",
        "gi|2765592|emb|Z78467.1|PSZ78467\n",
        "Seq('CGTAACAAGGTTTCCGTAGGTGAACCTGCGGAAGGATCATTGTTGAGATCACAT...TGA', SingleLetterAlphabet())\n",
        "730\n",
        "gi|2765591|emb|Z78466.1|PPZ78466\n",
        "Seq('CGTAACAAGGTTTCCGTAGGTGAACCTGCGGAAGGATCATTGTTGAGATCACAT...CCC', SingleLetterAlphabet())\n",
        "641\n",
        "gi|2765590|emb|Z78465.1|PRZ78465\n",
        "Seq('CGTAACAAGGTTTCCGTAGGTGAACCTGCGGAAGGATCATTGTTGAGATCACAT...TGC', SingleLetterAlphabet())\n",
        "702\n",
        "gi|2765589|emb|Z78464.1|PGZ78464\n",
        "Seq('CGTAACAAGGTTTCCGTAGGTGAGCGGAAGGGTCATTGTTGAGATCACATAATA...AGC', SingleLetterAlphabet())\n",
        "733\n",
        "gi|2765588|emb|Z78463.1|PGZ78463\n",
        "Seq('CGTAACAAGGTTTCCGTAGGTGAACCTGCGGAAGGTTCATTGTTGAGATCACAT...AGC', SingleLetterAlphabet())\n",
        "738\n",
        "gi|2765587|emb|Z78462.1|PSZ78462\n",
        "Seq('CGTCACGAGGTCTCCGGATGTGACCCTGCGGAAGGATCATTGTTGAGATCACAT...CAT', SingleLetterAlphabet())\n",
        "736\n",
        "gi|2765586|emb|Z78461.1|PWZ78461\n",
        "Seq('CGTAACAAGGTTTCCGTAGGTGAACCTCCGGAAGGATCATTGTTGAGATCACAT...TAA', SingleLetterAlphabet())\n",
        "732\n",
        "gi|2765585|emb|Z78460.1|PCZ78460\n",
        "Seq('CGTAACAAGGTTTCCGTAGGTGAACCTCCGGAAGGATCATTGTTGAGATCACAT...TTA', SingleLetterAlphabet())\n",
        "745\n",
        "gi|2765584|emb|Z78459.1|PDZ78459\n",
        "Seq('CGTAACAAGGTTTCCGTAGGTGAACCTGCGGAAGGATCATTGTTGAGATCACAT...TTT', SingleLetterAlphabet())\n",
        "744\n",
        "gi|2765583|emb|Z78458.1|PHZ78458\n",
        "Seq('CGTAACAAGGTTTCCGTAGGTGAACCTGCGGAAGGATCATTGTTGAGATCACAT...TTG', SingleLetterAlphabet())\n",
        "738\n",
        "gi|2765582|emb|Z78457.1|PCZ78457\n",
        "Seq('CGTAACAAGGTTTCCGTAGGTGAACCTCCGGAAGGATCATTGTTGAGATCACAT...GAG', SingleLetterAlphabet())\n",
        "739\n",
        "gi|2765581|emb|Z78456.1|PTZ78456\n",
        "Seq('CGTAACAAGGTTTCCGTAGGTGAACCTGCGGAAGGATCATTGTTGAGATCACAT...AGC', SingleLetterAlphabet())\n",
        "740\n",
        "gi|2765580|emb|Z78455.1|PJZ78455\n",
        "Seq('CGTAACCAGGTTTCCGTAGGTGGACCTTCGGGAGGATCATTTTTGAGATCACAT...GCA', SingleLetterAlphabet())\n",
        "745\n",
        "gi|2765579|emb|Z78454.1|PFZ78454\n",
        "Seq('CGTAACAAGGTTTCCGTAGGTGAACCTGCGGAAGGATCATTGTTGAGATCACAT...AAC', SingleLetterAlphabet())\n",
        "695\n",
        "gi|2765578|emb|Z78453.1|PSZ78453\n",
        "Seq('CGTAACAAGGTTTCCGTAGGTGAACCTGCGGAAGGATCATTGTTGAGATCACAT...GCA', SingleLetterAlphabet())\n",
        "745\n",
        "gi|2765577|emb|Z78452.1|PBZ78452\n",
        "Seq('CGTAACAAGGTTTCCGTAGGTGAACCTGCGGAAGGATCATTGTTGAGATCACAT...GCA', SingleLetterAlphabet())\n",
        "743\n",
        "gi|2765576|emb|Z78451.1|PHZ78451\n",
        "Seq('CGTAACAAGGTTTCCGTAGGTGTACCTCCGGAAGGATCATTGTTGAGATCACAT...AGC', SingleLetterAlphabet())\n",
        "730\n",
        "gi|2765575|emb|Z78450.1|PPZ78450\n",
        "Seq('GGAAGGATCATTGCTGATATCACATAATAATTGATCGAGTTAAGCTGGAGGATC...GAG', SingleLetterAlphabet())\n",
        "706\n",
        "gi|2765574|emb|Z78449.1|PMZ78449\n",
        "Seq('CGTAACAAGGTTTCCGTAGGTGAACCTGCGGAAGGATCATTGTTGAGATCACAT...TGC', SingleLetterAlphabet())\n",
        "744\n",
        "gi|2765573|emb|Z78448.1|PAZ78448\n",
        "Seq('CGTAACAAGGTTTCCGTAGGTGAACCTGCGGAAGGATCATTGTTGAGATCACAT...AGG', SingleLetterAlphabet())\n",
        "742\n",
        "gi|2765572|emb|Z78447.1|PVZ78447\n",
        "Seq('CGTAACAAGGATTCCGTAGGTGAACCTGCGGGAGGATCATTGTTGAGATCACAT...AGC', SingleLetterAlphabet())\n",
        "694\n",
        "gi|2765571|emb|Z78446.1|PAZ78446\n",
        "Seq('CGTAACAAGGTTTCCGTAGGTGAACCTCCGGAAGGATCATTGTTGAGATCACAT...CCC', SingleLetterAlphabet())\n",
        "712\n",
        "gi|2765570|emb|Z78445.1|PUZ78445\n",
        "Seq('CGTAACAAGGTTTCCGTAGGTGAACCTGCGGAAGGATCATTGTTGAGATCACAT...TGT', SingleLetterAlphabet())\n",
        "715\n",
        "gi|2765569|emb|Z78444.1|PAZ78444\n",
        "Seq('CGTAACAAGGTTTCCGTAGGGTGAACTGCGGAAGGATCATTGTTGAGATCACAT...ATT', SingleLetterAlphabet())\n",
        "688\n",
        "gi|2765568|emb|Z78443.1|PLZ78443\n",
        "Seq('CGTAACAAGGTTTCCGTAGGTGAACCTGCGGAAGGATCATTGTTGAGATCACAT...AGG', SingleLetterAlphabet())\n",
        "784\n",
        "gi|2765567|emb|Z78442.1|PBZ78442\n",
        "Seq('GTAGGTGAACCTGCGGAAGGATCATTGTTGAGATCACATAATAATTGATCGAGT...AGT', SingleLetterAlphabet())\n",
        "721\n",
        "gi|2765566|emb|Z78441.1|PSZ78441\n",
        "Seq('GGAAGGTCATTGCCGATATCACATAATAATTGATCGAGTTAATCTGGAGGATCT...GAG', SingleLetterAlphabet())\n",
        "703\n",
        "gi|2765565|emb|Z78440.1|PPZ78440\n",
        "Seq('CGTAACAAGGTTTCCGTAGGTGGACCTCCGGGAGGATCATTGTTGAGATCACAT...GCA', SingleLetterAlphabet())\n",
        "744\n",
        "gi|2765564|emb|Z78439.1|PBZ78439\n",
        "Seq('CATTGTTGAGATCACATAATAATTGATCGAGTTAATCTGGAGGATCTGTTTACT...GCC', SingleLetterAlphabet())\n",
        "592\n"
       ]
      }
     ],
     "prompt_number": 24
    },
    {
     "cell_type": "markdown",
     "metadata": {},
     "source": [
      "\uc704\uc758 code\uc758 \ub0b4\uc6a9\uc740 \ub2e4\uc74c\uacfc \ub3d9\uc77c\ud569\ub2c8\ub2e4. "
     ]
    },
    {
     "cell_type": "code",
     "collapsed": false,
     "input": [
      "for seq_record in SeqIO.parse(\"./data/ls_orchid.fasta\",\"fasta\"):\n",
      "    print seq_record.id\n",
      "    print repr(seq_record.seq)\n",
      "    print len(seq_record)"
     ],
     "language": "python",
     "metadata": {},
     "outputs": []
    },
    {
     "cell_type": "code",
     "collapsed": false,
     "input": [
      "print seq_record"
     ],
     "language": "python",
     "metadata": {},
     "outputs": [
      {
       "output_type": "stream",
       "stream": "stdout",
       "text": [
        "ID: gi|2765564|emb|Z78439.1|PBZ78439\n",
        "Name: gi|2765564|emb|Z78439.1|PBZ78439\n",
        "Description: gi|2765564|emb|Z78439.1|PBZ78439 P.barbatum 5.8S rRNA gene and ITS1 and ITS2 DNA\n",
        "Number of features: 0\n",
        "Seq('CATTGTTGAGATCACATAATAATTGATCGAGTTAATCTGGAGGATCTGTTTACT...GCC', SingleLetterAlphabet())\n"
       ]
      }
     ],
     "prompt_number": 43
    },
    {
     "cell_type": "code",
     "collapsed": false,
     "input": [
      "print seq_record.id"
     ],
     "language": "python",
     "metadata": {},
     "outputs": [
      {
       "output_type": "stream",
       "stream": "stdout",
       "text": [
        "gi|2765564|emb|Z78439.1|PBZ78439\n"
       ]
      }
     ],
     "prompt_number": 7
    },
    {
     "cell_type": "code",
     "collapsed": false,
     "input": [
      "print repr(seq_record.seq)"
     ],
     "language": "python",
     "metadata": {},
     "outputs": [
      {
       "output_type": "stream",
       "stream": "stdout",
       "text": [
        "Seq('CATTGTTGAGATCACATAATAATTGATCGAGTTAATCTGGAGGATCTGTTTACT...GCC', SingleLetterAlphabet())\n"
       ]
      }
     ],
     "prompt_number": 8
    },
    {
     "cell_type": "code",
     "collapsed": false,
     "input": [
      "print len(seq_record)"
     ],
     "language": "python",
     "metadata": {},
     "outputs": [
      {
       "output_type": "stream",
       "stream": "stdout",
       "text": [
        "592\n"
       ]
      }
     ],
     "prompt_number": 9
    },
    {
     "cell_type": "code",
     "collapsed": false,
     "input": [
      "dir(seq_record)"
     ],
     "language": "python",
     "metadata": {},
     "outputs": [
      {
       "metadata": {},
       "output_type": "pyout",
       "prompt_number": 8,
       "text": [
        "['__add__',\n",
        " '__class__',\n",
        " '__contains__',\n",
        " '__delattr__',\n",
        " '__dict__',\n",
        " '__doc__',\n",
        " '__format__',\n",
        " '__getattribute__',\n",
        " '__getitem__',\n",
        " '__hash__',\n",
        " '__init__',\n",
        " '__iter__',\n",
        " '__len__',\n",
        " '__module__',\n",
        " '__new__',\n",
        " '__nonzero__',\n",
        " '__radd__',\n",
        " '__reduce__',\n",
        " '__reduce_ex__',\n",
        " '__repr__',\n",
        " '__setattr__',\n",
        " '__sizeof__',\n",
        " '__str__',\n",
        " '__subclasshook__',\n",
        " '__weakref__',\n",
        " '_per_letter_annotations',\n",
        " '_seq',\n",
        " '_set_per_letter_annotations',\n",
        " '_set_seq',\n",
        " 'annotations',\n",
        " 'dbxrefs',\n",
        " 'description',\n",
        " 'features',\n",
        " 'format',\n",
        " 'id',\n",
        " 'letter_annotations',\n",
        " 'lower',\n",
        " 'name',\n",
        " 'reverse_complement',\n",
        " 'seq',\n",
        " 'upper']"
       ]
      }
     ],
     "prompt_number": 8
    },
    {
     "cell_type": "code",
     "collapsed": false,
     "input": [
      "seq_record"
     ],
     "language": "python",
     "metadata": {},
     "outputs": [
      {
       "metadata": {},
       "output_type": "pyout",
       "prompt_number": 46,
       "text": [
        "SeqRecord(seq=Seq('CATTGTTGAGATCACATAATAATTGATCGAGTTAATCTGGAGGATCTGTTTACT...GCC', SingleLetterAlphabet()), id='gi|2765564|emb|Z78439.1|PBZ78439', name='gi|2765564|emb|Z78439.1|PBZ78439', description='gi|2765564|emb|Z78439.1|PBZ78439 P.barbatum 5.8S rRNA gene and ITS1 and ITS2 DNA', dbxrefs=[])"
       ]
      }
     ],
     "prompt_number": 46
    },
    {
     "cell_type": "code",
     "collapsed": false,
     "input": [
      "seq_record.reverse_complement()"
     ],
     "language": "python",
     "metadata": {},
     "outputs": [
      {
       "metadata": {},
       "output_type": "pyout",
       "prompt_number": 49,
       "text": [
        "SeqRecord(seq=Seq('GGCCCAACTAAACGGCCAACCGGGGCATTTGCACAACAATTTTGTTGTAGCATA...ATG', SingleLetterAlphabet()), id='<unknown id>', name='<unknown name>', description='<unknown description>', dbxrefs=[])"
       ]
      }
     ],
     "prompt_number": 49
    },
    {
     "cell_type": "code",
     "collapsed": false,
     "input": [
      "seq_record.reverse_complement(id='qwe4')"
     ],
     "language": "python",
     "metadata": {},
     "outputs": [
      {
       "metadata": {},
       "output_type": "pyout",
       "prompt_number": 44,
       "text": [
        "SeqRecord(seq=Seq('GGCCCAACTAAACGGCCAACCGGGGCATTTGCACAACAATTTTGTTGTAGCATA...ATG', SingleLetterAlphabet()), id='qwe4', name='<unknown name>', description='<unknown description>', dbxrefs=[])"
       ]
      }
     ],
     "prompt_number": 44
    },
    {
     "cell_type": "code",
     "collapsed": false,
     "input": [
      "seq_record.reverse_complement(id='newid', name='newname', description='newdescription')"
     ],
     "language": "python",
     "metadata": {},
     "outputs": [
      {
       "metadata": {},
       "output_type": "pyout",
       "prompt_number": 51,
       "text": [
        "SeqRecord(seq=Seq('GGCCCAACTAAACGGCCAACCGGGGCATTTGCACAACAATTTTGTTGTAGCATA...ATG', SingleLetterAlphabet()), id='newid', name='newname', description='newdescription', dbxrefs=[])"
       ]
      }
     ],
     "prompt_number": 51
    },
    {
     "cell_type": "code",
     "collapsed": false,
     "input": [
      "seq_record.description"
     ],
     "language": "python",
     "metadata": {},
     "outputs": [
      {
       "metadata": {},
       "output_type": "pyout",
       "prompt_number": 53,
       "text": [
        "'gi|2765564|emb|Z78439.1|PBZ78439 P.barbatum 5.8S rRNA gene and ITS1 and ITS2 DNA'"
       ]
      }
     ],
     "prompt_number": 53
    },
    {
     "cell_type": "code",
     "collapsed": false,
     "input": [
      "seq_record.name"
     ],
     "language": "python",
     "metadata": {},
     "outputs": [
      {
       "metadata": {},
       "output_type": "pyout",
       "prompt_number": 26,
       "text": [
        "'gi|2765564|emb|Z78439.1|PBZ78439'"
       ]
      }
     ],
     "prompt_number": 26
    },
    {
     "cell_type": "code",
     "collapsed": false,
     "input": [
      "seq_record.name.split('|')"
     ],
     "language": "python",
     "metadata": {},
     "outputs": [
      {
       "metadata": {},
       "output_type": "pyout",
       "prompt_number": 32,
       "text": [
        "['gi', '2765564', 'emb', 'Z78439.1', 'PBZ78439']"
       ]
      }
     ],
     "prompt_number": 32
    },
    {
     "cell_type": "code",
     "collapsed": false,
     "input": [
      "seq_record.name.split('|')[:2]"
     ],
     "language": "python",
     "metadata": {},
     "outputs": [
      {
       "metadata": {},
       "output_type": "pyout",
       "prompt_number": 33,
       "text": [
        "['gi', '2765564']"
       ]
      }
     ],
     "prompt_number": 33
    },
    {
     "cell_type": "code",
     "collapsed": false,
     "input": [
      "''.join(seq_record.name.split('|')[:2])"
     ],
     "language": "python",
     "metadata": {},
     "outputs": [
      {
       "metadata": {},
       "output_type": "pyout",
       "prompt_number": 34,
       "text": [
        "'gi2765564'"
       ]
      }
     ],
     "prompt_number": 34
    },
    {
     "cell_type": "code",
     "collapsed": false,
     "input": [
      "type(seq_record)"
     ],
     "language": "python",
     "metadata": {},
     "outputs": [
      {
       "metadata": {},
       "output_type": "pyout",
       "prompt_number": 60,
       "text": [
        "Bio.SeqRecord.SeqRecord"
       ]
      }
     ],
     "prompt_number": 60
    },
    {
     "cell_type": "code",
     "collapsed": false,
     "input": [
      "dir(seq_record)"
     ],
     "language": "python",
     "metadata": {},
     "outputs": [
      {
       "metadata": {},
       "output_type": "pyout",
       "prompt_number": 65,
       "text": [
        "['__add__',\n",
        " '__class__',\n",
        " '__contains__',\n",
        " '__delattr__',\n",
        " '__dict__',\n",
        " '__doc__',\n",
        " '__format__',\n",
        " '__getattribute__',\n",
        " '__getitem__',\n",
        " '__hash__',\n",
        " '__init__',\n",
        " '__iter__',\n",
        " '__len__',\n",
        " '__module__',\n",
        " '__new__',\n",
        " '__nonzero__',\n",
        " '__radd__',\n",
        " '__reduce__',\n",
        " '__reduce_ex__',\n",
        " '__repr__',\n",
        " '__setattr__',\n",
        " '__sizeof__',\n",
        " '__str__',\n",
        " '__subclasshook__',\n",
        " '__weakref__',\n",
        " '_per_letter_annotations',\n",
        " '_seq',\n",
        " '_set_per_letter_annotations',\n",
        " '_set_seq',\n",
        " 'annotations',\n",
        " 'dbxrefs',\n",
        " 'description',\n",
        " 'features',\n",
        " 'format',\n",
        " 'id',\n",
        " 'letter_annotations',\n",
        " 'lower',\n",
        " 'name',\n",
        " 'reverse_complement',\n",
        " 'seq',\n",
        " 'upper']"
       ]
      }
     ],
     "prompt_number": 65
    },
    {
     "cell_type": "heading",
     "level": 2,
     "metadata": {},
     "source": [
      "4.13.2 Biopython - sequences and alphabets"
     ]
    },
    {
     "cell_type": "heading",
     "level": 3,
     "metadata": {},
     "source": [
      "The Sequence object"
     ]
    },
    {
     "cell_type": "code",
     "collapsed": false,
     "input": [
      "from Bio.Seq import Seq"
     ],
     "language": "python",
     "metadata": {},
     "outputs": [],
     "prompt_number": 5
    },
    {
     "cell_type": "code",
     "collapsed": false,
     "input": [
      "from Bio.Alphabet import IUPAC"
     ],
     "language": "python",
     "metadata": {},
     "outputs": [],
     "prompt_number": 6
    },
    {
     "cell_type": "code",
     "collapsed": false,
     "input": [
      "my_seq = Seq(\"AGTACACTGGT\", IUPAC.unambiguous_dna)"
     ],
     "language": "python",
     "metadata": {},
     "outputs": [],
     "prompt_number": 66
    },
    {
     "cell_type": "code",
     "collapsed": false,
     "input": [
      "my_seq = Seq(\"AGTACACTGGT\", IUPAC.unambiguous_rna)"
     ],
     "language": "python",
     "metadata": {},
     "outputs": []
    },
    {
     "cell_type": "markdown",
     "metadata": {},
     "source": [
      "http://www.dnabaser.com/articles/IUPAC%20ambiguity%20codes.html"
     ]
    },
    {
     "cell_type": "code",
     "collapsed": false,
     "input": [
      "type(my_seq)"
     ],
     "language": "python",
     "metadata": {},
     "outputs": [
      {
       "metadata": {},
       "output_type": "pyout",
       "prompt_number": 67,
       "text": [
        "Bio.Seq.Seq"
       ]
      }
     ],
     "prompt_number": 67
    },
    {
     "cell_type": "code",
     "collapsed": false,
     "input": [
      "dir(my_seq)"
     ],
     "language": "python",
     "metadata": {},
     "outputs": [
      {
       "metadata": {},
       "output_type": "pyout",
       "prompt_number": 68,
       "text": [
        "['__add__',\n",
        " '__class__',\n",
        " '__cmp__',\n",
        " '__contains__',\n",
        " '__delattr__',\n",
        " '__dict__',\n",
        " '__doc__',\n",
        " '__format__',\n",
        " '__getattribute__',\n",
        " '__getitem__',\n",
        " '__hash__',\n",
        " '__init__',\n",
        " '__len__',\n",
        " '__module__',\n",
        " '__new__',\n",
        " '__radd__',\n",
        " '__reduce__',\n",
        " '__reduce_ex__',\n",
        " '__repr__',\n",
        " '__setattr__',\n",
        " '__sizeof__',\n",
        " '__str__',\n",
        " '__subclasshook__',\n",
        " '__weakref__',\n",
        " '_data',\n",
        " '_get_seq_str_and_check_alphabet',\n",
        " 'alphabet',\n",
        " 'back_transcribe',\n",
        " 'complement',\n",
        " 'count',\n",
        " 'endswith',\n",
        " 'find',\n",
        " 'lower',\n",
        " 'lstrip',\n",
        " 'reverse_complement',\n",
        " 'rfind',\n",
        " 'rsplit',\n",
        " 'rstrip',\n",
        " 'split',\n",
        " 'startswith',\n",
        " 'strip',\n",
        " 'tomutable',\n",
        " 'tostring',\n",
        " 'transcribe',\n",
        " 'translate',\n",
        " 'ungap',\n",
        " 'upper']"
       ]
      }
     ],
     "prompt_number": 68
    },
    {
     "cell_type": "code",
     "collapsed": false,
     "input": [
      "my_seq"
     ],
     "language": "python",
     "metadata": {},
     "outputs": [
      {
       "metadata": {},
       "output_type": "pyout",
       "prompt_number": 24,
       "text": [
        "Seq('AGTACACTGGT', IUPACUnambiguousDNA())"
       ]
      }
     ],
     "prompt_number": 24
    },
    {
     "cell_type": "code",
     "collapsed": false,
     "input": [
      "my_seq.alphabet"
     ],
     "language": "python",
     "metadata": {},
     "outputs": [
      {
       "metadata": {},
       "output_type": "pyout",
       "prompt_number": 25,
       "text": [
        "IUPACUnambiguousDNA()"
       ]
      }
     ],
     "prompt_number": 25
    },
    {
     "cell_type": "code",
     "collapsed": false,
     "input": [
      "dir(my_seq)"
     ],
     "language": "python",
     "metadata": {},
     "outputs": [
      {
       "metadata": {},
       "output_type": "pyout",
       "prompt_number": 27,
       "text": [
        "['__add__',\n",
        " '__class__',\n",
        " '__cmp__',\n",
        " '__contains__',\n",
        " '__delattr__',\n",
        " '__dict__',\n",
        " '__doc__',\n",
        " '__format__',\n",
        " '__getattribute__',\n",
        " '__getitem__',\n",
        " '__hash__',\n",
        " '__init__',\n",
        " '__len__',\n",
        " '__module__',\n",
        " '__new__',\n",
        " '__radd__',\n",
        " '__reduce__',\n",
        " '__reduce_ex__',\n",
        " '__repr__',\n",
        " '__setattr__',\n",
        " '__sizeof__',\n",
        " '__str__',\n",
        " '__subclasshook__',\n",
        " '__weakref__',\n",
        " '_data',\n",
        " '_get_seq_str_and_check_alphabet',\n",
        " 'alphabet',\n",
        " 'back_transcribe',\n",
        " 'complement',\n",
        " 'count',\n",
        " 'endswith',\n",
        " 'find',\n",
        " 'lower',\n",
        " 'lstrip',\n",
        " 'reverse_complement',\n",
        " 'rfind',\n",
        " 'rsplit',\n",
        " 'rstrip',\n",
        " 'split',\n",
        " 'startswith',\n",
        " 'strip',\n",
        " 'tomutable',\n",
        " 'tostring',\n",
        " 'transcribe',\n",
        " 'translate',\n",
        " 'ungap',\n",
        " 'upper']"
       ]
      }
     ],
     "prompt_number": 27
    },
    {
     "cell_type": "code",
     "collapsed": false,
     "input": [
      "for letter in my_seq :\n",
      "    print letter,"
     ],
     "language": "python",
     "metadata": {},
     "outputs": [
      {
       "output_type": "stream",
       "stream": "stdout",
       "text": [
        "A\n",
        "G\n",
        "T\n",
        "A\n",
        "C\n",
        "A\n",
        "C\n",
        "T\n",
        "G\n",
        "G\n",
        "T\n"
       ]
      }
     ],
     "prompt_number": 29
    },
    {
     "cell_type": "code",
     "collapsed": false,
     "input": [
      "for letter in my_seq :\n",
      "    print letter,"
     ],
     "language": "python",
     "metadata": {},
     "outputs": [
      {
       "output_type": "stream",
       "stream": "stdout",
       "text": [
        "A G T A C A C T G G T\n"
       ]
      }
     ],
     "prompt_number": 60
    },
    {
     "cell_type": "code",
     "collapsed": false,
     "input": [
      "my_seq"
     ],
     "language": "python",
     "metadata": {},
     "outputs": [
      {
       "metadata": {},
       "output_type": "pyout",
       "prompt_number": 31,
       "text": [
        "Seq('AGTACACTGGT', IUPACUnambiguousDNA())"
       ]
      }
     ],
     "prompt_number": 31
    },
    {
     "cell_type": "code",
     "collapsed": false,
     "input": [
      "len(my_seq)"
     ],
     "language": "python",
     "metadata": {},
     "outputs": [
      {
       "metadata": {},
       "output_type": "pyout",
       "prompt_number": 32,
       "text": [
        "11"
       ]
      }
     ],
     "prompt_number": 32
    },
    {
     "cell_type": "code",
     "collapsed": false,
     "input": [
      "my_seq[4:12]"
     ],
     "language": "python",
     "metadata": {},
     "outputs": [
      {
       "metadata": {},
       "output_type": "pyout",
       "prompt_number": 35,
       "text": [
        "Seq('CACTGGT', IUPACUnambiguousDNA())"
       ]
      }
     ],
     "prompt_number": 35
    },
    {
     "cell_type": "code",
     "collapsed": false,
     "input": [
      "my_seq[::-1]   # reverse"
     ],
     "language": "python",
     "metadata": {},
     "outputs": [
      {
       "metadata": {},
       "output_type": "pyout",
       "prompt_number": 36,
       "text": [
        "Seq('TGGTCACATGA', IUPACUnambiguousDNA())"
       ]
      }
     ],
     "prompt_number": 36
    },
    {
     "cell_type": "code",
     "collapsed": false,
     "input": [
      "str(my_seq)"
     ],
     "language": "python",
     "metadata": {},
     "outputs": [
      {
       "metadata": {},
       "output_type": "pyout",
       "prompt_number": 37,
       "text": [
        "'AGTACACTGGT'"
       ]
      }
     ],
     "prompt_number": 37
    },
    {
     "cell_type": "heading",
     "level": 3,
     "metadata": {},
     "source": [
      "Nucleotide counts, transcription, translation"
     ]
    },
    {
     "cell_type": "code",
     "collapsed": false,
     "input": [
      "my_seq.count('A') # 'A'\uc758 \uac2f\uc218\ub97c \uc13c\ub2e4."
     ],
     "language": "python",
     "metadata": {},
     "outputs": [
      {
       "metadata": {},
       "output_type": "pyout",
       "prompt_number": 38,
       "text": [
        "3"
       ]
      }
     ],
     "prompt_number": 38
    },
    {
     "cell_type": "heading",
     "level": 4,
     "metadata": {},
     "source": [
      "To get the GC nucleotide content"
     ]
    },
    {
     "cell_type": "code",
     "collapsed": false,
     "input": [
      "from Bio.SeqUtils import GC"
     ],
     "language": "python",
     "metadata": {},
     "outputs": [],
     "prompt_number": 7
    },
    {
     "cell_type": "code",
     "collapsed": false,
     "input": [
      "GC(my_seq)"
     ],
     "language": "python",
     "metadata": {},
     "outputs": [
      {
       "metadata": {},
       "output_type": "pyout",
       "prompt_number": 38,
       "text": [
        "45.45454545454545"
       ]
      }
     ],
     "prompt_number": 38
    },
    {
     "cell_type": "markdown",
     "metadata": {},
     "source": [
      "\uc9c1\uc811 \uacc4\uc0b0\ud55c\ub2e4\uba74?"
     ]
    },
    {
     "cell_type": "code",
     "collapsed": false,
     "input": [
      " (float(my_seq.count('G')) + float(my_seq.count('C')) )/  float(len(my_seq)) * 100"
     ],
     "language": "python",
     "metadata": {},
     "outputs": [
      {
       "metadata": {},
       "output_type": "pyout",
       "prompt_number": 53,
       "text": [
        "45.45454545454545"
       ]
      }
     ],
     "prompt_number": 53
    },
    {
     "cell_type": "heading",
     "level": 4,
     "metadata": {},
     "source": [
      "transcription and translation"
     ]
    },
    {
     "cell_type": "markdown",
     "metadata": {},
     "source": [
      "transcription : DNA(ATGC) -> RNA(AUGC)"
     ]
    },
    {
     "cell_type": "markdown",
     "metadata": {},
     "source": [
      "http://www.phschool.com/science/biology_place/biocoach/transcription/tcproc.html"
     ]
    },
    {
     "cell_type": "code",
     "collapsed": false,
     "input": [
      "my_mRNA = my_seq.transcribe()"
     ],
     "language": "python",
     "metadata": {},
     "outputs": [],
     "prompt_number": 71
    },
    {
     "cell_type": "markdown",
     "metadata": {},
     "source": [
      "Transcription : DNA (ATGC) -> RNA(AUGC)  \ub2e4\ub978\uac83\uc740 \uadf8\ub300\ub85c T\ub9cc U\ub85c \ubc14\ub01d\ub2c8\ub2e4. "
     ]
    },
    {
     "cell_type": "code",
     "collapsed": false,
     "input": [
      "my_seq"
     ],
     "language": "python",
     "metadata": {},
     "outputs": [
      {
       "metadata": {},
       "output_type": "pyout",
       "prompt_number": 72,
       "text": [
        "Seq('AGTACACTGGT', IUPACUnambiguousDNA())"
       ]
      }
     ],
     "prompt_number": 72
    },
    {
     "cell_type": "code",
     "collapsed": false,
     "input": [
      "my_mRNA"
     ],
     "language": "python",
     "metadata": {},
     "outputs": [
      {
       "metadata": {},
       "output_type": "pyout",
       "prompt_number": 73,
       "text": [
        "Seq('AGUACACUGGU', IUPACUnambiguousRNA())"
       ]
      }
     ],
     "prompt_number": 73
    },
    {
     "cell_type": "code",
     "collapsed": false,
     "input": [
      "dir(my_mRNA)"
     ],
     "language": "python",
     "metadata": {},
     "outputs": [
      {
       "metadata": {},
       "output_type": "pyout",
       "prompt_number": 76,
       "text": [
        "['__add__',\n",
        " '__class__',\n",
        " '__cmp__',\n",
        " '__contains__',\n",
        " '__delattr__',\n",
        " '__dict__',\n",
        " '__doc__',\n",
        " '__format__',\n",
        " '__getattribute__',\n",
        " '__getitem__',\n",
        " '__hash__',\n",
        " '__init__',\n",
        " '__len__',\n",
        " '__module__',\n",
        " '__new__',\n",
        " '__radd__',\n",
        " '__reduce__',\n",
        " '__reduce_ex__',\n",
        " '__repr__',\n",
        " '__setattr__',\n",
        " '__sizeof__',\n",
        " '__str__',\n",
        " '__subclasshook__',\n",
        " '__weakref__',\n",
        " '_data',\n",
        " '_get_seq_str_and_check_alphabet',\n",
        " 'alphabet',\n",
        " 'back_transcribe',\n",
        " 'complement',\n",
        " 'count',\n",
        " 'endswith',\n",
        " 'find',\n",
        " 'lower',\n",
        " 'lstrip',\n",
        " 'reverse_complement',\n",
        " 'rfind',\n",
        " 'rsplit',\n",
        " 'rstrip',\n",
        " 'split',\n",
        " 'startswith',\n",
        " 'strip',\n",
        " 'tomutable',\n",
        " 'tostring',\n",
        " 'transcribe',\n",
        " 'translate',\n",
        " 'ungap',\n",
        " 'upper']"
       ]
      }
     ],
     "prompt_number": 76
    },
    {
     "cell_type": "code",
     "collapsed": false,
     "input": [
      "my_seq.translate()"
     ],
     "language": "python",
     "metadata": {},
     "outputs": [
      {
       "output_type": "stream",
       "stream": "stderr",
       "text": [
        "T:\\Anaconda\\lib\\site-packages\\Bio\\Seq.py:1971: BiopythonWarning: Partial codon, len(sequence) not a multiple of three. Explicitly trim the sequence or add trailing N before translation. This may become an error in future.\n",
        "  BiopythonWarning)\n"
       ]
      },
      {
       "metadata": {},
       "output_type": "pyout",
       "prompt_number": 54,
       "text": [
        "Seq('STL', IUPACProtein())"
       ]
      }
     ],
     "prompt_number": 54
    },
    {
     "cell_type": "heading",
     "level": 4,
     "metadata": {},
     "source": [
      "complement and reverse complement"
     ]
    },
    {
     "cell_type": "code",
     "collapsed": false,
     "input": [
      "str(my_seq)"
     ],
     "language": "python",
     "metadata": {},
     "outputs": [
      {
       "metadata": {},
       "output_type": "pyout",
       "prompt_number": 72,
       "text": [
        "'AGTACACTGGT'"
       ]
      }
     ],
     "prompt_number": 72
    },
    {
     "cell_type": "code",
     "collapsed": false,
     "input": [
      "my_seq.complement()"
     ],
     "language": "python",
     "metadata": {},
     "outputs": [
      {
       "metadata": {},
       "output_type": "pyout",
       "prompt_number": 73,
       "text": [
        "Seq('TCATGTGACCA', IUPACUnambiguousDNA())"
       ]
      }
     ],
     "prompt_number": 73
    },
    {
     "cell_type": "code",
     "collapsed": false,
     "input": [
      "my_seq.reverse_complement()"
     ],
     "language": "python",
     "metadata": {},
     "outputs": [
      {
       "metadata": {},
       "output_type": "pyout",
       "prompt_number": 74,
       "text": [
        "Seq('ACCAGTGTACT', IUPACUnambiguousDNA())"
       ]
      }
     ],
     "prompt_number": 74
    },
    {
     "cell_type": "code",
     "collapsed": false,
     "input": [
      "from Bio.Seq import Seq"
     ],
     "language": "python",
     "metadata": {},
     "outputs": [],
     "prompt_number": 8
    },
    {
     "cell_type": "code",
     "collapsed": false,
     "input": [
      "from Bio.Alphabet import IUPAC"
     ],
     "language": "python",
     "metadata": {},
     "outputs": [],
     "prompt_number": 9
    },
    {
     "cell_type": "code",
     "collapsed": false,
     "input": [
      "messenger_rna = Seq(\"AUGGCCAUUGUAAUGGGCCGCUGAAAGGGUGCCCGAUAG\", IUPAC.unambiguous_rna)"
     ],
     "language": "python",
     "metadata": {},
     "outputs": [],
     "prompt_number": 77
    },
    {
     "cell_type": "code",
     "collapsed": false,
     "input": [
      "messenger_rna"
     ],
     "language": "python",
     "metadata": {},
     "outputs": [
      {
       "metadata": {},
       "output_type": "pyout",
       "prompt_number": 78,
       "text": [
        "Seq('AUGGCCAUUGUAAUGGGCCGCUGAAAGGGUGCCCGAUAG', IUPACUnambiguousRNA())"
       ]
      }
     ],
     "prompt_number": 78
    },
    {
     "cell_type": "code",
     "collapsed": false,
     "input": [
      "messenger_rna.translate()"
     ],
     "language": "python",
     "metadata": {},
     "outputs": [
      {
       "metadata": {},
       "output_type": "pyout",
       "prompt_number": 79,
       "text": [
        "Seq('MAIVMGR*KGAR*', HasStopCodon(IUPACProtein(), '*'))"
       ]
      }
     ],
     "prompt_number": 79
    },
    {
     "cell_type": "markdown",
     "metadata": {},
     "source": [
      "http://ko.wikipedia.org/wiki/\uc885\uacb0_\ucf54\ub3c8"
     ]
    },
    {
     "cell_type": "markdown",
     "metadata": {},
     "source": [
      "http://www.ucl.ac.uk/~sjjgsca/translation.html"
     ]
    },
    {
     "cell_type": "markdown",
     "metadata": {},
     "source": [
      "http://www.tokresource.org/tok_classes/biobiobio/biomenu/transcription_translation/"
     ]
    },
    {
     "cell_type": "markdown",
     "metadata": {},
     "source": [
      "http://oregonstate.edu/instruct/bb331/lecture12/Fig5-20.html"
     ]
    },
    {
     "cell_type": "code",
     "collapsed": false,
     "input": [
      "len(messenger_rna)"
     ],
     "language": "python",
     "metadata": {},
     "outputs": [
      {
       "metadata": {},
       "output_type": "pyout",
       "prompt_number": 83,
       "text": [
        "39"
       ]
      }
     ],
     "prompt_number": 83
    },
    {
     "cell_type": "code",
     "collapsed": false,
     "input": [
      "len(messenger_rna.translate())"
     ],
     "language": "python",
     "metadata": {},
     "outputs": [
      {
       "metadata": {},
       "output_type": "pyout",
       "prompt_number": 82,
       "text": [
        "13"
       ]
      }
     ],
     "prompt_number": 82
    },
    {
     "cell_type": "code",
     "collapsed": false,
     "input": [
      "len(messenger_rna)/3 == len(messenger_rna.translate())"
     ],
     "language": "python",
     "metadata": {},
     "outputs": [
      {
       "metadata": {},
       "output_type": "pyout",
       "prompt_number": 84,
       "text": [
        "True"
       ]
      }
     ],
     "prompt_number": 84
    },
    {
     "cell_type": "heading",
     "level": 3,
     "metadata": {},
     "source": [
      "Now, you may want to translate the nucleotides up to the first in frame stop codon, and then stop (as happens in nature):"
     ]
    },
    {
     "cell_type": "code",
     "collapsed": false,
     "input": [
      "coding_dna = messenger_rna.back_transcribe()"
     ],
     "language": "python",
     "metadata": {},
     "outputs": [],
     "prompt_number": 88
    },
    {
     "cell_type": "code",
     "collapsed": false,
     "input": [
      "coding_dna"
     ],
     "language": "python",
     "metadata": {},
     "outputs": [
      {
       "metadata": {},
       "output_type": "pyout",
       "prompt_number": 89,
       "text": [
        "Seq('ATGGCCATTGTAATGGGCCGCTGAAAGGGTGCCCGATAG', IUPACUnambiguousDNA())"
       ]
      }
     ],
     "prompt_number": 89
    },
    {
     "cell_type": "code",
     "collapsed": false,
     "input": [
      "coding_dna.translate()"
     ],
     "language": "python",
     "metadata": {},
     "outputs": [
      {
       "metadata": {},
       "output_type": "pyout",
       "prompt_number": 90,
       "text": [
        "Seq('MAIVMGR*KGAR*', HasStopCodon(IUPACProtein(), '*'))"
       ]
      }
     ],
     "prompt_number": 90
    },
    {
     "cell_type": "code",
     "collapsed": false,
     "input": [
      "coding_dna.translate(to_stop = True)"
     ],
     "language": "python",
     "metadata": {},
     "outputs": [
      {
       "metadata": {},
       "output_type": "pyout",
       "prompt_number": 91,
       "text": [
        "Seq('MAIVMGR', IUPACProtein())"
       ]
      }
     ],
     "prompt_number": 91
    },
    {
     "cell_type": "heading",
     "level": 2,
     "metadata": {},
     "source": [
      "Translation tables"
     ]
    },
    {
     "cell_type": "markdown",
     "metadata": {},
     "source": [
      "http://www.ncbi.nlm.nih.gov/Taxonomy/Utils/wprintgc.cgi"
     ]
    },
    {
     "cell_type": "code",
     "collapsed": false,
     "input": [],
     "language": "python",
     "metadata": {},
     "outputs": []
    },
    {
     "cell_type": "heading",
     "level": 3,
     "metadata": {},
     "source": [
      "Exercise"
     ]
    },
    {
     "cell_type": "code",
     "collapsed": false,
     "input": [
      "from Bio.Data import CodonTable"
     ],
     "language": "python",
     "metadata": {},
     "outputs": [],
     "prompt_number": 10
    },
    {
     "cell_type": "code",
     "collapsed": false,
     "input": [
      "standard_table = CodonTable.unambiguous_dna_by_id[1]"
     ],
     "language": "python",
     "metadata": {},
     "outputs": [],
     "prompt_number": 79
    },
    {
     "cell_type": "code",
     "collapsed": false,
     "input": [
      "print standard_table"
     ],
     "language": "python",
     "metadata": {},
     "outputs": [
      {
       "output_type": "stream",
       "stream": "stdout",
       "text": [
        "Table 1 Standard, SGC0\n",
        "\n",
        "  |  T      |  C      |  A      |  G      |\n",
        "--+---------+---------+---------+---------+--\n",
        "T | TTT F   | TCT S   | TAT Y   | TGT C   | T\n",
        "T | TTC F   | TCC S   | TAC Y   | TGC C   | C\n",
        "T | TTA L   | TCA S   | TAA Stop| TGA Stop| A\n",
        "T | TTG L(s)| TCG S   | TAG Stop| TGG W   | G\n",
        "--+---------+---------+---------+---------+--\n",
        "C | CTT L   | CCT P   | CAT H   | CGT R   | T\n",
        "C | CTC L   | CCC P   | CAC H   | CGC R   | C\n",
        "C | CTA L   | CCA P   | CAA Q   | CGA R   | A\n",
        "C | CTG L(s)| CCG P   | CAG Q   | CGG R   | G\n",
        "--+---------+---------+---------+---------+--\n",
        "A | ATT I   | ACT T   | AAT N   | AGT S   | T\n",
        "A | ATC I   | ACC T   | AAC N   | AGC S   | C\n",
        "A | ATA I   | ACA T   | AAA K   | AGA R   | A\n",
        "A | ATG M(s)| ACG T   | AAG K   | AGG R   | G\n",
        "--+---------+---------+---------+---------+--\n",
        "G | GTT V   | GCT A   | GAT D   | GGT G   | T\n",
        "G | GTC V   | GCC A   | GAC D   | GGC G   | C\n",
        "G | GTA V   | GCA A   | GAA E   | GGA G   | A\n",
        "G | GTG V   | GCG A   | GAG E   | GGG G   | G\n",
        "--+---------+---------+---------+---------+--\n"
       ]
      }
     ],
     "prompt_number": 80
    },
    {
     "cell_type": "code",
     "collapsed": false,
     "input": [
      "mito_table = CodonTable.unambiguous_dna_by_id[2]\n",
      "print mito_table"
     ],
     "language": "python",
     "metadata": {},
     "outputs": [
      {
       "output_type": "stream",
       "stream": "stdout",
       "text": [
        "Table 2 Vertebrate Mitochondrial, SGC1\n",
        "\n",
        "  |  T      |  C      |  A      |  G      |\n",
        "--+---------+---------+---------+---------+--\n",
        "T | TTT F   | TCT S   | TAT Y   | TGT C   | T\n",
        "T | TTC F   | TCC S   | TAC Y   | TGC C   | C\n",
        "T | TTA L   | TCA S   | TAA Stop| TGA W   | A\n",
        "T | TTG L   | TCG S   | TAG Stop| TGG W   | G\n",
        "--+---------+---------+---------+---------+--\n",
        "C | CTT L   | CCT P   | CAT H   | CGT R   | T\n",
        "C | CTC L   | CCC P   | CAC H   | CGC R   | C\n",
        "C | CTA L   | CCA P   | CAA Q   | CGA R   | A\n",
        "C | CTG L   | CCG P   | CAG Q   | CGG R   | G\n",
        "--+---------+---------+---------+---------+--\n",
        "A | ATT I(s)| ACT T   | AAT N   | AGT S   | T\n",
        "A | ATC I(s)| ACC T   | AAC N   | AGC S   | C\n",
        "A | ATA M(s)| ACA T   | AAA K   | AGA Stop| A\n",
        "A | ATG M(s)| ACG T   | AAG K   | AGG Stop| G\n",
        "--+---------+---------+---------+---------+--\n",
        "G | GTT V   | GCT A   | GAT D   | GGT G   | T\n",
        "G | GTC V   | GCC A   | GAC D   | GGC G   | C\n",
        "G | GTA V   | GCA A   | GAA E   | GGA G   | A\n",
        "G | GTG V(s)| GCG A   | GAG E   | GGG G   | G\n",
        "--+---------+---------+---------+---------+--\n"
       ]
      }
     ],
     "prompt_number": 81
    },
    {
     "cell_type": "code",
     "collapsed": false,
     "input": [
      "print CodonTable.unambiguous_dna_by_id[3]"
     ],
     "language": "python",
     "metadata": {},
     "outputs": [
      {
       "output_type": "stream",
       "stream": "stdout",
       "text": [
        "Table 3 Yeast Mitochondrial, SGC2\n",
        "\n",
        "  |  T      |  C      |  A      |  G      |\n",
        "--+---------+---------+---------+---------+--\n",
        "T | TTT F   | TCT S   | TAT Y   | TGT C   | T\n",
        "T | TTC F   | TCC S   | TAC Y   | TGC C   | C\n",
        "T | TTA L   | TCA S   | TAA Stop| TGA W   | A\n",
        "T | TTG L   | TCG S   | TAG Stop| TGG W   | G\n",
        "--+---------+---------+---------+---------+--\n",
        "C | CTT T   | CCT P   | CAT H   | CGT R   | T\n",
        "C | CTC T   | CCC P   | CAC H   | CGC R   | C\n",
        "C | CTA T   | CCA P   | CAA Q   | CGA R   | A\n",
        "C | CTG T   | CCG P   | CAG Q   | CGG R   | G\n",
        "--+---------+---------+---------+---------+--\n",
        "A | ATT I   | ACT T   | AAT N   | AGT S   | T\n",
        "A | ATC I   | ACC T   | AAC N   | AGC S   | C\n",
        "A | ATA M(s)| ACA T   | AAA K   | AGA R   | A\n",
        "A | ATG M(s)| ACG T   | AAG K   | AGG R   | G\n",
        "--+---------+---------+---------+---------+--\n",
        "G | GTT V   | GCT A   | GAT D   | GGT G   | T\n",
        "G | GTC V   | GCC A   | GAC D   | GGC G   | C\n",
        "G | GTA V   | GCA A   | GAA E   | GGA G   | A\n",
        "G | GTG V   | GCG A   | GAG E   | GGG G   | G\n",
        "--+---------+---------+---------+---------+--\n"
       ]
      }
     ],
     "prompt_number": 82
    },
    {
     "cell_type": "code",
     "collapsed": false,
     "input": [
      "print CodonTable.unambiguous_dna_by_id[4]"
     ],
     "language": "python",
     "metadata": {},
     "outputs": [
      {
       "output_type": "stream",
       "stream": "stdout",
       "text": [
        "Table 4 Mold Mitochondrial, Protozoan Mitochondrial, Coelenterate Mitochondrial, Mycoplasma, Spiroplasma, SGC3\n",
        "\n",
        "  |  T      |  C      |  A      |  G      |\n",
        "--+---------+---------+---------+---------+--\n",
        "T | TTT F   | TCT S   | TAT Y   | TGT C   | T\n",
        "T | TTC F   | TCC S   | TAC Y   | TGC C   | C\n",
        "T | TTA L(s)| TCA S   | TAA Stop| TGA W   | A\n",
        "T | TTG L(s)| TCG S   | TAG Stop| TGG W   | G\n",
        "--+---------+---------+---------+---------+--\n",
        "C | CTT L   | CCT P   | CAT H   | CGT R   | T\n",
        "C | CTC L   | CCC P   | CAC H   | CGC R   | C\n",
        "C | CTA L   | CCA P   | CAA Q   | CGA R   | A\n",
        "C | CTG L(s)| CCG P   | CAG Q   | CGG R   | G\n",
        "--+---------+---------+---------+---------+--\n",
        "A | ATT I(s)| ACT T   | AAT N   | AGT S   | T\n",
        "A | ATC I(s)| ACC T   | AAC N   | AGC S   | C\n",
        "A | ATA I(s)| ACA T   | AAA K   | AGA R   | A\n",
        "A | ATG M(s)| ACG T   | AAG K   | AGG R   | G\n",
        "--+---------+---------+---------+---------+--\n",
        "G | GTT V   | GCT A   | GAT D   | GGT G   | T\n",
        "G | GTC V   | GCC A   | GAC D   | GGC G   | C\n",
        "G | GTA V   | GCA A   | GAA E   | GGA G   | A\n",
        "G | GTG V(s)| GCG A   | GAG E   | GGG G   | G\n",
        "--+---------+---------+---------+---------+--\n"
       ]
      }
     ],
     "prompt_number": 83
    },
    {
     "cell_type": "code",
     "collapsed": false,
     "input": [
      "import Bio\n",
      "from Bio.Seq import Seq\n",
      "from Bio.Alphabet import IUPAC"
     ],
     "language": "python",
     "metadata": {},
     "outputs": [],
     "prompt_number": 27
    },
    {
     "cell_type": "code",
     "collapsed": false,
     "input": [
      "coding_dna = Seq(\"ATGGCCATTGTAATGGGCCGCTGAAAGGGTGCCCGATAG\", IUPAC.unambiguous_dna)"
     ],
     "language": "python",
     "metadata": {},
     "outputs": [],
     "prompt_number": 13
    },
    {
     "cell_type": "code",
     "collapsed": false,
     "input": [
      "coding_dna.translate()"
     ],
     "language": "python",
     "metadata": {},
     "outputs": [
      {
       "metadata": {},
       "output_type": "pyout",
       "prompt_number": 14,
       "text": [
        "Seq('MAIVMGR*KGAR*', HasStopCodon(IUPACProtein(), '*'))"
       ]
      }
     ],
     "prompt_number": 14
    },
    {
     "cell_type": "code",
     "collapsed": false,
     "input": [
      "coding_dna.translate(to_stop=True)"
     ],
     "language": "python",
     "metadata": {},
     "outputs": [
      {
       "metadata": {},
       "output_type": "pyout",
       "prompt_number": 15,
       "text": [
        "Seq('MAIVMGR', IUPACProtein())"
       ]
      }
     ],
     "prompt_number": 15
    },
    {
     "cell_type": "code",
     "collapsed": false,
     "input": [
      "# Using Vertebrate Mitochondiral Code"
     ],
     "language": "python",
     "metadata": {},
     "outputs": [],
     "prompt_number": 18
    },
    {
     "cell_type": "code",
     "collapsed": false,
     "input": [
      "coding_dna.translate(table=2)"
     ],
     "language": "python",
     "metadata": {},
     "outputs": [
      {
       "metadata": {},
       "output_type": "pyout",
       "prompt_number": 19,
       "text": [
        "Seq('MAIVMGRWKGAR*', HasStopCodon(IUPACProtein(), '*'))"
       ]
      }
     ],
     "prompt_number": 19
    },
    {
     "cell_type": "code",
     "collapsed": false,
     "input": [
      "dir(CodonTable.unambiguous_dna_by_id)"
     ],
     "language": "python",
     "metadata": {},
     "outputs": [
      {
       "metadata": {},
       "output_type": "pyout",
       "prompt_number": 88,
       "text": [
        "['__class__',\n",
        " '__cmp__',\n",
        " '__contains__',\n",
        " '__delattr__',\n",
        " '__delitem__',\n",
        " '__doc__',\n",
        " '__eq__',\n",
        " '__format__',\n",
        " '__ge__',\n",
        " '__getattribute__',\n",
        " '__getitem__',\n",
        " '__gt__',\n",
        " '__hash__',\n",
        " '__init__',\n",
        " '__iter__',\n",
        " '__le__',\n",
        " '__len__',\n",
        " '__lt__',\n",
        " '__ne__',\n",
        " '__new__',\n",
        " '__reduce__',\n",
        " '__reduce_ex__',\n",
        " '__repr__',\n",
        " '__setattr__',\n",
        " '__setitem__',\n",
        " '__sizeof__',\n",
        " '__str__',\n",
        " '__subclasshook__',\n",
        " 'clear',\n",
        " 'copy',\n",
        " 'fromkeys',\n",
        " 'get',\n",
        " 'has_key',\n",
        " 'items',\n",
        " 'iteritems',\n",
        " 'iterkeys',\n",
        " 'itervalues',\n",
        " 'keys',\n",
        " 'pop',\n",
        " 'popitem',\n",
        " 'setdefault',\n",
        " 'update',\n",
        " 'values',\n",
        " 'viewitems',\n",
        " 'viewkeys',\n",
        " 'viewvalues']"
       ]
      }
     ],
     "prompt_number": 88
    },
    {
     "cell_type": "code",
     "collapsed": false,
     "input": [
      "dir(CodonTable.unambiguous_dna_by_id[4])"
     ],
     "language": "python",
     "metadata": {},
     "outputs": [
      {
       "metadata": {},
       "output_type": "pyout",
       "prompt_number": 89,
       "text": [
        "['__class__',\n",
        " '__delattr__',\n",
        " '__dict__',\n",
        " '__doc__',\n",
        " '__format__',\n",
        " '__getattribute__',\n",
        " '__hash__',\n",
        " '__init__',\n",
        " '__module__',\n",
        " '__new__',\n",
        " '__reduce__',\n",
        " '__reduce_ex__',\n",
        " '__repr__',\n",
        " '__setattr__',\n",
        " '__sizeof__',\n",
        " '__str__',\n",
        " '__subclasshook__',\n",
        " '__weakref__',\n",
        " 'back_table',\n",
        " 'forward_table',\n",
        " 'id',\n",
        " 'names',\n",
        " 'nucleotide_alphabet',\n",
        " 'protein_alphabet',\n",
        " 'start_codons',\n",
        " 'stop_codons']"
       ]
      }
     ],
     "prompt_number": 89
    },
    {
     "cell_type": "code",
     "collapsed": false,
     "input": [
      "CodonTable.unambiguous_dna_by_id[1].names"
     ],
     "language": "python",
     "metadata": {},
     "outputs": [
      {
       "metadata": {},
       "output_type": "pyout",
       "prompt_number": 95,
       "text": [
        "['Standard', 'SGC0']"
       ]
      }
     ],
     "prompt_number": 95
    },
    {
     "cell_type": "markdown",
     "metadata": {},
     "source": [
      "# The Sequence record object\n",
      "SeqRecord objects - basic type for the SeqIO\n",
      "* seq - sequence(Seq object)\n",
      "* id - primary ID used to identify the sequence (string)\n",
      "* name - a 'common' name/id for seq (string)\n",
      "* description (string)"
     ]
    },
    {
     "cell_type": "code",
     "collapsed": false,
     "input": [
      "simple_seq = Seq(\"GATCAGGATTAGGCC\")"
     ],
     "language": "python",
     "metadata": {},
     "outputs": [],
     "prompt_number": 30
    },
    {
     "cell_type": "code",
     "collapsed": false,
     "input": [
      "from Bio.Seq import Seq\n",
      "from Bio.SeqRecord import SeqRecord"
     ],
     "language": "python",
     "metadata": {},
     "outputs": [],
     "prompt_number": 29
    },
    {
     "cell_type": "code",
     "collapsed": false,
     "input": [
      "simple_seq_r = SeqRecord(simple_seq)"
     ],
     "language": "python",
     "metadata": {},
     "outputs": [],
     "prompt_number": 31
    },
    {
     "cell_type": "code",
     "collapsed": false,
     "input": [
      "simple_seq"
     ],
     "language": "python",
     "metadata": {},
     "outputs": [
      {
       "metadata": {},
       "output_type": "pyout",
       "prompt_number": 119,
       "text": [
        "Seq('GATCAGGATTAGGCC', Alphabet())"
       ]
      }
     ],
     "prompt_number": 119
    },
    {
     "cell_type": "code",
     "collapsed": false,
     "input": [
      "from Bio.SeqUtils import GC\n",
      "GC(simple_seq)"
     ],
     "language": "python",
     "metadata": {},
     "outputs": [
      {
       "metadata": {},
       "output_type": "pyout",
       "prompt_number": 106,
       "text": [
        "53.333333333333336"
       ]
      }
     ],
     "prompt_number": 106
    },
    {
     "cell_type": "code",
     "collapsed": false,
     "input": [
      "GC(simple_seq)"
     ],
     "language": "python",
     "metadata": {},
     "outputs": [
      {
       "metadata": {},
       "output_type": "pyout",
       "prompt_number": 120,
       "text": [
        "53.333333333333336"
       ]
      }
     ],
     "prompt_number": 120
    },
    {
     "cell_type": "code",
     "collapsed": false,
     "input": [
      "simple_seq_r."
     ],
     "language": "python",
     "metadata": {},
     "outputs": [
      {
       "metadata": {},
       "output_type": "pyout",
       "prompt_number": 118,
       "text": [
        "SeqRecord(seq=Seq('GATCAGGATTAGGCC', Alphabet()), id='<unknown id>', name='<unknown name>', description='<unknown description>', dbxrefs=[])"
       ]
      }
     ],
     "prompt_number": 118
    },
    {
     "cell_type": "code",
     "collapsed": false,
     "input": [
      "simple_seq_r.id = 'mynewid'"
     ],
     "language": "python",
     "metadata": {},
     "outputs": [],
     "prompt_number": 121
    },
    {
     "cell_type": "code",
     "collapsed": false,
     "input": [
      "simple_seq_r.seq"
     ],
     "language": "python",
     "metadata": {},
     "outputs": [
      {
       "metadata": {},
       "output_type": "pyout",
       "prompt_number": 32,
       "text": [
        "Seq('GATCAGGATTAGGCC', Alphabet())"
       ]
      }
     ],
     "prompt_number": 32
    },
    {
     "cell_type": "code",
     "collapsed": false,
     "input": [
      "GC(simple_seq_r.seq)"
     ],
     "language": "python",
     "metadata": {},
     "outputs": [
      {
       "metadata": {},
       "output_type": "pyout",
       "prompt_number": 117,
       "text": [
        "53.333333333333336"
       ]
      }
     ],
     "prompt_number": 117
    },
    {
     "cell_type": "code",
     "collapsed": false,
     "input": [
      "dir(simple_seq_r)"
     ],
     "language": "python",
     "metadata": {},
     "outputs": [
      {
       "metadata": {},
       "output_type": "pyout",
       "prompt_number": 111,
       "text": [
        "['__add__',\n",
        " '__class__',\n",
        " '__contains__',\n",
        " '__delattr__',\n",
        " '__dict__',\n",
        " '__doc__',\n",
        " '__format__',\n",
        " '__getattribute__',\n",
        " '__getitem__',\n",
        " '__hash__',\n",
        " '__init__',\n",
        " '__iter__',\n",
        " '__len__',\n",
        " '__module__',\n",
        " '__new__',\n",
        " '__nonzero__',\n",
        " '__radd__',\n",
        " '__reduce__',\n",
        " '__reduce_ex__',\n",
        " '__repr__',\n",
        " '__setattr__',\n",
        " '__sizeof__',\n",
        " '__str__',\n",
        " '__subclasshook__',\n",
        " '__weakref__',\n",
        " '_per_letter_annotations',\n",
        " '_seq',\n",
        " '_set_per_letter_annotations',\n",
        " '_set_seq',\n",
        " 'annotations',\n",
        " 'dbxrefs',\n",
        " 'description',\n",
        " 'features',\n",
        " 'format',\n",
        " 'id',\n",
        " 'letter_annotations',\n",
        " 'lower',\n",
        " 'name',\n",
        " 'reverse_complement',\n",
        " 'seq',\n",
        " 'upper']"
       ]
      }
     ],
     "prompt_number": 111
    },
    {
     "cell_type": "heading",
     "level": 3,
     "metadata": {},
     "source": [
      "Excercise"
     ]
    },
    {
     "cell_type": "markdown",
     "metadata": {},
     "source": [
      "1. copy the following script into an editor and save as 'BioSequence.py'\n",
      "2. Open a terminal window and cd into the appropriate directory.\n",
      "3. Fill in the missing lines with code."
     ]
    },
    {
     "cell_type": "raw",
     "metadata": {},
     "source": [
      "#BioSequence.py\n",
      "\n",
      "from Bio.Seq import Seq\n",
      "from Bio.SeqRecord import SeqRecord\n",
      "\n",
      "\n",
      "## create a simple SeqRecord object\n",
      "simple_seq = Seq(\"GATCAGGATTAGGCC\")\n",
      "simple_seq_r = SeqRecord(simple_seq)\n",
      "simple_seq_r.id = \"AC12345\"\n",
      "simple_seq_r.description = \"I am not a real sequence\"\n",
      "\n",
      "## print summary\n",
      "print simple_seq_r.id\n",
      "print simple_seq_r.description \n",
      "print str(simple_seq_r.seq) \n",
      "print simple_seq_r.seq.alphabet\n",
      "\n",
      "## translate the sequence\n",
      "translated_seq = simple_seq_r.seq.translate() \n",
      "print translated_seq\n",
      "\n",
      "# exercise 1 -- translate the sequence only until the stop codon\n",
      "\n",
      "\n",
      "# exercise 2 -- get the reverse complement of the sequence\n",
      "\n",
      "\n",
      "# exercise 3 -- get the reverse of the sequence (just like for lists)\n",
      "\n",
      "\n",
      "# exercise 4 -- get the GC nucleotide content\n",
      "\n",
      "\n"
     ]
    },
    {
     "cell_type": "code",
     "collapsed": false,
     "input": [
      "%%writefile text.txt\n",
      "this is textfile"
     ],
     "language": "python",
     "metadata": {},
     "outputs": [
      {
       "output_type": "stream",
       "stream": "stdout",
       "text": [
        "Writing text.txt\n"
       ]
      }
     ],
     "prompt_number": 33
    },
    {
     "cell_type": "code",
     "collapsed": false,
     "input": [
      "%%writefile BioSequences.py\n",
      "\n",
      "from Bio.Seq import Seq\n",
      "from Bio.SeqRecord import SeqRecord\n",
      "## create a simple SeqRecord object\n",
      "simple_seq = Seq(\"GATCAGGATTAGGCC\")\n",
      "simple_seq_r = SeqRecord(simple_seq)\n",
      "simple_seq_r.id = \"AC12345\"\n",
      "simple_seq_r.description = \"I am not a real sequence\"\n",
      "\n",
      "## print summary\n",
      "print simple_seq_r.id\n",
      "print simple_seq_r.description \n",
      "print str(simple_seq_r.seq) \n",
      "print simple_seq_r.seq.alphabet\n",
      "\n",
      "## translate the sequence\n",
      "translated_seq = simple_seq_r.seq.translate() \n",
      "print translated_seq\n",
      "\n",
      "# exercise 1 -- translate the sequence only until the stop codon\n",
      "print 'exercise 1'\n",
      "translated_seq = simple_seq_r.seq.translate(to_stop=True) \n",
      "print translated_seq\n",
      "# exercise 2 -- get the reverse complement of the sequence\n",
      "print 'exercise 2'\n",
      "print simple_seq_r.reverse_complement().seq\n",
      "# exercise 3 -- get the reverse of the sequence (just like for lists)\n",
      "print 'exercise 3'\n",
      "print simple_seq_r[::-1].seq\n",
      "# exercise 4 -- get the GC nucleotide content\n",
      "print 'exercise 4'\n",
      "from Bio.SeqUtils import GC\n",
      "print GC(simple_seq_r.seq)"
     ],
     "language": "python",
     "metadata": {},
     "outputs": [
      {
       "output_type": "stream",
       "stream": "stdout",
       "text": [
        "Overwriting BioSequences.py\n"
       ]
      }
     ],
     "prompt_number": 133
    },
    {
     "cell_type": "code",
     "collapsed": false,
     "input": [
      "%run BioSequences.py"
     ],
     "language": "python",
     "metadata": {},
     "outputs": [
      {
       "output_type": "stream",
       "stream": "stdout",
       "text": [
        "AC12345\n",
        "I am not a real sequence\n",
        "GATCAGGATTAGGCC\n",
        "Alphabet()\n",
        "DQD*A\n",
        "exercise 1\n",
        "DQD\n",
        "exercise 2\n",
        "GGCCTAATCCTGATC\n",
        "exercise 3\n",
        "CCGGATTAGGACTAG\n",
        "exercise 4\n",
        "53.3333333333\n"
       ]
      }
     ],
     "prompt_number": 134
    },
    {
     "cell_type": "code",
     "collapsed": false,
     "input": [
      "from Bio.Seq import Seq\n",
      "from Bio.SeqRecord import SeqRecord"
     ],
     "language": "python",
     "metadata": {},
     "outputs": [],
     "prompt_number": 11
    },
    {
     "cell_type": "code",
     "collapsed": false,
     "input": [
      "simple_seq = Seq(\"GATCAGGATTAGGCC\")"
     ],
     "language": "python",
     "metadata": {},
     "outputs": [],
     "prompt_number": 113
    },
    {
     "cell_type": "code",
     "collapsed": false,
     "input": [
      "simple_seq_r = SeqRecord(simple_seq)"
     ],
     "language": "python",
     "metadata": {},
     "outputs": [],
     "prompt_number": 114
    },
    {
     "cell_type": "code",
     "collapsed": false,
     "input": [
      "simple_seq_r.id = \"AC12345\""
     ],
     "language": "python",
     "metadata": {},
     "outputs": [],
     "prompt_number": 115
    },
    {
     "cell_type": "code",
     "collapsed": false,
     "input": [
      "simple_seq_r.description = \"I am not a real sequence\""
     ],
     "language": "python",
     "metadata": {},
     "outputs": [],
     "prompt_number": 116
    },
    {
     "cell_type": "code",
     "collapsed": false,
     "input": [
      "print simple_seq_r.id"
     ],
     "language": "python",
     "metadata": {},
     "outputs": [
      {
       "output_type": "stream",
       "stream": "stdout",
       "text": [
        "AC12345\n"
       ]
      }
     ],
     "prompt_number": 117
    },
    {
     "cell_type": "code",
     "collapsed": false,
     "input": [
      "print simple_seq_r.description"
     ],
     "language": "python",
     "metadata": {},
     "outputs": [
      {
       "output_type": "stream",
       "stream": "stdout",
       "text": [
        "I am not a real sequence\n"
       ]
      }
     ],
     "prompt_number": 118
    },
    {
     "cell_type": "code",
     "collapsed": false,
     "input": [
      "print str(simple_seq_r.seq)"
     ],
     "language": "python",
     "metadata": {},
     "outputs": [
      {
       "output_type": "stream",
       "stream": "stdout",
       "text": [
        "GATCAGGATTAGGCC\n"
       ]
      }
     ],
     "prompt_number": 119
    },
    {
     "cell_type": "code",
     "collapsed": false,
     "input": [
      "print simple_seq_r.seq.alphabet"
     ],
     "language": "python",
     "metadata": {},
     "outputs": [
      {
       "output_type": "stream",
       "stream": "stdout",
       "text": [
        "Alphabet()\n"
       ]
      }
     ],
     "prompt_number": 120
    },
    {
     "cell_type": "code",
     "collapsed": false,
     "input": [
      "# translate the sequence"
     ],
     "language": "python",
     "metadata": {},
     "outputs": [],
     "prompt_number": 121
    },
    {
     "cell_type": "code",
     "collapsed": false,
     "input": [
      "translated_seq = simple_seq_r.seq.translate()"
     ],
     "language": "python",
     "metadata": {},
     "outputs": [],
     "prompt_number": 122
    },
    {
     "cell_type": "code",
     "collapsed": false,
     "input": [
      "translated_seq"
     ],
     "language": "python",
     "metadata": {},
     "outputs": [
      {
       "metadata": {},
       "output_type": "pyout",
       "prompt_number": 123,
       "text": [
        "Seq('DQD*A', HasStopCodon(ExtendedIUPACProtein(), '*'))"
       ]
      }
     ],
     "prompt_number": 123
    },
    {
     "cell_type": "code",
     "collapsed": false,
     "input": [
      "translated_seq = simple_seq_r.seq.translate(to_stop=True)"
     ],
     "language": "python",
     "metadata": {},
     "outputs": [],
     "prompt_number": 125
    },
    {
     "cell_type": "code",
     "collapsed": false,
     "input": [
      "translated_seq"
     ],
     "language": "python",
     "metadata": {},
     "outputs": [
      {
       "metadata": {},
       "output_type": "pyout",
       "prompt_number": 126,
       "text": [
        "Seq('DQD', ExtendedIUPACProtein())"
       ]
      }
     ],
     "prompt_number": 126
    },
    {
     "cell_type": "code",
     "collapsed": false,
     "input": [
      "simple_seq_r"
     ],
     "language": "python",
     "metadata": {},
     "outputs": [
      {
       "metadata": {},
       "output_type": "pyout",
       "prompt_number": 127,
       "text": [
        "SeqRecord(seq=Seq('GATCAGGATTAGGCC', Alphabet()), id='AC12345', name='<unknown name>', description='I am not a real sequence', dbxrefs=[])"
       ]
      }
     ],
     "prompt_number": 127
    },
    {
     "cell_type": "code",
     "collapsed": false,
     "input": [
      "simple_seq_r.seq"
     ],
     "language": "python",
     "metadata": {},
     "outputs": [
      {
       "metadata": {},
       "output_type": "pyout",
       "prompt_number": 132,
       "text": [
        "Seq('GATCAGGATTAGGCC', Alphabet())"
       ]
      }
     ],
     "prompt_number": 132
    },
    {
     "cell_type": "code",
     "collapsed": false,
     "input": [
      "simple_seq_r.seq.reverse_complement()"
     ],
     "language": "python",
     "metadata": {},
     "outputs": [
      {
       "metadata": {},
       "output_type": "pyout",
       "prompt_number": 133,
       "text": [
        "Seq('GGCCTAATCCTGATC', Alphabet())"
       ]
      }
     ],
     "prompt_number": 133
    },
    {
     "cell_type": "code",
     "collapsed": false,
     "input": [
      "simple_seq_r.seq"
     ],
     "language": "python",
     "metadata": {},
     "outputs": [
      {
       "metadata": {},
       "output_type": "pyout",
       "prompt_number": 134,
       "text": [
        "Seq('GATCAGGATTAGGCC', Alphabet())"
       ]
      }
     ],
     "prompt_number": 134
    },
    {
     "cell_type": "code",
     "collapsed": false,
     "input": [
      "simple_seq_r.seq[::-1]"
     ],
     "language": "python",
     "metadata": {},
     "outputs": [
      {
       "metadata": {},
       "output_type": "pyout",
       "prompt_number": 135,
       "text": [
        "Seq('CCGGATTAGGACTAG', Alphabet())"
       ]
      }
     ],
     "prompt_number": 135
    },
    {
     "cell_type": "code",
     "collapsed": false,
     "input": [
      "GC(simple_seq_r.seq)"
     ],
     "language": "python",
     "metadata": {},
     "outputs": [
      {
       "metadata": {},
       "output_type": "pyout",
       "prompt_number": 139,
       "text": [
        "53.333333333333336"
       ]
      }
     ],
     "prompt_number": 139
    },
    {
     "cell_type": "code",
     "collapsed": false,
     "input": [
      "import os\n",
      "from Bio import SeqIO"
     ],
     "language": "python",
     "metadata": {},
     "outputs": [],
     "prompt_number": 18
    },
    {
     "cell_type": "code",
     "collapsed": false,
     "input": [
      "allSeqRecords = []"
     ],
     "language": "python",
     "metadata": {},
     "outputs": [],
     "prompt_number": 19
    },
    {
     "cell_type": "code",
     "collapsed": false,
     "input": [
      "allSeqIDs = []"
     ],
     "language": "python",
     "metadata": {},
     "outputs": [],
     "prompt_number": 20
    },
    {
     "cell_type": "code",
     "collapsed": false,
     "input": [
      "#pathToFile = os.path.join(\"..\",\"data\",\"ls_orchid.fasta\")"
     ],
     "language": "python",
     "metadata": {},
     "outputs": [],
     "prompt_number": 28
    },
    {
     "cell_type": "code",
     "collapsed": false,
     "input": [
      "#pathToFile"
     ],
     "language": "python",
     "metadata": {},
     "outputs": [
      {
       "metadata": {},
       "output_type": "pyout",
       "prompt_number": 29,
       "text": [
        "'../data/ls_orchid.fasta'"
       ]
      }
     ],
     "prompt_number": 29
    },
    {
     "cell_type": "markdown",
     "metadata": {},
     "source": [
      "\uc6d0\ubcf8\uc740 \uc704\uc640 \uac19\uc740 \ucf54\ub4dc\ub85c \ub418\uc5b4\uc788\uc5c8\uc2b5\ub2c8\ub2e4\ub9cc, ../data/ls_orchid.fasta \ub294 \ud604\uc7ac\uc5d0\uc11c \uc0c1\uc704\ub514\ub809\ud1a0\ub9ac\ub85c \ud558\ub098 \uc62c\ub77c\uac04 \ud6c4 data\ub85c \ub4e4\uc5b4\uac04\ub2e4\ub294 \uc758\ubbf8\ub85c \ub418\uc5b4\uc788\ubbc0\ub85c, \uc55e\uc11c \ud604\uc7ac \uc704\uce58 \uc544\ub798 data\ud3f4\ub354 \uc544\ub798 \uc800\uc7a5\ud558\uc600\uc73c\ub85c \uc544\ub798 \ucf54\ub4dc\ub85c \uc218\uc815\ud558\uaca0\uc2b5\ub2c8\ub2e4.  "
     ]
    },
    {
     "cell_type": "code",
     "collapsed": false,
     "input": [
      "pathToFile = os.path.join(\".\",\"data\",\"ls_orchid.fasta\")"
     ],
     "language": "python",
     "metadata": {},
     "outputs": [],
     "prompt_number": 30
    },
    {
     "cell_type": "code",
     "collapsed": false,
     "input": [
      "pathToFile"
     ],
     "language": "python",
     "metadata": {},
     "outputs": [
      {
       "metadata": {},
       "output_type": "pyout",
       "prompt_number": 31,
       "text": [
        "'./data/ls_orchid.fasta'"
       ]
      }
     ],
     "prompt_number": 31
    },
    {
     "cell_type": "code",
     "collapsed": false,
     "input": [
      "for seq_record in SeqIO.parse(pathToFile, \"fasta\"):\n",
      "    allSeqRecords.append(seq_record)\n",
      "    allSeqIDs.append(seq_record.id.split(\"|\")[1])\n",
      "    print seq_record.id\n",
      "    print str(seq_record.seq)\n",
      "    print len(seq_record)"
     ],
     "language": "python",
     "metadata": {},
     "outputs": [
      {
       "output_type": "stream",
       "stream": "stdout",
       "text": [
        "gi|2765658|emb|Z78533.1|CIZ78533\n",
        "CGTAACAAGGTTTCCGTAGGTGAACCTGCGGAAGGATCATTGATGAGACCGTGGAATAAACGATCGAGTGAATCCGGAGGACCGGTGTACTCAGCTCACCGGGGGCATTGCTCCCGTGGTGACCCTGATTTGTTGTTGGGCCGCCTCGGGAGCGTCCATGGCGGGTTTGAACCTCTAGCCCGGCGCAGTTTGGGCGCCAAGCCATATGAAAGCATCACCGGCGAATGGCATTGTCTTCCCCAAAACCCGGAGCGGCGGCGTGCTGTCGCGTGCCCAATGAATTTTGATGACTCTCGCAAACGGGAATCTTGGCTCTTTGCATCGGATGGAAGGACGCAGCGAAATGCGATAAGTGGTGTGAATTGCAAGATCCCGTGAACCATCGAGTCTTTTGAACGCAAGTTGCGCCCGAGGCCATCAGGCTAAGGGCACGCCTGCTTGGGCGTCGCGCTTCGTCTCTCTCCTGCCAATGCTTGCCCGGCATACAGCCAGGCCGGCGTGGTGCGGATGTGAAAGATTGGCCCCTTGTGCCTAGGTGCGGCGGGTCCAAGAGCTGGTGTTTTGATGGCCCGGAACCCGGCAAGAGGTGGACGGATGCTGGCAGCAGCTGCCGTGCGAATCCCCCATGTTGTCGTGCTTGTCGGACAGGCAGGAGAACCCTTCCGAACCCCAATGGAGGGCGGTTGACCGCCATTCGGATGTGACCCCAGGTCAGGCGGGGGCACCCGCTGAGTTTACGC\n",
        "740\n",
        "gi|2765657|emb|Z78532.1|CCZ78532\n",
        "CGTAACAAGGTTTCCGTAGGTGAACCTGCGGAAGGATCATTGTTGAGACAACAGAATATATGATCGAGTGAATCTGGAGGACCTGTGGTAACTCAGCTCGTCGTGGCACTGCTTTTGTCGTGACCCTGCTTTGTTGTTGGGCCTCCTCAAGAGCTTTCATGGCAGGTTTGAACTTTAGTACGGTGCAGTTTGCGCCAAGTCATATAAAGCATCACTGATGAATGACATTATTGTCAGAAAAAATCAGAGGGGCAGTATGCTACTGAGCATGCCAGTGAATTTTTATGACTCTCGCAACGGATATCTTGGCTCTAACATCGATGAAGAACGCAGCTAAATGCGATAAGTGGTGTGAATTGCAGAATCCCGTGAACCATCGAGTCTTTGAACGCAAGTTGCGCTCGAGGCCATCAGGCTAAGGGCACGCCTGCCTGGGCGTCGTGTGTTGCGTCTCTCCTACCAATGCTTGCTTGGCATATCGCTAAGCTGGCATTATACGGATGTGAATGATTGGCCCCTTGTGCCTAGGTGCGGTGGGTCTAAGGATTGTTGCTTTGATGGGTAGGAATGTGGCACGAGGTGGAGAATGCTAACAGTCATAAGGCTGCTATTTGAATCCCCCATGTTGTTGTATTTTTTCGAACCTACACAAGAACCTAATTGAACCCCAATGGAGCTAAAATAACCATTGGGCAGTTGATTTCCATTCAGATGCGACCCCAGGTCAGGCGGGGCCACCCGCTGAGTTGAGGC\n",
        "753\n",
        "gi|2765656|emb|Z78531.1|CFZ78531\n",
        "CGTAACAAGGTTTCCGTAGGTGAACCTGCGGAAGGATCATTGTTGAGACAGCAGAACATACGATCGAGTGAATCCGGAGGACCCGTGGTTACACGGCTCACCGTGGCTTTGCTCTCGTGGTGAACCCGGTTTGCGACCGGGCCGCCTCGGGAACTTTCATGGCGGGTTTGAACGTCTAGCGCGGCGCAGTTTGCGCCAAGTCATATGGAGCGTCACCGATGGATGGCATTTTTGTCAAGAAAAACTCGGAGGGGCGGCGTCTGTTGCGCGTGCCAATGAATTTATGACGACTCTCGGCAACGGGATATCTGGCTCTTGCATCGATGAAGAACGCAGCGAAATGCGATAAGTGGTGTGAATTGCAGAATCCCGCGAACCATCGAGTCTTTGAACGCAAGTTGCGCCCGAGGCCATCAGGCTAAGGGCACGCCTGCCTGGGCGTCGTGTGCTGCGTCTCTCCTGATAATGCTTGATTGGCATGCGGCTAGTCTGTCATTGTGAGGACGTGAAAGATTGGCCCCTTGCGCCTAGGTGCGGCGGGTCTAAGCATCGGTGTTCTGATGGCCCGGAACTTGGCAGTAGGTGGAGGATGCTGGCAGCCGCAAGGCTGCCGTTCGAATCCCCCGTGTTGTCGTACTCGTCAGGCCTACAGAAGAACCTGTTTGAACCCCCAGTGGACGCAAAACCGCCCTCGGGCGGTGATTTCCATTCAGATGCGACCCCAGTCAGGCGGGCCACCCGTGAGTAA\n",
        "748\n",
        "gi|2765655|emb|Z78530.1|CMZ78530\n",
        "CGTAACAAGGTTTCCGTAGGTGAACCTGCGGAAGGATCATTGTTGAAACAACATAATAAACGATTGAGTGAATCTGGAGGACTTGTGGTAATTTGGCTCGCTAGGGATATCCTTTTGTGGTGACCATGATTTGTCATTGGGCCTCATTGAGAGCTTTCATGGCGGGTTTGAACCTCTAGCACGGTCCAGTTTGCACCAAGGTATATAAAGAATCACCGATGAATGACATTATTGCCCCACACAACGTCGGAGGTGTGGTGTGTTAATGTTCATTCCAATGAATTTTGATGACTCTCGGCAGACGGATATCTTGACTCTTGCATCGATGAAGAACGCACCGAAATGTGATAAGTGGTGTGAATTGCAGAATCCCGTGAACCATCGAGTCTTTGAACGCAAGTTGCGCCCGAGGCCATCAGGCTAAGGGCACGCCTGCCTGGGCGTCGTATGTTTTATCTCTCCTTCCAATGCTTGTCCAGCATATAGCTAGGCCATCATTGTGTGGATGTGAAAGATTGGCCCCTTGTGCTTAGGTGCGGTGGGTCTAAGGATATGTGTTTTGATGGTCTGAAACTTGGCAAGAGGTGGAGGATGCTGGCAGCCGCAAGGCTATTGTTTGAATCCCCCATGTTGTCATGTTTGTTGGGCCTATAGAACAACTTGTTTGGACCCTAATTAAGGCAAAACAATCCTTGGGTGGTTGATTTCCAATCAGATGCGACCCCAGTCAGGGGGCCACCCCAT\n",
        "744\n",
        "gi|2765654|emb|Z78529.1|CLZ78529\n",
        "ACGGCGAGCTGCCGAAGGACATTGTTGAGACAGCAGAATATACGATTGAGTGAATCTGGAGGACTTGTGGTTATTTGGCTCGCTAGGGATTTCCTTTTGTGGTGACCATGATTTGTCATTGGGCCTCATTGAGAGCTTTCATGGCGGGTTTGAACCTCTAGCACGGTGCAGTTTGCACCAAGGTATATAAAGAATCACCGATGAATGACATTATTGTCAAAAAAGTCGGAGGTGTGGTGTGTTATTGGTCATGCCAATGAATTGTTGATGACTCTCGCCGAGGGATATCTTGGCTCTTGCATCGATGAAGAATCCCACCGAAATGTGATAAGTGGTGTGAATTGCAGAATCCCGTGAACCATCGAGTCTTTGAACGCAAGTTGCGCCCGAGGCCATCAGGCTAAGGGCACGCCTGCCTGGGCGTCGTATGTTTTATCTCTCCTTCCAATGCTTGTCCAGCATATAGCTAGGCCATCATTGTGTGGATGTGAAAGATTGGCCCCTTGTGCTTAGGTGCGGTGGGTCTAAGGATATGTGTTTTGATGGTCTGAAACTTGGCAAGAGGTGGAGGATGCTGGCAGCCGCAAGGCTATTGTTTGAATCCCCCATGTTGTCATATTTGTTGGGCCTATAGAACAACTTGTTTGGACCCTAATTAAGGCAAAACAATCCTTGGGTGGTTGATTTCCAATCAGATGCGACCCCAGTCAGCGGGCCACCAGCTGAGCTAAAA\n",
        "733\n",
        "gi|2765652|emb|Z78527.1|CYZ78527\n",
        "CGTAACAAGGTTTCCGTAGGTGAACCTGCGGAAGGATCATTGTTGAGACAGTAGAATATATGATCGAGTGAATCTGGATGACCTGTGGTTACTCGGCTCGCCTGATTTGTTGTTGGGCTTCCTTAGGAGCTTACATGGCGGGTTTGAACCTCTACCACGGTGCAGTTTGCGCCAAGTCATATGAAGCATAACTGCAAATGGCACTACTGTCACCAAAAGTTGGAGTGGCAGTGTGTTATTGCATGCGCTAATGGATTTTTGATGACTCTCGGCCAACGGATATCTGGCTCTTTGCATCGATGAAGGAACGCAGCGAAATGCGATAAGTGGTGTGAATTGCAGAATCCCGCGAACCATCGAGTCTTTGAACGCAAGTTGCGCCCGAGGCCATCAGGCTAAGGGCACGCCTGCCTGGGCGTCGTGTATCGCATCTCTCTTGCCAATGCTTACCCGGCATACAACTAGGCTGGCATTGGGTGGATGTGAAAGATTGGCCCCTTGTGCCTAGGTGCGGTGGGTCTAAGGATTGATGTTTTGATGGATCGAAACCTGGCAGGAGGTGGAGGATGCTGGAAGCCGCAAGGCTGTCGTTCGAATCCCCCATGTTGTCATATTTGTCGAACCTATAAAAGAACATGCTTGAACCCCAATGGATTGTAAAATGACCCTTGGCGGTTGATTTCCATTTAGATGCGACCCCAGGTCAGGCGGGCCACCC\n",
        "718\n",
        "gi|2765651|emb|Z78526.1|CGZ78526\n",
        "CGTAACAAGGTTTCCGTAGGTGAACCTGCGGAAGGATCATTGTTGAGACAGTAGAATATATGATCGAGTGAATCTGGAGGACCTGTGGTTACTCGGCTCCCCTGATTTGTTGTTGGGCTTCCTTAGGAGCTTACATGCCGGGTTTGAACCTCTACCACGGTGCAGTTTGCGCCAAGTCATATGAAGCATAACTGAACAATGGCATTATTGTCACCAAAAGTTGGAGTGGCAGTGTGCTATTGCATGCGCTAATGGATTTTTGATGACTCTCGCCAACGGATATCTTGGCTCTTGCATCGATGAAGAACCCAGCGAAATGCGATAAGTGGTGTGAATTGCAGAATCCCGCGAACCATCGAGTCTTTGAACGCAAGTTGCGCCCGAGGCCATCAGGCTAAGGGCACGCCTGCCTGGGCGTCGTGTATCGCATCTCTCTTGCCAATGCTTACCCGGCATACAACTAGGCTGGCATTGTGCGGATGTGAAAGATTGGCCCCTTGTGCCTAGGTGCGGTGGGTCTAAGGATTGATGTTTTGATGGATCGAAACCTGGCAGGAGGTGGAGGATGCTGGAAGCCGCAAGGCTGTCGTTCGAATCCCCCATGTTGTCATATTTGTCGAACCTATAAAAGAACATGCTTGAACCCCAATGGATGTAAAATGACCCTTGGCGGTTGATTTCCATTTAGATGCGACCCCAGGTCAGGCGGGGCCACCCGCTGAGTTTATGT\n",
        "730\n",
        "gi|2765650|emb|Z78525.1|CAZ78525\n",
        "TGTTGAGATAGCAGAATATACATCGAGTGAATCCGGAGGACCTGTGGTTATTCGGCTTGCCGAGGGCTTTGCTTTTGTGGTGACCCAAATTTGTCGTTGGGCCTCCTCGGGAGCTTTCATGGCAGGTTTCAAACTCTAGCACGGCACAGTTTGTGCCAAGTCATATGAAGCATCACCGACAAATGACATTATTGTCAAAAAAGTTGGAGGGGCGGTGTCCTCCTGTGCATGCCGAATATAATTTTGATGACTCTCGACAAGCGGATATCTTGGCTCTTGCATCGGATGAAGAACCCAGCGAAATGCGATAAGTGGTGTGAATTGCAAGATCCCGTGAACCATCGAGTCTTTTGAACGCAAGTTGCGCCCGAGGCCATCAGGCTAAGGGCACGCCTGCCTGGGCGTCGTGTGTTGTGTCTCTCTTGCCAATGCCTGTCCATATATCTAGGCTTGCATTGTGCGGATGCGAAAGATTGGCCCCTTGTGCCTTGGCGCGTTGGGTCTAAGGAATGTTTTGATGGCCCGAAACTTGGCAGGAGGTGGAGGACATTGGCTGCCACAAGGTTGTCATTTAAATCCCCCATGTTATCGTATTTATCGGACCTATATAATAACTTGTTTGAACCCCAGTGGAGGCAAAATGACCCTTGGATGGTTGACTGCCATTCATATGCGACCCCAGGTCAGGCGGGCCACCCGCTGCA\n",
        "704\n",
        "gi|2765649|emb|Z78524.1|CFZ78524\n",
        "CGTAACAAGGTTTCCGTAGGTGAACCTGCGGAAGGATCATTGTTGAGATAGTAGAATATATGATTGAGTGAATATGGAGGACATGTGGTTACTTGGCTCGTCAGTGCTTTGCTTTTGTGGTGACCTTAATTGGGCCTCCTTAGGAGCTTTCATGGCGGGTTCAAACCTTTAGCACGGCGCAGTTTGTGCCAAGTCATATAAGCATCCCTGATGAATGGCATTGTTGTTAAAAAAGTCGGAGGGGCGGCATGCTGTTGTGCATGCTAATGAATTTTTTGATGACTCTCGCAACGGAACTTGGCTCTTTACATCCGATGAAGAACGCAGCGAAATGCGATAAGTGGTGTGAATTGCAGAATCCCGTGAACCATCGAGTATTTGAACGCAAGTTGCGCCCAAGGCCATCAGGCTAAGGGCACGCCTGCCTGGGCGTCGTGTGCTGCATCTCTCCTNCCAATGCTTGCCCAGCATATAGCTAGGTTAGCATTGTGCGGATGAAATATTGGCCCCTTGTGCTTAGGTGCGGTGGGTCTAAGGATTAGTATTTTGATAGCTCGGAACTCGGCAGGAGGTGGAGAATGTTGGTAGCTGCAAGGCTGCCATTTGAATTCCCCATGTTGTCGTATTTGTTGAACCTATAAAAGAACTTGTTTGAACCCCAATGAAGGAAAAATGACCCTTGGGCGGTTGATTTTCATTCAGATGCAACCCCAGGTCAGGTGGCCACCCTGAGATTAAGC\n",
        "740\n",
        "gi|2765648|emb|Z78523.1|CHZ78523\n",
        "CGTAACCAGGTTTCCGTAGGTGAACCTGCGGCAGGATCATTGTTGAGACAGCAGAATATATGATCGAGTGAATCCGGTGGACTTGTGGTTACTCAGCTCGACATAGGCTTTGCTTTTGCGGTGACCCTAACTTGTCATTGGGCCTCCTCCCAAGCTTTCCTTGTGGGTGTGAACCTCTAGCACGGTGCAGTATGCGCCAAGTCATATGAAGCATCACTGAGGAATGACATTATTGTCCCAAAAGCTAGAGTGGAAGCGTGCTCTTGCATGCATGCATAATGAATTTTTTATTGACTCTCGACATATGTGGTGTGAATTGCAGAATCCCGTGAACCATCGAGTCTTTGAACGCAAGTTGCGCCCGATGCCATCAGGCTAAGGGCACGCCTGCCTGGGCGTCGTGTGCTGCGTCTCTCCTATCAATGCTTTCCTATCATATAGATTGGTTTGCATTGCGTGGATGCGAAAGATTGGCCCCTTGTGCCTAGGTGCGGTGGGTCTAAGGACTAGTGTTTTGATGGTTCGAAACCTGGCAGGAGGTGGAGGATGTTGGCAGCTATAAGGCTATCGTTTGAACCCCCCATATTGTCGTGTTTGTCGGACCTAGAGAAGAACCTGTTTGAATCCCAATGGAGGCAAACAACCCTCGGGCGGTTGATTGCCATTCATATTGCGACCCAGGTCAGGCGGGGCCACCGCTGAGTTTAAG\n",
        "709\n",
        "gi|2765647|emb|Z78522.1|CMZ78522\n",
        "CGTAACAAGGTTTCCGTAGGTGAACCTGCGGAAGGATCATTGTTGAGACAGCAGAATATATGATCGAGTGAATCCGGTGGACTTGTGGTTACTCAGCTCGACATAGGCTTTGCTTTTGCGGTGACCCTAATTTGTCATTGGGCCTCCCCCCAAGCTTTCCTTGTGGGTTTGAACCTCTAGCACGGTGCAGTATGCGCCAAGTCATATGAAGCATCACTGATGAATGACATTATTGTCCAAAAAGTTGGAGTGGAAGCGTGCTATTGCATACATGCAAATGAATTTTTTATGACTCTCGACATATCGTGGTGTGATCGCAGAATCCCGTGAACCATCGAGTCTTTGAACGCAAGTTGCGCCCGATGCCATCAGGCTAAGGGAACGCCTGCCTGGGCGTCGTGTGCTGCGTCTCTCCTGTCAATGGTTATACGTCATATAGACAGGTTTGCATTGCGTGGATGTGAAAGATTGGCCCCTTGTGCCTAGGTGCGGTGGGTCTAAGGACTAGTGTTTTGATGGTTCGAAACCTGGCAGGAGGTGGAGGATGTTGGCAGCTATAAGGCTATCATTTGAATCCCCCATATTGTCGTGTTTGTCGGACCTAGAGAAGAACATGTTTGAATCCCAATGGGGGCAAACAACCCTCGGGCGGTTGATTGCCATTCATATGCGACCCCAGGTCAGGCGGCCACCCGCTGAG\n",
        "700\n",
        "gi|2765646|emb|Z78521.1|CCZ78521\n",
        "GTAGGTGAACCTGCGGAAGGATCATTGTTGAGACAGTAGAATATATGATCGAGTGAATCCGGTGGACTTGTGGTTACTCAGCTCGACATAGGCTTGGCTTTGGCGGTGACCCTAATTTGCCATTGGGCCTCCTCCAAAGCTTTCCTTGTGGGTTTGAACCTCTAGCACGGTGCAGTATGCGCCAAGTCATATGAAGCATCACCGATGAATGACATTATTGTCAAAAAGTTGGAGTGGAAGCGTGCTATTGCATGCATGCAAATGAATTTTTTATGACTCTCGACAACGGATATCTTGGCTCTTGCATCGATGAAGAACGCAGCAAAATGCGATAAGTGGTGTGAATTGCAGAATCCCGTGAACCATCGAGTCTTTGAACGCAAGTTGCGCCCGATGCCATCAGGCTAAGGGCACGCCTGCCTGGGCGTCGTGTGCTGCGTCTCTCCTGTCAATGCTTTCATGTCATATAGATAGGTTTGCATTGCGTGGATGTGAAAGAATGGCCCCTTGTGCCTAGGTACGGTGGGTCTAAGGACTAGTGTTTTGATGGTTCGAAACCTGGCAGGAGGTGGAGGATGTTGGCAGCTATAAGGCTATCATTTGAATCCCCCATATTGTCGTGTTTGTCGGACCTAGAGAAAAACATGTTTGAATCCCAATGGAGGCAAACAACTCTCGGGCGGTTGATTGCCATTCATATGCGACCCCAGGTCAGGCGGGGCCACC\n",
        "726\n",
        "gi|2765645|emb|Z78520.1|CSZ78520\n",
        "CGTAACAAGGTTTCCGTAGGTGAACCTGCGGAAGGATCATTGTTGAGACAGCAGAATATATGATCGAGTGAATCCGGTGGACTTGTGGTTACTCAGCTCGCCATAGGCTTTGCTTTTGCGGTGACCCTAATTTGTCATTGGGCCTCCTCCAAAGCTTTCCTTGTGGGTTTGAACCTCTAGCACGGTGCAGTATGCGCCAAGTCATATGAATCATCACCGATGAATGACATTATTGTCCAAAAAGTTGGAGTAGAAGCGTGCTATTGCATGCATGCAATAGAATATTTTATGACTCTCGACAAGGGATATCTTGGCTCTTGCATCGGATGAAGAACGCAGCGAAATTGTGATAAGTGGTGTGAATTGCAGAATCCCGTGAACCATCGAGTATGTGAACGCAAGTTGCGCCCGATGCCATCAGGCTAAGGGCACGCCTGCCTGGGCGTCGTGTGCTGCGTCTCTCCTGTCAATGCTTTCCTGTCATATCGATAGGTTTGCATTGTGTGGATGTGAAAGATTGGCCCCTTGTGCCTAGGTGCGGTGGGTCTAAGGACTAGTGTTTTGATGGTTCGAAACCTGGCAGGAGGTGGAGGATGTTGGCAGCTATAAGGTTGTCATGTGAATCCCCCATATTGTCGTGTTTGTCGGACCTGGAGAAGAACCTGTTTGAATCCCAATGGAGGCAAACAACCCTCGGGCGGTTGATTGCCATTCATATGCGACCCCAGGTCAGGCGGGCCACCCGCTGAGTTT\n",
        "753\n",
        "gi|2765644|emb|Z78519.1|CPZ78519\n",
        "ATATGATCGAGTGAATCTGGTGGACTTGTGGTTACTCAGCTCGCCATAGGCTTTGCTTTTGCGGTGACCCTAATTTGTCATTGGGCCTCCTCCCAAGCTTTCCTTGTGGGTTTGAACCTCTAGCACGGTGCAGTATGCACCAAGTCATATGAAGCATTGCCGATGAATGACATTATTGTCCAAAAGTTGGAGTGGAAGCGTGCTACTGCATGCATGCAAATGAATTTTTTTATGACTCTCGACAACGGATATCTTGGCTCTTGCATCGATGAAGAACGCAGCGAAATGCGATAAGTGGTGTGAATTGCAGAATCCCGTGAACCATCGAGTCTTTGAACGCAAGTTGCGCCCGATGCCATCAGGCTAAGGGCACGCCTGCCTGGGCGTCGTGTGCTGCGTCTCTCCTGTCAATGCTTTCCCATCATATAGATAGGTTTGCATTGTGTGGATGTGAAAGATTGGCCCCTTGTGCCTAGGTGCGGTGGGTCTAAGAACTTAATGTTTTGATGGTTCGAAACCTGGCAGGAGGTGGAGGATGTTGGCAGCTATATAAGGCTATCATTTGAATCCCCCATATTGTCGCGTTTGTTGGACCTAGAGAAGAACATGTTTGAATCCCAATGGAGGCAAACAACCCTCGGGCGGTTGATTGCCATTCATATGCGACCCCAGGTCAGGCGGGGCCACCCGCTGAGTTTA\n",
        "699\n",
        "gi|2765643|emb|Z78518.1|CRZ78518\n",
        "CGTAACAAGGTTTCCGTAGGTGAACCTGCGGGAGGATCATTGTTGAGATAGTAGAATATTCGATCGAGTGAATCCGGAGGACTTGTGGTTACTCGGCTCGTCGAAGGCTTAACTTTTGTGGTGACCCTGATTTGTAGTTGGGCATCCTCGAGAGCTTTTATGGCGGGTTTGAGCCTCTATCACGGCGCAGTTTGCGCCAAGTCATATGAAGCATCGCCGACGAATTACATTATTGTCCCCCAAACTCGGATGGACGGTGTGTGTTACGCATACCCGTGAACCATCGAGTCTTTGAACGCAAGTTGCGCCCAAGGCCATCAGGCTAAGGGCACGCCTGCCTGGGCGTCGTGTGCTGCATCTCTTTTGCCAATGCTTGCTCGACATACAATTAGGCCAGTATTGCATAGATATGAAAGATTGACCCCTTGTGCTTAGGTGCGGTGGGTCTAAGGATTGGTGTTTTGATGGCCCAAACCCCGGCAGGAGGTGGAGCATGTTGATAGTCGCAAGGCTGTCGTTCAAATCCCACATGTTGTCGTATTTGCCGGACCCACAGAAGAACCTATTTGAACCCCTATGGAGGCAAAACAACCCTTGAGCGATTGATTGCCATTCAGATACGACCCCAGGTCAGGCGGGGCCACCCGCTGAGTTTTCC\n",
        "658\n",
        "gi|2765642|emb|Z78517.1|CFZ78517\n",
        "CGTAACAAGGTTTCCGTAGGTGAACCTGCGGAAGGATCATTGTTGAGACAGTAGAATATACGATCGAGTGAATCCAGAGGACTTGTGGTTACTCGGCTCGTCCAAGTCTTAGCTTTTGTGGCCCTGATTTGTCGTTGGGCATCCTCAGGAGATTTTATGGCGGGTTTGAACCTCTATCACGGTGCAGTTTGCGCCAAGTCATATGAAGCATCACCGATGAATGACATTATTGTCACAAAAGTCGGATGGGCGGTGTGCTGTTGTGCATGCCAATAAATTTTTGATGACTCTCGGCCAACGGATATCTTGCTCTTCCATCGATGAAGAACGCAGCGAAATGCGATAAGTGGTGTGAATTGCAGAATCCCGTGAACCATCGAGTCTTTGAACGCAAGTTGCGCCCAAGGCCATCAGGCTAAGGGCACGCCTGCCTGGGCGTCGTGTGCTGCATCTCTTTTGCCAATGCTTGCCCGACATACAATTAGGACAGTATTGCATAGATATGAAAGATTGACCCCTTGTGCTTAGGTGCGGTGGGTCTAAGGATTGGTGTTTTGGTGGCCCGAACCCCGGCAGGAGGTGGATCATGTTGATAGTCGCAAGACTGTCATTCAAATCCCACATGTTGTCGTATTTGTCGGACCCACAGAAGAACCTATTTGAACCCCAATGGAGGCAAAACAACCCTCGAGCGATTGATTGCCATTCAGATACGACCCCAGGTCAGGCGGGGCCACCCGCTGAGTTTAAGC\n",
        "752\n",
        "gi|2765641|emb|Z78516.1|CPZ78516\n",
        "CGTAACAAGGTTTCCGTAGGTGAACCTGCGGAAGGATCATTGTTGAGACAGTATAATATATGATCGAGTGAATCCGGAGGACTTGTGGTTACTCGGCTCGTCCAAGTCTTAGCTTTTGTGGCCCTGATTTGTCGTTGGGCATCCTCAGGAGCTTTTATGGCGGGTTTGAACCTCTATCACGGCGCAGTTTGCGCCAAGTCATATGAAGCATCACCGACGAATGACATTATTGTCACCAAAGTCGGATGGGCGGTGTGCTATTGTGCATACCAATAATTTTTTGATGACTCTCGTCAACGGATATCTTAGCGAAATGCGATAAGTGGTGTGAATTGCAGAATCCCGTGAACCATCGAGTCTTTGAACGCAAGTTGCGCCCAAGGCCATCAGGCTAAGGGCACGCCTGCCTGGGCGTCGTGTGCTGCATCTCTTTTGCCAATGCTTGCCCGACATACAATTAGGCCAGTATTGCATAGATATGAAAGATTGACCCCTTGTGCTTAGGTGCGGTGGGTCTAAGGATTGGTGTTTTGATGTCCCGAACCCCGGCAGGAGGTGGAGCATGTTGATAGTCGCAAGACTATCGTTCAAATCCCACATGTTGTCGTATTTGTCGGACCCACAGAAGAACCTATTTGAACCCCAATGGAGGCAAAACAACCCTCGAGTGATTGATTGCCATTCAGATATGACCCCAGGTCAGGCGGGGCCACCCGCTGAGTTTAA\n",
        "726\n",
        "gi|2765640|emb|Z78515.1|MXZ78515\n",
        "CGTAACAAGGTTTCCGTAGGTGAACCTGCGGAAGGATCATTGCTGAGACCGTAGAATAAACGATCGAGTTAATCTGGAGGACCGGTGTACTTCGATCTCCCAGGGGCTTTCGCTACTGTGGTGGCCTTTGATCTGCCATCGGGCCTCCTTGGGAGTGTTCTTGAAGGCGATCAAACTTCTAGCCCGGCGCAGCTTCGCGCCAAGTCTTTTGAGACAAGAATCGGCATAGGGGTGTTCCCTTGTAGCCGGTGGGGGTGGCACTTGATTCGTGCCCCCCAAGTTACATTTTTACAACTCTCGGCAACGGATATCTCGGCTCTTGCATCGATGGAGGACGCAGCGAAATGCGATAAGTGGTGTGAATTGCAGAATCCCGTGAACATCGAGTCTTTGAACGCAAGTTGCGCTCGAGGCCGTCAGGCTAAGGGCACGCCTGCCTGGGCGTTGTGTACTGTGTCTCTCCCACCAATGGTTGTCCAAGAATACCGTTCGGTCGGTGCGGATGTGAGTTTGGCCCCTTGTTCTTCGGTTCAATGGGTCTAAGACCTCGGGCTTTTGATGGTCCAAAATTCGACAAGAGGTGGATGGGCAATGGCTGAGCCAAAGCTGTTGTGCGAATGCCGTATGTTGTCCGATTTGATGGGCCATCATAATTCGTAGGACCCTTCGGAACCCCATTGGTGCCACATCAACCCAACCCATGGGCGGTTGATTGCCATTTGGAAGCAACCCCAGGTCAGGTGAGGCCACCCGCTGAGTTTAAGC\n",
        "765\n",
        "gi|2765639|emb|Z78514.1|PSZ78514\n",
        "CGTAACAAGGTTTCCGTAGGTGGACCTTCGGGAGGATCATTTTTGAAGCCCCCAAATATACGATCGAGATAATCCGGAGGACCGGTGTACTTTGGTCTCCCAGGGGCTTCCGCCGCTGTGGTGACCATGATTTCCCATCGAACCTCCTTGGGAGAGTTCTCTATGGCAATTGAACCCTTGGCCCGGCGCAGTTTCGCTCCAAGTCAAATGAGATAGAACCGACAAGGGTCTTCGTCCTCCATGGATGGACCGGGGAGGGCCGGCGTGCTGCTGTGCCCCCTTAAGATTCGTCTGACAACTCTCGTCAACGGATATCTCGGCTCTTGCATCGATGAAGAACCCAGCGAAATGTGATAAGTGGTGTGAATTGCAGAATCCCGTGAACCATCGAGTCTTTGAACGCAAGTTGCGCCCGAGGCCATCAGGCTAAGGGCACGCCTGCCTGGGCGTTGCGTGCTGCATCTCTCCCAATGCTAAGGTTGAACAGCCATACTGTTCGGCCGGCGAGGATGAGAGTTTGGCCCCTTGTTCTTCGGTGCGATGGGTCCAAGACTTGGGCTTGTGACGGTCCACAAATCCGGCAAGAGGTGGACGGACGGTGGCTGCGACAAAGCTGTTGTGCGAATGCCCTATGTTGTCGTATTTGATGGGCCGGAATGATCCCTTTCGAACCCCGTCGGAGGCACGTCGACCCAACCCATGGGCGGTTGACGGCCATTAGGATGCAACCCCAGGTCAGGTGAGACTACCCGCTA\n",
        "755\n",
        "gi|2765638|emb|Z78513.1|PBZ78513\n",
        "CGTAACAAGGTTTCCGTAGGTGAACCTGCGGAAGGATCATTGTTGAGACCGCCAAATACACGATCGAGTTAATCCGGAGGACCGGTGTACTTTGGTCTCCCAGGGGCTTCCGCCGCTGTGGTGACCATGATTTGCCATCGAGCCTCATTGGGAGATTTCTCCATGGCAATTGAACCCTTGGCCCGGCGCAGTTTCGCGCCAAGTCAAATGAGATAGAACCGGCAAGGGCATCGTCCTCCATGGAGCCGGGGAGGCCGGCATGCTGCTGTGCCCGAAAGAATTTTCGACAACTCTCGGCAACGGATATCTCGGCTCTTGCATCGATGAAGAACGCAGCGAAATGTGATAAGTGGTGTGAATTGCAGAATCCCGTGAACCATCGAGTCTTTGAACGCAAGTTGCGCCCGAGGCCATCAGGCTAAGGGCACGCCTGCCTGGGCGTTGCGTGCTGCATCTCTCCCAATGCTAAGGTTGAACAGCCATACTGTTCGGCCGGCGAGGATGAGAGTTTGGCCCCTTGTTCTTCTGTGCGATGGGTCCAAGACTTGGGCTTGTGACGGTCCACAAATCCGGCAAGAGGTGGACGGACGGTGGCTGCGACGAAGCTTTTGTGCGAATGCCCTATGTTGTCGTATTTGATGTGCCAGAACGATCCCTTTCGAACCCCTTCGGAGGCACGTCGACCCAACCCATGGGCGGTGACGCCATTAGGATGCAACCCAGTCAGTGAGCTACCGCTGAG\n",
        "742\n",
        "gi|2765637|emb|Z78512.1|PWZ78512\n",
        "CGTAACAAGGTTTCCGTAGGTGGACCTTCGGGAGGATCATTTTTGAAGCCCCCAAAAAAACGATCGAATTAATCCGGAGGGCCGGTGTAGTTTGGTCTCCCAGGGGCCTTGGCTACTGTGGTGACCGTGAATTTCCGTCGAACCCTCTGGGAGGAATTCTTGATGGCAAATGAAACCCTTGGCCCGGCGCAGTTTCGCCCCAAATCAAATGAGATGGAACCGGCGGAGGGCATCGTCCCCCATGGAACCGGGGAGGGCCGGCGTTCTTCCGTTCCCCCAATGAAATTATTTTTTGACAACTCTCGCAACGGATATCTCGGCTCTTGCATCGATGAAGAACGCAGCGAAATGTGATAAGCTGGTGTGAATTGCAGAATCCCGTGAACCATCGAGTCTTTGAACGCAAGTTGCGCCCGAGGCCATCAGGCTAAGGGCACGCCTGCCTGGGCGTTGCGTGCTGCATCTCTCTCCCATTGCTAAGGCTGAACAGGCATACTGTTCGGCCGGCGCGGATGAGTGTTTGGCCCCTTGTTCTTCGGTGCGATGGGTCCAAGACCTGGGCTTTTGACGGCCGGAAATCCGGCAAGAGGTGGACGGACGGTGGCTGCGACGAAGCTGTCGTGCGAATGCCCTGCGTTGTCGTATTTGATGGGCCGGAATAAATCCCTTTTGAACCCCATTGGAGGCACGTCAACCCGTGGGCGGTCGACGGTCATTTGGATCCAACCCCAGGTCAGGTGAGGCCACCCGCTGAGTTTAAGC\n",
        "762\n",
        "gi|2765636|emb|Z78511.1|PEZ78511\n",
        "CGTAACAAGGTTTCCGTAGGTGAACCTTCGGAAGGATCATTGTTGAGACCCCCAAAAAAACGATCGAGTTAATCCGGAGGACCGGTGTAGTTTGGTCTCCCAGGGGCTTTGGCTACTGTGGTGGCCGTGAATTTCCGTCGAACCTCCTTGGGAGAATTCTTGATGGCAATTGAACCCTTGGCCCGGCGCAGTTTCGCCCCAAGTCAAATGAGATGGAACCGGCGGAGGGCATCGTCCTCCATGGAACCGGGGAGGGCCGGCGTTCTTCCGTTCCCCCCATGAATTTTTTTTTGACAACTCTCGGCAACGGATATCTCGGCTCTTTGCATCCGATGAAAGAACCCAGCGAAATGTGATAAGTGGTGTGAATTGCAGAATCCCGTGAACCATCGAGTCTTTGAACGCAAGTTGCGCCCGAGGCCATCAGGCTAAGGGCACGCCTGCCTGGGCGTTGCGTGCTGCATCTCTCTCCCATTGCTAAGGCTGAACAGGCATACTGTTCGGCCGGCGCGGATGAGTGTTTGGCCCCTTGTTCTTCGGTGCGATGGGTCCAAGACCTGGGCTTTTGACGGCCGGAAATCCGGCAAGAGGTGGACGGACGGTGGCTGCGACGAAGCTGTCGTGCGAATGCCCTACGCTGTCGTATTTGATGGGCCGGAATAAATCCCTTTTGAGCCCCATTGGAGGCACGTCAACCCGTGGGCGGTCGACGGCCATTTGGATGCAACCCCAGGTCAGGTGAGGA\n",
        "745\n",
        "gi|2765635|emb|Z78510.1|PCZ78510\n",
        "CTAACCAGGGTTCCGAGGTGACCTTCGGGAGGATTCCTTTTTAAGCCCCCGAAAAAACGATCGAATTAAACCGGAGGACCGGTTTAATTTGGTCTCCCCAGGGGCTTTCCCCCCTTGGTGGCCGTGAATTTCCATCGAACCCCCCTGGGAGAATTCTTGGTGGCCAATGGACCCTTGGCCCGGCGCAATTTCCCCCCCAATCAAATGAGATAGGACCGGCAGGGGGCGTCCCCCCCCATGGAACCGGGGAGGGCCGGCATTCTTCCGTTCCCCCCTCGGATTTTTTGACAACTCTCGCAACGGATATCTCGCCTCTTTGCATCGGATGGAAGAACGCAGCGAAATGTGATAAGTGGTGTGAATTGCAGAATCCCGTGAACCATCGAGTCTTTGAACGCAAGTTGCGCCCGAGGCCATCAGGCTAAGGGCACGCCTGCCTGGGCGTTGCGTGCTGCATCTCTCCCATTGCTAAGGTTGAACGGGCATACTGTTCGGCCGGCGCGGATGAGAGATTGGCCCCTTGTTCTTCGGTGCGATGGGTCCAAGACCTGGGCTTTTGACGGTCCAAAATCCGGCAAGAGGTGGACGGACGGTGGCTGCGACAAAGCTGTCGTGCGAATGCCCTGCGTTGTCGTTTTTGATGGGCCGGAATAAATCCCTTTTGAACCCCATTGGAGGCACGTCAACCCATGGGCGGTTGACGGCCATTTGGATGCAACCCCAGGTCAGGTGAGCCACCCGCTGAGTTTA\n",
        "750\n",
        "gi|2765634|emb|Z78509.1|PPZ78509\n",
        "CGTAACAAGGTTTCCGTAGGTGAACCTGCGGAAGGATCATTGTTGAGACCGCCAAATATACGATCGAGTTAATCCGGAGGACCGGTGTAGTTTGGTCTCCCAGGGGCTTTCGCCGCTGTGGTGACCGTGATTTGCCATCGAGCCTCCTTGGGAGATTTCTTGATGGCAATTGAACCCTTGGCCCGGCGCAGTTTCGCGCCAAGTCATATGAGATAGAACCGGCGGAGGGCGTCGTCCTCCATGGAGCGGGGAGGGCCGGCATGCTCCGTGCCCCCCCATGAATTTTTCTGACAACTCTCGGCAACGGACGTAACAAGGTTTAAATGTGATAAGCAGGTGTGAATTGCAGAATCCCGTGAACCATCGAGTCTTTGAACGCAAGTTGCGCCCGAGGCCATCAGGTTAAGGGCACGCCTGCCTGGGCGTTGCGTGCTGCATCTCTCCCATTGCTAAGGTTGAACGGGCATACTGTTCGGCCGGCGCGGATGAGAGTTTGGCCCCTTGTTCTTCGGTGCGATGGGTCCAAGACCTGGGCTTTTGACGGTCCAAAATCCGGCAAGAGGTGGACGGACGGTGGCTGCGACAGAGCTGTCGTGCGAATGCCCTACGTTGTCGTTTTTGATGGGCCAGAATAAATCCCTTTTGAACCCCATTGGAGGCACGTCAACCCAATGGGGGGTGACGGGCATTTGGTTAACCCCGGCAAGTTAAGGCACCCGTTAATTTTAGGA\n",
        "731\n",
        "gi|2765633|emb|Z78508.1|PLZ78508\n",
        "CGTAACAAGGTTTCCGTAGGTGAACCTGCGGAAGGATCATTGTTGAGACCGCCAAATATACGATCGAGTTAATCCGGAGGACCGGTGTAGTTTGGTCTCCCAGGGGCTTTCGCCGCTGTGGTGACCGTGATTTGCCATCGAGCCTCCTTGGGAGATTTCTTGATGGCAATTGAACCCTTGGCCCGGCGCAGTTTCGCGCCAAGTCATATGAGATAGAACCGGCAGGGGGCGTCGTCCTCCATGGAGCCGGGGAGGGCCGGCATGCTGCCGTGCCCCCAATGAATTTTTTGACAACTCTCGGCAACGGATATCTCGGCTCTTGCATCGATGAAGAACGCAGCGAAATGTGATAAGTGGTGTGAATTGCAGAATCCCGTGAACCATCGAGTCTTTGAACGCAAGTTGCGCCCGAGGCCATCAGGCTAAGGGCACGCCTGCCTGGGCGTTGCGTGCTGCATCTCTCCCATTGCTAAGGTTGAACGGGCATACTGTTCGGCCGGCGCGGATGAGAGTTTGGCCCCTTGTTCTTCGGTGCGATGGGTCCAAGACCTGGGCTTTTGACGGTCCAAAATCCGGCAAGAGGTGGACGGACGGTGGCTGCGACAGAGCTGTCGTGCGAATGCCCTACGTTGTCGTATTTGATGGGCCGGAATAAATCCCTTTGAACCCCATTGGAGGCACGTCAACCCCATGGGCGGTGACGGCCACTTGGATGCAACCCAGTCAGTGAGCCACCGCTGA\n",
        "741\n",
        "gi|2765632|emb|Z78507.1|PLZ78507\n",
        "CGTAACAAGGTTTCCGTAGGTGAACCTGCGGAAGGATCATTGTTGAGACCCCCAAAAAAACGATCGAGTTAATCCGGAGGACCGGTGTAGTTTGGTCTCCCAGGGGCTTTGGCTACTGTGGTGACCGTGAATTTCCGTCGAGCCTCCTTGGGAGATTTCTTGATGGCAATTGAACCCTTGGCCCGGCGCAGTTTCGCCCCAAGTCAAATGAGATGGAACCGGCGGAGGGCATCGTCCTCCATGGAACCGGGGAGGGCCGGCGTGCTTCCGTCCCCCAATGAATTTTTTTGACAACTCTCGCAACGGATATCTCGCTCTTGCATCGATGAAGAACACAGCGAAATGTGATAAGTGGTGTGAATTGCAGAATCCCGTGAACCATCGAGTCTTTGAACGCAAGTTGCGCCCGAGGCCATCAGGCTAAGGGCACGCCTGCCTGGGCGTTGCGTGCTGCATCTCTCTCCCATTGCTAAGGCTGAACAGGCATACTGTTCGGCCGGCGCGGATGAGTGTTTGGCCCCTTGTTCTTCGGTGCGATGGGTCCAAGACCTGGGCTTTTGACGGCCGGAAATCCGGCAAGAGGTGGACGGACGGTGGCTGCGACGAAGCTGTCGTGCGAATGCCCTGCGTTGTCGTATTTGATGGGCCGGAATAAATCCCTTTGAACCCCATTGGAGGCACGTCAACCCGTGGCGGTCGACGGCCATTTGGATGCAACCCAGTCAGTGAGCCACCGCTGA\n",
        "740\n",
        "gi|2765631|emb|Z78506.1|PLZ78506\n",
        "CGTAACAAGGTTTCCGTAGGTGAACCTGCGGAAGGATCATTGTTGAGACCGCAAAATATACGATCGAGTTAATCCGGAGGACTGGTGTAGTTTGGTCTCCCAGGGGCGTTGGCTACTGCGGTGACCATGATTTTCCATCGAGCCTCCTCGGGAGATTTCTTGATGGCAATTGAACCCTTGGCCCGGCGCAGTTTCGCGCCAAGTCGTATGAGATAGAACCGGCAGAGGGCTTCGTCCTCCATGGAACCGGGGAGGACCGGCATGCCGCCGTACCCCCTTTGAATCGGGCTGACAACTCTCGTTCAAGGAGCCCTCAGCTCATAATGTGATAAGTGGTGTGAATTGCAGAATCCCGTGAACCATCGAGTCTTTGAACGCAAGTTGCGCCCGAGGCCATCAGGCTAAGGGCACGCCTGCCTGGGCGTTGCGTGCTGCATCTCTCCCGTTGCTAAGGTCGAACAGGCATATACTGTTCGGCCGGCGCGGATGAGAGTTTGGCCCCTTGTTCTTCGGTGCGATGGGTCCAAGACCTGGGCTTTTGACGGTAAAAAATCCGGCAAGAGGTGGACGGACGGTGGCTGCGACAAAGCTGTCGTGCGAATGCCCTACGTTGTCGTATTTGATGGGCCAGAATAAATCCCTTTTGAACCCCATTGGAGGCACGTCAACCCATGGGCGGTTTGACGGCCATTGGATGCCAACCCAGTCAGGTGAGGCCACCCGCTGA\n",
        "727\n",
        "gi|2765630|emb|Z78505.1|PSZ78505\n",
        "CGTAACAAGGTTTCCGTAGGTGAACCTGCGGAAGGATCATTGTTGAGACCGCCAAATATACGATCGAGTTAATCCGGAGGACTGGTGTAGTTTGGTCTCCCAGGGGCGGTGGCTACTGCGGTGACCATGATATTCCATCGAGCCTCCTCGGGAGATTTCTTGATGGCAATTGAACCCGTGGCCCGGCGCAGTTTCGCGCCAAGTCGTATGAGATAGAACCGGCAGAGGTCTTCGTCCTCCATGGAACCGGGGAGGCCCGGCATACCACCATACCCCCAATGAATCTTTGTGACAACTCTCGTCAATGTGATAAGTGGTGTGAATTGCAGAATCCCGTGAACCATCGAGTCTTTGAACGCAAGTTGCGCCCGAGGCCATCAGGCTAAGGGCACGCCTGCCTGGGCGTTGCGTGCTGCATCTCTCCCGTTGCTAAGGTCGAACAGGCATACTGTTCGGTCGGCGCGGATGAGAGTTTGGCCCCTTGTTCTTCGGTGCGATGGGTCCAAGACCTGGGCTTTTGACGGTAAAAAATCCGGCAAGAGGTGGACGGACGGTGGCTGCGACAAAGCTGTCGTGCGAATGCCCTGCGTTGTCGTATTTGATGGGCCGGAATAAATCCCTTTTGAACCCCATTGGAGGCACGTCAACCCATGGGCGGTTGACGGCCATTTGGATGCAACCCCAGGTCAGGTGAGCCACCCGCTGAGTTTT\n",
        "711\n",
        "gi|2765629|emb|Z78504.1|PKZ78504\n",
        "CGTAACAAGGTTTCCGTAGGTGAACCTTCGGAAGGATCATTGTTGAGACCGCAAAATATACGATCGAGTTAATCCGGAGGACTGGTGTAGTTTGTCTCCCAGGGGCGTTGGCTACTGCGGTGACCATGATTTTCCATCGAGCCTCCTCGGGAGATTTCTTGATGGCAATTGAACCCTTGGCCCGGCGCAGTTTCGCGCCAAGTCGTATGAGATAGAACCGTCAGAGGGCATCGTCCCTCCATGGAGCCGGGGAGGGCCGGCATGCCCGCCGTGCCCCCAATGAATCTTTTTGACAACTCTCGCAACGGATATCTCGCTCTTCATCGATGAAGAACGCAGCGAAATGTGATAAGTGGTGTGAATTGCAGAATCCCGTGAACCATCGAGTCTTTGAACGCAAGTTGCGCCCGAGCCATCAGGCTAAGGGCACGCCTGCCTGGGCGTTGCGTGCTGCATCTCTCCCGTTGCTAAGGTCGAACAGACATACTGTTCGGCCGGCGCGGATGAGAGTTTGGCCCCTTGTTCTTCGGTGCGATGGGTCCAAGACCTGGGCTTTTGACGGTACCAAATCCGACAAGAGGTGGACGGACGGTGGCTGCGACAAAACTGTCGTGCGAATGCCCTACGTTGTCGTATTTGATGGGCCAGAATAAATCCCTTTTGAACCCCATTGGAGGCACGTCAACCCATGGGCGGTGACGGCCATTGGATGCAACCCCAGTCAGTGAGCCACCGCTGAGTAA\n",
        "743\n",
        "gi|2765628|emb|Z78503.1|PCZ78503\n",
        "CGTAACCAGGTTTCCGTAGGTGAACCTCCGGAAGGATCCTTGTTGAGACCGCCAAATATACGATCGAGTTAATCCGGAGGACCGGTGTAGTTTGGTCTCCCAGGGGCTTTCGCCGCTGTGGTGTCCGTGATTTACCATCGAGCCTCCTTGGGAGATTTCTTGATGGCAATTGAACCCATGGCCCGGCGCAGTTTCGCGCCAAGTCATATGAGATAGAACCGGCAGGGGGCGTCGTCCTCCATGGAACCGGGGAGGGCCGGCATGCTACCGTACCCCCAATGAATTATTTTGACAACTCTCGGCAACGGAGTCTCAGCTCTTTGTGATAAGTGGTGTGAATTGCAGAATCCCGTGAACCATCGAGTCTTTGAACGCAAGTTGCGCCCGAGGCCATCAGGCTAAGGGCACGCCTGCCTGGGCGTTGCGTGCTGCATCTCTCCCATTGCTAAGGTTGAACGGGCATACTGTTCGGCCGGCGCGGACGAGAGTTTGGCCCCTTGTTCTTCGGTGCGATGGGTCCAAGACCTGGGCTTTTGACGGTCCAAAATCCGGCAAGAGGTGGACGGACGGTGGCTGCGACAAAGCTGTCGTGCGAATGCCCTACGTTGTCGTATTTGATGGGCCAGAATAAATCCCTTTTGAACCCCATTGGAGGCACGTCAACCCATGGGCGGTTGACGGCCATTTGGATGCAACCCCAGGTCAGGTGAGCCACCCGCTGAGATAA\n",
        "727\n",
        "gi|2765627|emb|Z78502.1|PBZ78502\n",
        "CGTAACCAGGTTTCCGTAGGTGAACCTCCGGAAGGATCATTGTTGAGACCGCCAAATATACGATCGAGTTAATCCGGAGGACCGGTGTAGTTTGGTCTCCCAGGGGCTTTCGCCCCTGTGGTGACCGTGATTTGCCATCGAGCCTCCTTGGGAGATTTCTTGATGGCAATTGAACCCATGACCCGGCGCAGTTTCGCGCCAAGTCATATGAGATAGAACCGGCAGGGGTCGTCGTCCTCCATGGAGCCGGGGAGGGCCGGCATACTACCGTCCCCCCAATGAATTTTATATTGACAACTCTCGGCCGGAATCTCGGCTCTTGCATCGATGGAAGGACGCAGCGAAAATGTGATAAGTGGTGTGAATTGCAGAATCCCGTGAACCATCGAGTCTTTGAACGCAAGTTGCGCCCGAGGCCATCAGGCTAAGGGCACGCCTGCCTGGGCGTTGCGTGCTGCATCTCTCCCATTGCTAAGGTTGAACGGGCGTACTGTTCGGCCGGCGCGGACGAGAGTTTGGCCCCTTGTTCTTCGGTGCGATGGGTCCAAGACCTGGGCTTTTGACGGTCCAAAATCCGGCAAGAGGTGGACGGACGGTGGCTGCGACAAAGCTGTCGTGCGAATGCCCTACGTTGTCGTATTTGATGGGCCAGAATAAATCCCTTTTGAACCCCATTGGAGGCACGTCAACCCATGGGCGGTTGACGGCCATTTGGATGCAACCCCAGGTCAGGTGAGGCCACCCCGTGAGTTTACGC\n",
        "757\n",
        "gi|2765626|emb|Z78501.1|PCZ78501\n",
        "CGTAACAAGGTTTCCGTAGGTGAACCTGCGGAAGGATCATTGTTGAGACCGCAAAATATACGATCGAGTTAATCCGGAGGACCGGTGTAGTTTGGTCTCCCAGGGGCTTTGGTTACTGTGGTGACCGTGACTTTGCCGTCGAGCCTCCTTGGGAGATTTCTTGATGGAAATTGAACCCTTGGCCCGGCGCAGTTTCGCGCCAAGTCATATGAGATGGAACCGGCGGAGGGAATCGTCCTCCATGGAGCCGGGGAGGGCCGGCGTGTTGCCGTGCCCCCAATGAATTTTTTTTTGGGCAACTCTCGGCCAAACGGGAAATCTCGGCTCCTTGCATCGGATGGAAGGACGCAGCGAAATTGTGATAAGTGTTGTGAATTGCAGAATCCCGTGAACCATCGAGTCTTTTGAACGCAAGTTGCGCCCGAGGCCATCAGGCTAAGGGCACGCCTGCCTGGGCGTTGCGTGCTGCATCTCTCTCCCATTGCTAAGGCTGAACAGGCATACTGTTCGGCCGGCGCGGATGAGTGTTTGGCCCCTTGTTCTTCGGTGCGATGGGTCCAAGACCTGGGCTTTTGACGGCCGGAAATCCGGCAAGAGGTGGACGGACGGTGGCTGCGACGAAGCTGTCGAGCGAATGCCCTACGCTGTCGTATTTGATGGGCCGGAATAAATCCCTTTTGAACCCCATTGGAGGCACGTCAACCCGTGGGCGGTCGACGGCCATTTGGATGCAACCCCAGGTCAGGTGAGGCCACCCGCTGAGTTTAAGA\n",
        "770\n",
        "gi|2765625|emb|Z78500.1|PWZ78500\n",
        "CGTAACAAGGTTTCCGTAGGTGAACCTGCGGAAGGCTCATTGTTGAGACCGCAAAATAATTGATCGAGTTAATCCGGAGGACCGGTGTAGTTTGGTCTCCCAGGGGCTTTGGTTACTGTGGTGACCGTGACTTTGCCGTCGAGCCTCCTTGGGAGATTTCTTGATGGCAATTGAACCCTTGGCCCGGCGCAGTTTCGCGCCAAGTCATATGAGATGGAACCGGCGGAGGGCATCGCCCTCCATGGAGCCGGGGAGGGCCGGCGTCCTGCCGTGCCCCCAATGAATTTTTCTTTGGGAAAACTTCTCGGCCAACGGGAATCTCGGCTCTTTGCATCGGATGGAAGGACGCAGCGAATTGTGATAAGTGGTGTGAATTGCAGAATCCCGTGAACCATCGAGTCTTTGAACGCAAGTTGCGCCCGAGGCCATCAGGCTAAGGGCACGCCTGCCTGGGCGTTGCGTGCTGCATCTCTCTCCCATTGCTAAGGCTGAACAGGCATACTGTTCGGCCGGCGCGGATGAGTGTTTGGCCCCTTGTTCTTCGGTGCGATGGGTCCAAGACCTGGGCTTTTGACGGCCGGAAATCCGGCAAGAGGTGGACGGACGGTGGCTGCGACGAAGCTGTCGTGCGAATGCCCTACGCTGTCGTATTTGATGGGCCGGAATAAATCCCTTTTGAACCCCATTGGAGGCACGTCAACCCGTGGGCGGTCGACGGCCATTTGGATGCAACCCCAGGTCAGGTGAGGCCACCCGCTGAGTTTAAG\n",
        "767\n",
        "gi|2765624|emb|Z78499.1|PMZ78499\n",
        "CGTAACAAGGTTTCCGTAGGTGAACCTGCGGAGGGATCATTGTTGAGATCGCATAATAATTGATCGAGATAATCCAGAGGATCGGTTTACTTTGGTCACCCTTGGGCGCCTGCTATTGCGGTGACCTAGATTTTCCATGGAGGGAGCCTCCTTGGGAGCTTTCTTGCCGGCGATCTAACCCTTGCCCGTCGCAGTTTTGCACCAAGTCATATGACACATAAATGGTGAAGGACATACCCCCTTCGTTGAATTCGAGGAGGGGACGGCATGTGGCCTTGACCTCTCCCAATTATTTTTTTGACAACTCTCAGCCAACGGATATCTCGGCTCTTTGCATCGGATGGAGGACGCAGCGAAATGCGATAAGTGTGTGAATTGCAAGATCCCGTGAACCATCGAGTCTTTGAACGCAAGTTGCGCCCAAGCCATCAGGCCAAGGGCACGCCTGCCTGGGCATTGCGAGTCATATCTCTCCCTTAATGAGGCTGTCCATGCATACTGTTCAGCCGGTGCGGATGTGAGTTTGCCCCCTTGTTCTTTGGTGCTGGGGGTCTAAGAGCTGCAGGGGCTTTTGATGGTCCTAAATTCGGCAAGAGGTGGACGAATCATGCTACAACAAAACTGTTGGGCGAATGCTCCAGGTTGTCGTATTAGATGGGCCATCATAATCTAGAGACCCTTGTGAACCCCATTGGAGGCCCATCAACCCATGATCAGTTGATGGCCTTTTGGATGCGACCCCAGGTCAGGTGAGCAACC\n",
        "759\n",
        "gi|2765623|emb|Z78498.1|PMZ78498\n",
        "CGTAACAAGGTTTCCGTAGGTGAACCTGCGGAAAGGTCATTGTTGAGATCACATAATAATTGATCGAGTTACTCCAGAGGATCAGTTTACTCCGGTCACCCATGGGTGCTTGCTATTGCGGTGACCTAGATTTGCCATGGAGCCTCCTTGGGAGTTTTCTTGCCGGCGATCTTACCCTTGCCCGGGGCAGTTTTGCCCCAAGTCATATGACACAATAATGGCGAAGGAGGGGGCGGCATTTTGCCCTTGACCCTACAATCACTCCCCCTCTCCAAATTATTTTTGGACAACTCTCAGCAACGGATATCTCGGCTCTTGCATCGATGAAGAACCCAGCGAAATGCGATAAGTGGTGTGAATTGCAGGATCCCGTGAACCATCGAGTCTTTGAACGCAAGTTGCGCCCAAGGCCATCAGGCCAAGGGCACGCCTGCCTGGGCATTGCGAGTCATATCTCTCCCTTAATGAGGCTGTACATGCATACTGTTCAGCCGGTGCGGATGTGAGTTTGGCCCCTTGTTCTTCGGTGCTGGGGGTCTAAGAGCTGCAGGGGCTTTTGATGGTCCTAAATTCGGCAAGAGGTGGACGAATTACAACAAAACTGTTGTGCGAATGCTCCAGGTTGTCGTATTAGATGGGCCAGCATAATCTAAAGACCCTTGTGAACCCCACTGGAGGCACATCAACCCGTGATCAGTTGATGGCCATTTGTTGCGACCCCAGTCAGTGAGCAACCCGCTGAGTTTAAGC\n",
        "750\n",
        "gi|2765622|emb|Z78497.1|PDZ78497\n",
        "CGTAACAAGGTTTCCGTAGGTGAACCTGCGGAAGGATCATTGTTGAGATCACATAATAATTGATCGAGTGAATCCAGAGGATCAGTTTACTTTGGTCGCCCATGGGCGCTTGCTATTGCGGTGACCTAGATTTGCCATGGAGCCTCCTTGGGAGCTTTCTTGCCGGCGATCTAACCCTTGCCCGGCGCAGTTTTGCGCCAAGTCACATGACACATAAATGGTGAAGGGCACGGCCCTTTGTGAATTCAAGGAGGTGAAGGGCATGTGGCCTTGAGCCTACACTCCCTCCCCCTCTCCAAATTATTTTTTGTGAAACAACTCTCAGCAACGGAGATCTCAGCTCTTGCATCGATGAAGGAACGCAGCGAAATGCGATAAGTGGTGTGAATTGCAGAATCCCGTGAACCATCGAGTCTTTGAACGCAAGTTGCGCCCAAGGCCATCAGGCCAAGGGCACGCCTGCCTGGGCATTGCGAGTCATATCTCTCCCTTAACGAGGCTGTCCAGGCATACTGTTCAGCCGGTGCGGGTGTGAGTTTGGCCCCTTGTTCTTTGGTGCTGGGGGTCTAAGAGCTGCAGGGGCTTTTGATGGTCCTAAATTCGGCAAGAGGTGGACGCAACGCGCTACAACAAAACTGTTGTGCGAATGCCCCGGGTTGTCGTATTAGATGGGCCAGCATAATCTAAACACCCTTGTGAACCCCATTGGAGGCCCATCAACCCATGATCAGTTGATGGCCATTTGGTTGCGACCCCAGGTCAGGTGAGGCAACCCGCTGAGTTTAAGC\n",
        "788\n",
        "gi|2765621|emb|Z78496.1|PAZ78496\n",
        "CGTAACAAGGTTTCCGTAGGTGAACCTGCGGAAGGATCATTGTTGAGATCGCATAATAATTGATCGAGTTAATCCAGAGGATCGGTTTACTTTGGTCACCCTTGGGCGCCTGCTATTGCGGTGACCTAGATTTGCCATGGAGGGAGCCTCCTTGGGAGCTTTCTTGCCGGCGATCTAACCCTTGCCCGGCGCAGTTTTGCGCCAAGTCATATGACACATAATTGGTGAAGGGCATATCCCTTCGTGAATTCGAGGAGGGGCCGGCATGTGGCCTTGACCTCTCCAATTAATTTTTTGAACAACTCTCAGCAACGGATATCTCGGCTCTTGCATCGATGGAGGGACGCACCGAAATGCGATAAGTGGTGTGAATTGCAGAATCCCGTGAACCATCGAGTCTTTTGAACGCAAGTTGCGCCCAAGGCCATCAGGCCAAGGGCACGCCTGCCTGGGCATTGCGAGTCATATCTCTCCCTTAATGAGGCTGTCCATGCATACTGTTCAGCCGGTGCGGATGTGAGTTTGGCCCCTTGTTCTTTGGTGCTGGGGGTCTAAGAGCTGCAGGGGCTTTTGATGGTCCTAAATTCGGCAAGAGGTGGACGAATCATGCTACAACAAAACTGTTGGGCGAATGCTCCAGGTTGTCGTATTAGATGGGCCATCATAATCTAGAGACCCTTGTGAACCCCATTGGAGGCCCATCAACCCATGATCAGTTGATGGCCTTTTGGGTTGCGACCCCAGGTCAGGTGAGGCAACCAGCTGAGTTTAAGC\n",
        "774\n",
        "gi|2765620|emb|Z78495.1|PEZ78495\n",
        "CGTAACAAGGTTTCCGTAGGTGAACCTCCGGAAGGATCATTGTTGAGATCACATAATAATTGATCGAGATAATCCAGAGGATCGGTTTACTTTGGTCACCCATGGGCGCTTGCTATTGCGGTGACCTAGAGTTGCCATGGAGAGCCTCCTTGGGAGCTTTCTTGCCGGCGATCTAACCCTTGTCCGGCGCGGTTTTGCGCCAAGTCATATGACACATAATTGGTGAAGGGCATAGCCCTTCGTGTATTCAAGGAGGGGGGGCGGCATGTGGCCTTGACACTGCACTCGCTCTCCCCCTCTCCAAAGTATTTTTCTGAACAACTCTCAGCAACGGATATCTCAGCTCTTGCATCGGATGGAGGAACGCAGCGAAATCCGATAAGTGGTGTGAATTGCAGAATCCCGTGAACCATCGAGTCTTTTGAACGCAAGTTGCGCCCGAGGCCATGAGGCCAAGGGCACGCCTGCCTGGGCATTGCGAGTCATCTCTCTCCCTCAATGAGGCTGTCCATGCATACTGTTCAGCCGGTGCGGATGTGAGTTTGGCCCCTTGTTCTTTGGTGCTGGGGGTCTAAGAGCAGCAGGGGCTTTTGATGGTCCTAAATTCGGCAAGAGGTGGACGAATCAGGCTACAACAACACTGTTGTTGTGCGAATGCTCCAGGTTGTCGTATTAGATGGGCCGGCATAATCCAGAGACCCTTGTGAACCCCATTGGAGGCCCATCAACCCATGATCAGTTGATGGCCATTCGGTTGCGACCCCAGGTCAGTGAGCAACCCGCTGAGTG\n",
        "789\n",
        "gi|2765619|emb|Z78494.1|PNZ78494\n",
        "CGTAACAAGGTTTCCGTAGGTGAACCTGCGGAAGGATCATTGTTGAGGTCGCATAATAATTGATCGAGTTAATCTGGAGGATCAGTTTACTTTGGTCACCCATGGACATTTACTGTTGCAGTGACCTAGATTTACCATCGGGCCTCCTTGGGAACTTTCCTGCTGGCGATCTATACCCTTGCCCGGCGCAGTAATGCGCCAAATCAAATGACCCATAATTAATGAAGGGGGACGGCATACTGCCTTGACCAACTCCCCATTATTGAGGTAACACTCTCAACTTCGGATATCTCAGGTGTGAATTGCAGAATCCCGTTAACATCGAGTCTTTGAACGCAAGTTGGGCCCGAGGCCAACAGGCCAAGGGAACGCCTGTCTGGGCATTGCGAGTCATATCTCTCCCTTAATGAGGCTGTCCATACGTACTGTTCAGCCGGTGCGGATGTGAGTTTGGCCCCTTGTTCTTCGGTACGGGGGGTCTAAGAGCTGCATGGGCTTTTGATGGTCCTAAATACGGCAAGAGGTGGACGAACTATGCTACAACAAAACTGTTGTGCGAATGCCCCGGGTTGTTGTGTTTAATCAGAAGACCCTTTTGAACCCCATTGGAGGCCCATCGACCCATGATCAGTTGAATGGCCATTTGGTTGCGATCCCAGGTCAGGTGAGGCAACCCGCTGAGTTTAAG\n",
        "688\n",
        "gi|2765618|emb|Z78493.1|PGZ78493\n",
        "CGTAACAAGGATTCCGTAGGTGAACCTGCGGAAGGATCATTGTTGAGATCGCATAATAATTGATCGAGTTAATCTGGAGGATCGGTTTACTTTGGTCACCCATGGGCATTTTCTGTTGCAGTGACCTAGAATTTCCATCGGGCCTCCCTGGGAGCTTTCCTGCTGGCGATCTATACCCTTGCCCGGCGCAGTTTTGCGCCAAGTCAAATTTTACATAAGTGGTGAAGGGGGGCGGCATTCTTCCTTGACCAGCCCCCAAGTATTTAGGTAACAACTCTCAGCAACGGATATCTCGGCTCATGCATCGATGAAGGAACGCAGCGAGATTCGATAAATGGTGTGCCTTGCAGAATCCCGTGAACCATCGAATCTTTGAACGCAAGTTGCGCGCGAGGCCATCAGCCCAAGGGGACGCCTGCCTGGACATTGCGACTCATATCTCTCCCTTAATGAGGCTGTCCAAACGTACTGGTCATCCGGTGTGGATGTGAGTTTGGCCCCTTGTTCTTCGGTACGGGGGGTCTAAGAGCTGCATGGGCTTTTGATGGTCCTAAATACGGCAAGAGGTGGACGAACTATGCTACAACAAAACTGTTGTGCGAATGCCCCGGGTTGTTGTGTTTAATCAGAAGACCCTTTTGAACCCCATTGGAGGCCCATCGACCCATGATCAGTTGAATGGCCATTTGGTTGCGATCCCAGGTCAGGTGAGGCAACCC\n",
        "719\n",
        "gi|2765617|emb|Z78492.1|PBZ78492\n",
        "CGTAACAAGGTTTCCGTAGGTGAACCTGCGGAAGGATCATTGTTGAGATCGCATAATAATTGATCGAGTTAATCTGGAGGATCAGTTTACTTTGGTCACCCACGGGCATTTGCTGTTGCAGTGACCTAGAATTTGCCATCGAGCCTCCTTGGGAGCTTTCTTGCTGGCGATCTATACCCTTGCCCGGCGCAGTTTTGCGCCAAGTCATATGTCACATAATTGGTGAAGGGGGGGAGCGTACTGCCTTGACCCACTCCAAATTATTTTTTTAACAACTCTCAGCAACGGATATCTCGGCTCTTGCATCGATGTAGAACCCAGCGAAATGCGATACTGGTGTGATTTGCAGAATCCCGTGGACCATCGAGTCTTTGAACGCAAGTTGCGCCCGAGGCCATCAGGCCAAGGGCACGCCTGCCTGGGCATTGCGAGTCAAATCTCTCCCTTAATGAGGCTGTCCATACATACTGTTCAGCCGGTGCGGATGTGAGTTTGGCCCCTTGTTCTTTGGGACGGGGGGTCTAAGAGCTGCACGGGCTTTTGATGGTCCTAAATACGGCAAGAGGTGGACGAATTATGCTACAACAAAACTGTTGTGCGAATGCCCCGGGTTGTTGTGTTACATGGGCCAGCTTAATCAGAAGACCCTTTTGGACCCCATTGGAGGCCCATCAACCCATGATCAGTTGATTGGCCATTTGGTTGCGATCCCAGTCAGGTGAGGCACACCGCTGAGTTTAATA\n",
        "743\n",
        "gi|2765616|emb|Z78491.1|PCZ78491\n",
        "CGTAACAAGGTTTCCGTAGGTGAACCTGCGGAAGGATCATTGTTGAGATCGCATAATAATTGATCGAGTTAATCTGGAGGATCAGTTTACTTTGGTCACCCACGGGCATTTGCTGTTGCAGTGACCTAGATTTGCCATCGGGCCTCCTTAGGAGCTTTCTTGCTGGCGATCTATACCCTTGCCCGGCGCAGTTTTGCGCCAAGTCATATGACACATAATTGGTGTTGGGGGGAGGCGTGCTGCCTTGACCCGCTCCAAATTATATTTTTAACAACTCTCAGCAACGGATATCTCGGCTCTTGCATCGATGAAGAACCAGCGAAATGCGATAAATGGTGTGAATTGCAGAATCCCGTGAACCATCGAGTCTTTGAACGCAAGTTGCGCCCGAGGCCATCAGGCCAAGGGCACGCCTGCCTGGGCATTGCGAGTCATATCTCTCCCTTAATGAGGCTGTCCATACATACTGTTCAGCCGGTGCGGATGTGAGTTTGGCCCCTTGTTCTTTGGTACGGGGGGTCTAAGAGCTGCATGGGCTTTTGATGGTCCTAAATACGGCAAGAGGTGGACGAACTATGCTACAACAAAATGTTGTGCGAATGCCCCGGGTTGTTGTGTTACATGGACCAGCATAATCAGAAGACCCTTTGGACCCCATTAGAGGCCCATCAACCCATGATCAGTTGAATGGCCATTTGTTGCGATCCCAGTCAGGTGAGCAACCCGCTGAGATAAGC\n",
        "737\n",
        "gi|2765615|emb|Z78490.1|PFZ78490\n",
        "CGTAACAAGGTTTCCGTAGGTGAACCTGCGGAAGGATCATTGTTGAGATCACATAATAATTGATCGAGTTAATCTGGAGGATCAGTTTACTTTGGTCACCCATGGGCATTTGCTGTTGCAGTGACCGAGATTTGCCATCGAGCCTCCTTGGGAGCTTTCTTGCTGGCGATCTGAACCCTAGTCCGGCGCAGTTTTGCGCCAAGTCATATGGCACATAATTGGTGAAGGGGGCGGCATGCTGCCTCGACCCTCCCCAAATTATTTTTTAACAACTCTCAGCAACGGATATCTCGGCTCTTGCATCGATGAAGAACGCAGCGAAATGCGATAAATGGTGTGAATTGCAGAATCCCGTGAACCATCGAGTCTTTGAACGCAAGTTGCGCCCGAGGCCATCAGGCCAAGGGCACGCCTGCCTGGGCATTGCGAGTCATATCTCTCCCTTAATGAGGCTGTCCAAACATACTGTTCAGCCGGTGCGGATGTGAGTTTGGCCCCTTGTTCTTTGGTACGGGGGGTCTAAACGCTGCATGGGCTTTTGATGGTCCTAAATACGGCAAGAGGTGGACGACTGTTCTGCAACAAGTGTTGTGCGAATGCCCCGCGTTGTCGTATTAGATGGGCCAGCATAATTTGAAGACCCTTTTGAACCCCATTGGAGGCCCGTCAACCCATGATCAGTTGACGGCCATTTGGTTGCGACCCCAGTCAGGTGAGCAACCAGCTGA\n",
        "728\n",
        "gi|2765614|emb|Z78489.1|PDZ78489\n",
        "CGTAACAAGGTTTCCGTAGGTGAACCTGCGGAAGGATCATTGTTGAGATCACATAATAATTGATCGAGTTAATCTGGAGGATCAGTTTACTTTGGTCACCCGAGGGCATTTGCTATTGCAGTGACCGAGATTTGCCATCGAGCCTCCTTGGGAGCTTTCTTGCTGGCGATCTAAACCCGAGCCCGGCGCAGTTTTGCGCCAAGTCATATGACACATAATTGGTGAAGGGGGCGGCATGCTGCCTTGACCCTCCCCAGATTATTTTTTAACAACTCTCAGCAACGGATATCTCGGCTCTTGCATCGATGAAGAACGCAGCGAAATGCGATAAATGGTGTGAATTGCAGAATCCCGTGAACCATCGAGTCTTTGAACGCAAGTTGCGCCCGAGGCCATCAGGCCAAGGGCACGCCTGCCTGGGCATTGCGAGTCATATCTCTCCCTTAATGAGGCTGTCCATACATACTGTTCAGCCGGTGGGGATGTGGGTTTGGCCCCTTGTTCATTGGTACGGGGGGTCTAAGAGCTGCATGGGATTTTGATGGTCCTAAATACGGCAAGAGGTGGACGAACTATGCTACAACAAAACTGTTGTGCGAATGCCCCGAGTTGTCGTATTAGATGGGCCCAGCATATCTGAAGACCCTTTTGAACCCCATGGAGGCCCATCAACCCATGATCAGTTGATGGCCATTTGGTTGCGACCCCAGGTCAGGTGAGGCAACCCGCTGAGTTTAGGC\n",
        "740\n",
        "gi|2765613|emb|Z78488.1|PTZ78488\n",
        "CTGTAGGTGAACCTGCGGAAGGATCATTGTTGAGATCACGCAATAATTGATCGAGTTAATCTGGAGGATCAGTTTACTTTGGTCACCCATGGGCATTTGTTATTGCAGTGACCGAGATTTGCCATCGAGCCTCCTTGGGAGCTTTCTTGCTGGCGATCTTAACCCTAGCCCGGCGCAGTTTTGCGCCAAGTCATACGACACATAATTGGTGAAGGGGGCGGCATGGTGCCTTGACCCTCCCCTAATTATTTTCTAACAACTCTCATCAACGGGATGGAGAACGCAGCGAAATGCGATAAATGGTGTGAATTGCAGAATCCCGTGAACCATCGAGTCTTTGAACCCAAGTTGCGCCCGAGGCCATCAGGCCAAGGGCACGCCTGCCTGGGCATTGCGAGTCAAATCTCTCCCTTAATGAGGCTGTCCATACATACTGTTCAACCGGTGCGGATGTGAGTTTGCCCCCTTGTTCATTGGTACGGGGGGTCTAAGAGCTGCATGGGCTTTTGATGGTCCTAAAAACGGCAAGAGGTGGACGAACAACGCCACAACCAAACTGTTGTGCGGATCCCCCGGGTTGTCGTATTAGATGGGCCATCATAATCTGAAGACCCTTTTGAACCCCATCGGAGGCCCATCAACCCATGATCAGTTGATGGACATTTGTTGCGACCCCAGTCAGGTGAGCAACCGGCT\n",
        "696\n",
        "gi|2765612|emb|Z78487.1|PHZ78487\n",
        "CGTAACAAGGTTTCCGTAGGTGAACCTGCGGAAGGATCATTGTTGAGATCACATAATAATTGATCGAGTTACTCTGGAGGATCAGTTTACTTTGGTCACCCATGGGCATTTGCTATTGCAGTGACCGGGATTTGCCATCGAGCCTCCTTGGGAGCTTTCTTGCTGGCGATCTAAACCCTAGCCCGGCGCAGTTTTGCGCCAAGTCATATGACACATAATTGGTGAAGGGGGCGGCATGCTGCCTTTACCCTCCCCAAATTATTTTTTAACAACTCTCAGCAACGGATATCTCGGCTCTTGCATCGATGAAGAACGCAGCGAAATGCGATAAATGGTGTGAATTGCAGAATCCCGTGAACCATCGAGTCTTTGAACGCAAGTTGCGCCCGAGGCCATCAGGCCAAGGGCACGCCTGCCTGGGCATTGCGAGTCATATCTCTCCCTTAATGAGGCTGTCCATACATATTGTTCAGCCGGTGCGGATGTGAGTTCGGCCCCTTGTTCTTCGGTACGGGGGGTCTAAGAGCAGCATGGGCTATCGATGGTCCTAAATGCGGCAAGAGGTGGACGAACTATGCTACAACAAAACTGTTGTGCGAATGCCCCGGGTTGTCGTATTAGATGGGCCAGCGTAATCTAAAGACCCTTTTGAACCCCATTAGAGGCCCATCAACCCATGATCAGTTGGGGCCACTTGTTGCGACCCCAGTCAGGTGAGCAACCGCTGAGTAA\n",
        "732\n",
        "gi|2765611|emb|Z78486.1|PBZ78486\n",
        "CGTCACGAGGTTTCCGTAGGTGAATCTGCGGGAGGATCATTGTTGAGATCACATAATAATTGATCGAGATTATCTGGAGGATCAGTTTACTTTGGTCACCCATGGACATTTGCTATTGCAGTGCCCGAGATTTGCCATCGAGCCTCCTTGGGAGCTTTCTTGCTGGCGATCTAAACCCTAGCCCGGCGCAGTTTTGCGCCAAGTCATATGACACATAATTGGTGAAGGGTGCGGCATGGTGCCTGACCCTCCCCAAATTATTTCTTAACAACTCTCAGCAACGGATATCTCGCTCTTGCATCGATGAAGAACGCAGCGAAATGCGATAAATGGTGTGAATTGCAGAATCCCGTGAACCATCGAGTCTTTGAACGCAAGTTGCGCCCGAGGCCATCAGGCCAAGGGCACGCCTGCCTGGGCATTGCGAGTCATATCTCTCCCTTAATGAGGCTGTCCATACATACTGTTCAGCCGGTGCGGATGTGAGTTTGGCCCCTTGTTCATTGGTACGGGGGGTCTAAGAGCTGCGTGGGCTTTTGATGGTCCTAAATACGGCAAGAGGTGGACGAACTATGCTACAACAAAACTGTTGTGCGAATGCCCCGGGTTGTCGTATTAGATGGGCCAGCATAATCTAAAGACCCTTTTGAACCCCATTGGAGGCCCATCAACCCATGATCAGTTGATGGCCATTTGGTAGCGACCCCAGGTCAGGTGAGGCAACCCGCTGA\n",
        "731\n",
        "gi|2765610|emb|Z78485.1|PHZ78485\n",
        "CTGAACCTGGTGTCCGAAGGTGAATCTGCGGATGGATCATTGTTGAGATATCATAATAATTGATCGAGTTAATCTGGAGGATCAGTTTACTTTGGTCACCATGGGCATTTGCTATTGCAGTGACCGAGATTTGCCATCGAGCCTCCTTGGGAGCTTTCTTGCTGGCGATCTAAACCCTAGCCCGGGGCAGTTTTGCGCCAAGTCATATGACACATAATTGGTGAAGGGTGCGGCATGGTGCCTTGACCCTCCCCAAATTATTTCTTAACAACTCTCAGCAACGGATATCTCGGCTCTTGCATCGATGAAGAACGCAGCGAAATGCGATAAATGGTGTGAATTGCAGAATCCCCGTGAACATCGAGTCTTTGAACGCAAGTTGCGCCCGAGGCCATCAGGCCAAGGGCACGCCTGCCTGGGCATTGCGAGTCATATCTCTCCCTTAATGAGGCTGTCCATACATACTGTGCAGCCGGTGCGGATGTGAGTTTGGGCCCTTGTTCATTGGTACGGGGGGTCTAAGAGCTGCGTGGGCTTTTGATGGTCCTAAATACGCCAAGAGGTGGACGAACTATGCTACAACAAAACTGTTGTGCGAATGCCCCGGGTTGTCGTATTAGACGGGCCAGCACAATCTAAAGACCCCTTTGAACCCCATTGGAGGCCCATCAACCCATGATCAGTTGATGGCCATGTGTTGCGACCCCAGTCAGCTGAGCAACCCCTGATTTAGTA\n",
        "735\n",
        "gi|2765609|emb|Z78484.1|PCZ78484\n",
        "CGTAACAAGGTTTCCGTAGGTGAACCTGGGGAAGGATCATTGTTGAGATCACATAATAATTGATCGAGTTAATCTGGAGGATCAGTTTACTTTGGTCACCCATGGGCATTTGGCTATTGCAGTGACCGAGAGTTTACCATCGAGCCTCCATGGGAGCTTTCTTGCTGGCGATCTAAACCCTAGCCCGGCGCAGTTTTGGCCCAAGTCATATGACACATAATTGTGAAGGGGCGGCATGTTTCCTACCCTCCCAACTCTCAGCAACGGATATCTCGCTCTTGCATCGATGAAGAACGCAGCGAAATGCGATAAATGGTGTGAATTGCAGAATCCCGTGAACCATCGAGTCTTGGAACGCAAGTTGCGCCCGAGGCCATCAGGCCAAGGGCACGCCTGCCTGGGCATTGCGAGTCATATCTCTCCCTTAATGAGGCTGTCCATACATACTGTTCAGCCGGTGCGGATGTGAGTTTGGCCCCTTGTTCATTGGTACGGGGGGTCTAAGAGCTGCGTGGGCTTTTGATGGTCCTAAATACGGCAAGAGGTGGACGAACTATGCTACAACAAAACTGTTGTGCGAATGCCCCGGGTTGTCGTATTAGATGGGCCAGCATAATCTAAAGACCCTTTGACACCCCATTGGAGGCCCATCAACCCATGATCAGTTGATGGTCCATTGGGTTGCGACCCCAAGTCAGGTGAAGCAACTCCCTGAGTTTT\n",
        "720\n",
        "gi|2765608|emb|Z78483.1|PVZ78483\n",
        "CGTAACAAGGTTTCCGTAGGTGAACCTGCGGAAGGATCATTGTTGAGATCACATAATAATTGATCGAGTTAATCTGGAGGATCAGTTTACTTTGGTCACCCATGGGCATTTGCTATTGCAGTGACCGAGATTTGCCATCGAGCCTCCTTGGGAGCTTTCTTGCTGGCGATCTAAACCCTAGCCCGGCGCAGTTTTGCGCCAAGTCATATGACACATAATTGGTGAAGGGGGCGGCATGCTGCCTTGACCCTCCCCCAAATTATTTTTTAACAACTCTCAGCAACGGAAATCTGGCCTCTTGCATGGATGAAGACCAAACCGAAATCATAAATGGTGTGAATTGCAGAATCCCGTGAACAATCGAGTCTTTGAACGCAAGTTGCGCCCGAGGCCATCAGGCCAAGGGCACGCCTGCCTGGGCATTGCGAGTCATATCTCTCCCTTAATGAGGCTGTCCACACATATCTGTTCAGCCGGTGCGGATGTGAGTTTGGCCCCTTGTTCATTGGTACGGGGGGTCTAAGAGCTGCATGGGCTTTTGTTGGTCCTAAATACGGCAAGAGGTGGACGAACTATGCTACAACAAAACTGTTGTGCGAATGCCCCGGGTTGTCGTATTAGATGGGCCAGCATAATCTAAAGACCCTTTTGAACCCCATTGGAGGCCCATCAACCCATGATCAGTTGATGGCCATTTGGTTGCGACCCCAGGTCAAGTGAAGCAACCCCTGAGTTTAGCA\n",
        "740\n",
        "gi|2765607|emb|Z78482.1|PEZ78482\n",
        "TCTACTGCAGTGACCGAGATTTGCCATCGAGCCTCCTGGGAGCTTTCTTGCTGGCGATCTAAACCGTAGCCCGGCGCAGTTTTGCGCCAAGTCATATGACACATAATTGGTGAAGGGGGCGGCATGCTGCCTTGACCCTCCCCAAATTATTTTTTAACAACTCTCNGCAACGGATATCTCGCCTCTTCATCGATGAAGAACGCAGCGAAATGCGATAAATGGTGTGAATTGCAGAATCCCGTGAANCCATCGAGTCTTTGAACGCAAGTTGCGCCCGAGGCCATCAGGCCAAGGGCACGCCTGCCTGGGCATTGCGAGTCATATCTCTCCCTTAATGAGGCTGTCCATACATACTGTTCAGCCGGTGCGGATGTGCGTTTGGCCCCTTGTTCATTGGTACGGGGGGTCTAAGAGCTGCGTGGGCTTTTGATGGTCCTAAATACGGCAAGAGGTGGACGAACTATGCTACAACAAAACTGTTGTGCGAATGCCCCGGGTTGTCGTATTAGATGGGCCAGCATAATCTAAAGACCCTTTTGAACCCCATTGGAGGCCCATCAACCCATGATCAGTTGATGGCCATTTGGTTGCGACCCCAGGTCAGGTGAGGCAACCCGCTGAGTTTAGCA\n",
        "629\n",
        "gi|2765606|emb|Z78481.1|PIZ78481\n",
        "CGTAACAAGGTTTCCGTAGGTGAACCTGCGGAAGGATCATTGTTGAGATCACATAATAATTGATCGAGTTAATCTGGAGGATCAGTTTACTTTGGTCACCCATGGGCATTTGCTATTGCAGTGACCGAGATTTGCCATCGAGCCTCCTTGGGAGCTTTCTTGCTGGCGATCTAAACCCTAGCCCGGCGCAGTTTTGCGCCAAGTCATATGACACATAATTGGCGAAGGGGGCGGCATGGTGCCTTGACCCTCCCCAAATCATTTTTTTAACAACTCTCAGCAACGGAAGGGCACGCCTGCCTGGGCATTGCGAGTCATATCTCTCCCTTAATGAGGCTGTCCACACATACTGTTCAGCCGGTGCGGATGTGAGTTTGGCCCCTTGTTCATTGGTACGGGGGGTCTAAGAGCTGCGTGGGCTTTTGTTGGTCCTAAATACGGCAAGAGGTGGACGAACTATGCTACAACAAAACTGTTGTGCGAATGCCCCGGGTTGTCGTATTAGATGGGCCAGCATAATCTAAAGACCCTTTTGAACCCCATTGGAGGCCCATCAACCCATGATCAGTTGA\n",
        "572\n",
        "gi|2765605|emb|Z78480.1|PGZ78480\n",
        "CGTAACAAGGTTTCCGTAGGTGAACCTGCGGAAGGATCATTGTTGAGATCACATAATAATTGATCGAGTTAATCTGGAGGATCAGTTTACTTTGGTCACCCATGGGCATTTGCTATTGCAGTGACCGAGATTTGCCATCGAGCCTCCTTGGGAGCTTTCTTGCTGGCGATCTAAACCCTAGCCCGGCGCAGTTTTGCGCCAAGTCATATGACACATAATTGGCGAAGGGGGCGGCATGCTGCCTTGACCCTCCCCAAATTATTTTTTAACAACTCTCAGCAACGGATAGGCCATCAGGCTAAGGGCACGCCTGCCTGGGCATTGCGAGTCATATCTCTCCCTTCAATGAGGCTGTCCACACATACTGTTCAGCCGGTGCGGATGTGAGTTTGGCCCCTTGTTCATTGGTACGGGGGGTCTAAGAGCTGCGTGGGCTTTTGTTGGTACCTAAATACGGCAAGAGGTGGACGAACTATGCTACAACAAAAATGTTGTGCGAATGCCCCGGGTTGTCGTATAGATGGGCCAGCATAATCTAAAGACCCTTTTGAACCCCATTGGAGGCCCATCAACCCATGATCAGTTGA\n",
        "587\n",
        "gi|2765604|emb|Z78479.1|PPZ78479\n",
        "CGTAACAAGGTTTCCGTAGGTGAACCTGCGGAAGGATCATTGTTGAGATCACATAATAATTGATCGAGTTAATCAGGAGGATCAGGTTACTTTGGTCACCCATGGGCATTTGCTGTTTCAGTGACCTAGATTTGCCATCGAGCCGAACTAAACCCTTGCCCGGCGCAGATTTGCGCCAATTTATATGAGACATTACTGGAAGGGGAGGGATGCTGCCTTGCCTTGCCCCCCAAATTATTTTTTAACAACTCTCAGCAACGGATATCTCGCCTCTTGCATCGATGAAGAACGCAGCGAAATGCGATAAATGGTGTGAATACAGAGATCCCGTGAACCATCGAGTCTTGAACGCAAGTTGCGCCCGAGGCCATCAGGCCAAGGGCACGCCTGCCTGGGCATTGCGAGACATATCTCTCCCTTAATGAGGCTGTCGTTCAGCCGGTGCGGATGTGAGTTTGGCCCCTTGTTCTTTGGTACGGGGGGTCTAAGAGCTGCATGGGCTTTTGATGGTCCTAAATACGGCAAGAGGTGGACGAACTATGCGACAACAGAACTGTTGTGCGAATGCCCCGGGTTGTCGTATTAGATGGGCCAGCATAATCTAAAGACCCTTTTGAACCCCATTGGAGGCCCATCAACCCAAGATCAGTTGACGGCCATTTGGATGCGACCCCAGGTCAGGTGAGGCAACCCTCTGAGT\n",
        "700\n",
        "gi|2765603|emb|Z78478.1|PVZ78478\n",
        "CGTAACAAGGTTTCCGTAGGTGAACCTCCGGAAGGATCAGTGTTGAGATCACATAATAATTGATCGAGTTAATCTGGGGGATCAGTTTACTTTGGTCACCCATGGGCATTTGCTGTTGCAGTGGCCTAGAGTTTGCCATCGAGCCGATCTAAACCCTTGCCCGGCGCAGTTTTGCGCCAAGTCATATGACACATAACTGGAAGGGGCGGCATGCTGCCATGGCTCCCCCAAATATTGATAATGGCGTGATAGCAGATCCCTGAACATCGAGTTTTGAACGCATGTTGCGTCCGAGGCCATCAGGTCAAGGGGACGCCTGCCTGGAAATTGTGAGACATATCTCTCCCTTAATGAGGCTGCCATACATACTGTTCAGCCGGTGCGGATGTGAGTTTGGCCCCTTGTCCTTTGGTACGGGGGTCTAAGAGCTGTATGGGTTGGATGGTCCTAAATACGGCAAGAGGTGGACGAGCTATGTGACAACAGAACTGTTGTGCGAATGCCCCGGTTGTCGTTTAGATGGGTCAGCATAATCTAAAGACCCTTTTGACCCCCATTGGAGGCCCATCAACCCATTATCAGTTGAGGACATTTGGTTGCGACCCAGGTCAGATGAGGCACCCGCTGAGTTTAGGC\n",
        "636\n",
        "gi|2765602|emb|Z78477.1|PVZ78477\n",
        "CGTAACAAGGTTTCCGTAGGTGAACCTGCGGAAGGATCATTGTTGAGATCACATGATAATTGATCGAGTTAATCTGGAGGATCAGTTTGCTTTGGTCACCCATGGGCATTTGCTGTTGCAGTGACCTAGATTTGCCATCGAGCCGATCTAAACCCTTGCCCGGCGCAGTTTTGCGCCAAGTCATATGACACATAATTGGAAGGGGCGGCATGCTGCCTTGCCCTCCCCAAATATTTGTTAACCAACTCTCAGCAACGAGTATCTCGGCTCTTGCATCGGATGGAAGGACGCAGCGAAATGCGATAAATGGTGTGAATTGCAAGAATCCCTGAACCATCGAGTCTTTGGAACGCAAGTTGCGGCCGAGGCCATCAGGCCAAGGGCACGCCTGCCTGGGCATTGCGAGACATATCTCTCCCTTAATGAGGCTGTCCACACATACTGTTCAGCCGGTGCGGATGTGAGTTTGGCCCCTTGTTCTTTGGTACGGGGGGTCTAAGAGCTGCATGGGCTTTTGATGGTCCTAAATACGGCAAGAGGTGGACGAACTATGCGACAACAGAACTGTTGTGCGAATGCCCCGGGTTGTCGTATTAGATGGGCCAGCATAATCTAAAGACCCTTTTGAACCCCATTGGAGGCCCATCAACCCATGATCAGTTGACGGCCATTTGGTTGCGACCCCAGGTCAGGTGAGGCAACCGCTGAGTTTATGC\n",
        "716\n",
        "gi|2765601|emb|Z78476.1|PGZ78476\n",
        "CGTAACAAGGTTTCCGTAGGTGAACCTGCGGAAGGATCATTGTTGAGATCACATGATAATTGATCGAGTTAATCTGGAGGATCAGTTTACTTTGGTCACCCATGGGCATTTGCTGTTGTAGTGACCTAGATTTGCCATCGAGCCGATCTAAACCCTTGCCCGGCGCAGTTTTGCGCCAAGTCATATGACACATAATTGGAAGGGCGGCATGCTGCCTTGGCCCTCCCCAAATTATTTTTTTAACAACTCTCAGCAACGGATATCTCGGCTCTTAGGCCATCCGGCCAAGGGCACGCCTGCCTGGGCATTGCGAGACATATCTCTCCCTTAATGAGGCTGTCCATACATACAGTTCAGCCGGTGCGGATGTGAGTTTGGCCCCTTGTTCTTTGGTACGGGGGGTCTAAGAGCTGCATGGGCTTTTGATCCACCTAAATACGGCAAGAGGTGGACGAACTATGCGACAACAGAACTGTTGCGCGAATGCCCCGGGTTGTCGTATTAGATGGGCCAGCATAATCTAAAGACCCTTTTGAATCCCATTGGAGGCCCATCAACCCATGATCAGTTGACGGCCATTTGGTTGCGACCC\n",
        "592\n",
        "gi|2765600|emb|Z78475.1|PSZ78475\n",
        "CGTAACAAGGTTTCCGTAGGTGAACCTGCGGAAGGATCATTGTTGAGATCACATAATAATTGATCGAGTTAATCTGGAGGATCAGTTTACTTTGGTCACCCATGGGCATCTGCTCTTGCAGTGACCTGGATTTGCCATCGAGCCTCCTTGGGAGCTTTCTTGCTGGCGATCTAAACCCGTCCCGGCGCAGTTTTGCGCCAAGTCATATGACACATAATTGGAAGGGGGTGGCATGCTGCCTTGACCCTCCCCAAATTATTTTTTTGACAACTCTCAGCAACGGATATCTCGGCTCTTNNNNNNNNNNNNNNNNNNNNNNNNNNNNNNNNNNNNNNNNNNNNNNNNNNNNNNNNNNNNNNNNNNNNNNNNNNNNNNNNNNNNNNNNNNNNNNNNATCAGGCCAAGGGCACGCCTGCCTGGGCATTGCGAGTCATATCTCTCCCTTAATGAGGCTGTCCATACATACTGTTCAGCCAATGCGGATGTGAGTTTGGCCCCTTGTTCTTTGGTACGGGGGGTCTAAGAGCTGCATGGGCTTTTGATGGTCCAAAATACGGCAAGAGGTGGACGAACTATGCTACAACAAAATTGTTGTGCGAATGCCCCGGGTTGTCGTATTAGATGGGCCAGCATAATCTAAAGACCCTTTTGAACCCCATTGGAGGCCCATCAACCCATGATCAGTTGACGGCCATTTGGTTGCGACCCAGGTCAGGT\n",
        "716\n",
        "gi|2765599|emb|Z78474.1|PKZ78474\n",
        "CGTAACAAGGTTTCCGTAGGTGAACCTGCGGAAGGATCATTGTTGAGATCACGTAATAATTGATCGAGTTAATCTGGAGGATCAGTTTACTTTGGTCACCCATGGGCATCTGCTCTTTCAGTGACCTGGATTTGCCATCGAGCCTCCTTGGGAGCTTTCTTGCTGGCGATCTAAACCCTTGCCCGGCGCAGTTTTGCGCCCAATCATATGACACATAATTGGAAGGGCGGCATCCTGCCTTGACCCTCCCCAAATTATATTTTTGACAACTCTCAGCAACGGATATCTCGCCTCTTGCATCGATGAAGACACAGCGAAATGCGATAAATGGTGTGAATTGCAGAATCCCGTGAACCATCGAGTCTTTGAACGCAAGTTGCGCCCGAGGCCATCAGGCCAAGGGCACGCCTGCCTGGGCATTGCGAGTCATATCTCTCCCTTAATGAGGCTGTCCATACATACTGTTCAGCCGGTGCGGATGTGAGTTTGGCCCCTTGTTCTTTGGTACGGGGGGTCTAAGAGCTGCATGGGCTTTTGATGGTCCAAAATACGGCAAGAGGTGGACGAACTATGCTACAACAAAATTGTTGTGCGAATGCCCCGGGTTGTCGTATTAGATGGGCCAGCATAATCTACAGACCCTTCTGAACCCCATTGGAGGCCCATCAACCCATGATCAGTTGACGGCCATTTGGTTGCGACCCCAGGTCAGGTGAAGCAACCCGTTGAGCTT\n",
        "733\n",
        "gi|2765598|emb|Z78473.1|PSZ78473\n",
        "CGTAACAAGGTTTCCGTAGGTGAACCTGCGGAAGGATCATTGTTGAGATCACATAATAATTGATCGGGTTAATCTGGAGGATCAGTTTACTTTGGTCACCCATGGGCATCTGCTCTTGTAGTGACCTGGATTTGCCATCGAGCCTCCATGGGAGCTTTCTTGGTGGCGATCTAAACCCTTGCCCGGCGCAGTTTTGCGCCAAGTCATATGACACATAATTGGAAGGGGGCGGCATGCTGCCTTGACCCTCCCCAAATTATTTTGTTAACAACTCTCAGCAACGGATATCTCGGCTCTTCCCGAGGCCATCAGGCCAAGGGCACGCCTGCCTGGGCATTGCGAGTCATATCTCTCCCTTCAATGAGGCTGTCCATACATACTGTTCAGTCGGTGCGGATGTGAGTTTGGCCCCTTGTTCTTGCCTACGGGGGGTCTAAGAGCTGCATGGGCTTTTGATGGTACCTAAATACGGCAAGAGGTGGACGAACTATGCTACAACAAAATTGTTGTGCGAATGCCCCGGGTTGTCGTATTAGATGGGCCAGCATAATCTAAAGACCCTTTTGAACCCCATTGGAGGCCCATCAACCCATGATCAGTTGACGGCCATTTGGTTGCGACCCAGG\n",
        "626\n",
        "gi|2765597|emb|Z78472.1|PLZ78472\n",
        "CGTAACAAGGTTTCCGTAGGTGAACCTGCGGAAGGATCATTGTTGAGATCACATAATAATTGATCGAGTTAATCTGGAGGATCAGTTTACTTTAGTCACCCATGGGCATCTGCTCTTGCAGTGACCTGGATTTGCCATCGAGCCTCCTTGGGAGCTTTCTTGCTGGCGATCTAAATCGTTGCCCGGCGCAGTCTTGCGCCAAGTCATTTCACACATAATTGGAAGGGGGCGGCATGCAGTCTAAGACCCTCCCCAAATTATTTTTTGATAACTCTCAGCAACGGAATCTCGGCTCTTGCATCGATGGAGGACGCAGCGAAATGCGATAAATGGTGTGAATTGCAGAATCCCGTGAACCATCGAGTCTTTGAACGCAAGTTGCGCCCGAGGCCATCAGGCCAAGGGCACGCCTGCCTGGGCATTGCGAGTCATATCTCTCCTTTAATGAGGCTGTCTATACATACTGTTCAGCCACAGCGGATGTGAGTTTGGCCCCTTGTTCTTTGGTACGGGGGGTCTAAGAGCTGCATGGGCTTTTGATGGTCTTAAATACGGCAAGAGGTGGACGAAGTATGCTACAACAAAATTGTAGTTCGAATGCCCAGGGTTGTCGTATTAGATGGGCCAGCATAATCTAAAGACCCTTTGAACCCCTTTAGAGGCCAATCAACCCATGATCAGTTGATGGCCATTTGGTTGCGACCCCAAGTCAGGTGAGGCAACCGCTGAGTTTAAGC\n",
        "737\n",
        "gi|2765596|emb|Z78471.1|PDZ78471\n",
        "CGTAACAAGGTTTCCGTAGGTGAACCTGCGGAAGGATCATTGTTGAGATCACATAATAATTGATCGAGTTAATCTAGAGGATCGGTTTACTTTGGTCACCCATGGGCATCTGCTCTTACAGTGACCTGGATTTGCCATCGAGCCTCCTTGGGAGCTGTCTTGCTGGCGATCTAAATCGTTGCCCGACGCAGCCTTGCGTCAAGTCACCCCGACACATAATGGAAGGGGGCGGCATGCTGCCTTGACCCTTCCCCAAATTAATTTTTTGACAACTCTCAACATCGGATATCTCGGCTCTTGCATCGATGAAGAACGCAGCGAAATGCGATAAATGGTGTGAATTGCAGAATCCCGTGAACCATCGAGTCTTTGAACGCAAGTTGCGCCCGAGGCCATCAGGCCAAGGGCACGCCTGCTTGGGCATTGCGAGTCATATCTCTCCCTTAATGAGGCTGTCCATACATACTGTTCAGCCAGTGCGGATGTGAGTTTGGCCCCTTGTTCTTTAGTACGGGGGGTCTAAAAGCTGCATGGGCTTTTGCTGGTCCTAAATACGGCAAGAGGTGGACAAAGTATGCTACAACAAAATTGTAGTGCGAATGCCCCGGGTTGTCGTATTAGATGGGCCAGCATAATTTAAAGACCCTTTTGAACCCCATTAGAGGCCCATCAACCCTGATCAGTTGATGGCCATTTGGTTGCGACCCCAAGTCAGGTGAGGCAACCCGCTGAGTTTAAGC\n",
        "740\n",
        "gi|2765595|emb|Z78470.1|PPZ78470\n",
        "CGTAACAAGGTTTCCGTAGGTGAACCTGCGGAAGGATCATTGTTGAGATCACATAATAATTGATCGAGTTAATCTAGAGGATCAGTTTACTTTGGTCACCCATGGGCATCTGCTCTTACAGTGACCTGGATTTGCCATCGAGCCTCCTTGGGAGCTTTCTTGCTGGCGATCTAAATCGTTGCCCGACGCAGCCTTGCGTCAAGTCATATGACACATAATTGGAAGGGGGCGGCATGCTGCCTTGACCCTTCCCAAATTATTTTTTTAAGTTGCGCCCGAGGCCATCAGGCCAAGGGCACGCCTGCTTGGGCATTGCGAGTCATATCTCTCCCTTAATGAGGCTGTCCATACATACTGTTCAGCCAGTGCGGATGTGAGTTTGGCCCCTTGTTCTTTACTACGGGGGGTCTAAAAGCTGCATGGGCTTTTGCTGGTCCTAAATACGGCAAGAGGTGGACAAAGTATGCTACAACAAAATTGTAGTGCGAATGCCCCGGGTTGTCGTATTAGATGGGCCAGCATAATTTAAAGACCCTTTTGAACCCCATTAGAGGCCCATCAACCCTGATCAGTT\n",
        "574\n",
        "gi|2765594|emb|Z78469.1|PHZ78469\n",
        "CGTAACAAGGTTTCCGTAGGTGAACCTGCGGAAGGATCATTGTTGAGATCACATAATAATTGATCGAGTTAATCTGGAGGATCAGTTTACTTTAGTCACCCATGGGCATCTGCTCTTGCAGTGACCTGGATTTGCCATCGAGCCTCCTTGGGAGCTTTCTTGCTGGCGATCTAAATTCGTTGCCCGGCGCAGTCTTGCGCCAAGTCATATCACACATAATTGGAAGGGGGCGGCATGCGGTCTAGACCCTCCCCAAATTATTTTTTTGACAACTCTCAGCAACGGATATCTCGGCTCTTCCATCAGGCCAAGGGCACGCCTGCCTGGGCATTGCGAGTCATATCTCTCCCTTAATGAGGCTGTCCATACATACTGTTCAGCCACAGCGGATGTGAGTTTGGCCCCTTGTTCTTTGGTACGGGGGGTCTAAGAGCTGCATGGGCTTTTGATGGTACCTAAATACGGCAAGAGGTGGACGAAGTATGCTACAACAAAATGATAGTGCGAATGCCCAGGGTTGTCGTATTAGATGGGCCAGCATAATCTAAAGACCCTTTTGAACCCCATTAGAGGCCCATCAACCCATGATCAGTT\n",
        "594\n",
        "gi|2765593|emb|Z78468.1|PAZ78468\n",
        "CGTAACAAGGTTTCCGTAGGTGAACCTGCGGAAGGATCATTGTTGAGATCGCATAATAATTGATTGAGTTAATCTGGAGGATCAGTTTACTTTGGTCACTCATGGGAATCTGCTCTTGTAGTGACCTGGATTTGCCATCGAGCCTCCTTGGGAGCTTTCTTGATGGCGATCTGAACCCTTGCCCGGCGCAGTTTTGCGCCAAGTCATATGACACATAATTGGGAGGGGCAGCATGCTGCCTTGACCCTCCCCATATCATTTTTTTAACGACTCTCAGCTCCGGAACTCAAGTTGCGCCCGAGGCCATCAGGCTAAGGGCACGCCTGCCTGGGCATTGCGAGTCATATCTCTCCCTTAATGAGGCTGTCCATACATACTGTTCAGCCAGTGCGGATGTGAGTTTGGCCCCTTGTTCTTCGGTACGGGGGGTCTAAGAGCAGCTGGGCTTTTGATGGACCTAAATACGGCAAGAGGTGGACGAAGTATGCTACAACAAAATTATTGTGTGAATGCCCCGGGTTGTCGTATAGATGGGCCAGCATAATCTAAAGACCCTTTTGAACCCCATTGGAGGCCCATCAACCCATGATCAGTTGACGGCCATTTGGTT\n",
        "610\n",
        "gi|2765592|emb|Z78467.1|PSZ78467\n",
        "CGTAACAAGGTTTCCGTAGGTGAACCTGCGGAAGGATCATTGTTGAGATCACATAATAATTGATCGAGTTAATCTGGAGGATCAGTTTACTTTGGTCACCCATGGGCATCTGCTCTTGCAGTGACCTGGATTTGCCATCGAGCCTCCTTGGGAGCTTTCTTGCTGGCGATCTAAACCCTTGCCCGGCGCAGTTTTGCGCCAAGTCATATGACACATAATTGGAAGGGGGTGGCATGCTGCCTTGACCCTCCCCAAATTATTTTTTGACAACTCTCAGCAACGGATATCTCGGCTCTTGCATCGATGAAGAACGCAGCGAAATGCGATAAATGGTGTGAATTGCAGAATCCCGTGAACCATCGAGTCTTTGAACGCAAGTTGCGCCCGAGGCCATCAGGCCAAGGGTACGCCTGCCTGGGCATTGCGAGTCATATCTCTCCCTTAATGAGGCTGTCCATACATACTGTTCAGCCGGTGCGGATGTGAGTTTGGCCCCTTGTTCTTTGGTACGGGGGGTCTAAGAGCTGCATGTGCCTTTGGTGGTCCAAAATACGGCAAGAGGTGGACGAACTATGCTACAACAAAATTGTTGTGCGAATGACCCGGGTTGTCGTATTAGCTGGGCCAGCATAATCTAAAGACCCTCTTGAACCCCATTGGAGGCCCATCAACCCATGATCAGTTGACGGCCATATGTTTGCGACCCAGGTCAGGTGAGGCAACCCGCTGA\n",
        "730\n",
        "gi|2765591|emb|Z78466.1|PPZ78466\n",
        "CGTAACAAGGTTTCCGTAGGTGAACCTGCGGAAGGATCATTGTTGAGATCACATAATAATTGATCGAGTTAATCTGGAGGATCAGTTTACTTTGGTCACCCATGGGCATCTGCTCTTGTAGTGACCTGGATTTGCCATCGAGCCTTCATGGGAGCTTTCTTGCTGGCGATCTAAACCCTTGCCCGGCGCAGTTTTGCGCCAAGTCATATGACACATAATTGGAAGGGGGCGGCATGCTGCCTTGACCCTCCCCAAATTATTTTTGTAACAACTCTCAGCAACGGATATCTCGGCTCTTTGCCGAGGCCATCAGGCCAAGGGCACGCCTGCCTGGGCATTGCGAGTCATATCTCTCCCTTAATGAGGCTGTCCATACATACAGTTCAGCCTGTGCGGATGTGAGTTTGGCCCCTTGTTCTTGCGTACGGGGGGTCTAAGAGCTGCATGGGCTTTTGATGGTCCTAAATACGGCAAGAGGTGGACGAACTATGCTACAACAAAATTGTTGTGCGAATGCCCCGGGTTGTCGTATTAGATGGGCCAGCATAATCTAAAGACCCTTTTGAACCCCATTGGAGGCCCATCAACCCATGATCAGTTGACGGCCATTTGGTTGCGACCCAGGTCAGGTGAGGCAACCC\n",
        "641\n",
        "gi|2765590|emb|Z78465.1|PRZ78465\n",
        "CGTAACAAGGTTTCCGTAGGTGAACCTGCGGAAGGATCATTGTTGAGATCACATAATAATTGATCGAGTTAATCTGGAGGATCAGTTTACTTTGGTCACCCATGGGCATCTGCTCTTGCAGTGACCTGGATTTGCCATCGAGCCTCCTTGGGAGCTTTCTTGCTGGCGATCTAAACCCTTGCCCGGCGCAGTTTTGCGCCAAGTCATATGACACATAATTGGAAGGGGGCGGCATGCTGCCTTGACCCTCCCCAAATTATTTTTTTGACAACTCTCAGCAACGGATTTCTCGGTTCTTGAATCGATGAGGAACGCAGCGAAATGCGATAATTGGTGTGAATTGAAGAATCCCGTAAACCATCGAGTCTTTGAACGAAAGTTGCGCCCGAGGCCATCAGGCCAAGGGAACGCCTGCCTGGGCATTGCGAGTCATATCTCTCCCTTAATGAGGCTGTCCATACATACTGTTCAGCGAGTGCGGATGTGAGTTTGGCCCCTTGTTCTTTGGTACGGGGGGTCTAAGAGCTGCATGGGCTTTTGATGGTCCTAAATACGGCAAGAGGTGGACGAACTATGCTACAACAAAATTGTTGTGCGAATGCCCCGGGTTGTCGTATTAGATGGGCCAGCATAATCTAAAGACCCTTTTGAACCCCATTGGAGGCCCATCAACCCATGATCAGTTGACGGCCATTTGGTTGC\n",
        "702\n",
        "gi|2765589|emb|Z78464.1|PGZ78464\n",
        "CGTAACAAGGTTTCCGTAGGTGAGCGGAAGGGTCATTGTTGAGATCACATAATAATTGATCGGTTGAGTCTGGAGGATCAGTTTACTTTGGTCACCCATGGGCATCTGCTCTTGTAGTGACCTGGATTGCCATCGAGCCTCCTTGGGAGCTTTCTTGCTGGAGATCTAAACCCTTGCCCGGAGCAGTTTTGCGCCAAGTCATATGACACATAATTGGAAGGGGGCGGCATGCTGCCTTGACCCTCCCCAAATTATTTTCTTAACAACTCTCAGCAACGGATATCTCGGCTCTTGCATCGATGAAGAACGCAGCGAAATCCGATAAATGGTGTGAATTTCAGAATCCCGTGAACCATCGAGTCTTTGAACGCCAAGTTCGCCCGAGGCCATCAGGCCAAGGGCACGCCTGCCTGGGCATTTCGAATCAAATCTCTCCCTTAATGAGGCTGTCCAAACATACTGTTCAACCGGTTCGGATGTGAGTTTGGCCCCTTTTTCTTTGGGGCGGGGGGTCTAAGAACTTCATGGGCTTTTGGTGGTCCTAAAAACGGCAAGAGGTGGGCGGACTATTCTTCAACCAAATTTCTGTTCGGATTCCCCGGGCTTTCGTAATAGATGGGCCAGCATAATCTAAAGACCCTTTTGAACCCCATTGGAGGCCCATCAACCCATGATCAGTTGACGGCCATTTGGTGCGACCCCAGGTCAGGTGAGCAACCCGCTGAGTTTAAGC\n",
        "733\n",
        "gi|2765588|emb|Z78463.1|PGZ78463\n",
        "CGTAACAAGGTTTCCGTAGGTGAACCTGCGGAAGGTTCATTGTTGAGATCACATAATCATTGTTCGGTTGAGTCTGGAGGATCAGTTTACTTTGGTCACCATGGGCATCTGCTCTTGTAGTGACCTGGATTGCCATCGAGCCTCCTTGGGAGCTTTCTTGCTGGGGATCTAAACCCTCGCCCGGGGGAGTTTTGCGCCAAGTCATATGACACATAATTGGGAGGGGGCGGCATGTTGCCTTGACCCTCCCCAAATTATTTTCTTAACAACTCTCAGCAACGGATATCTCGGCTCTTGCATCGATGGAAGAACGCAGCGAAATGCGATAAATGGTGTGAATTGCAGAATCCCGTGAACCATCGAGTCTTTGAACGCAAGTTGCGCCCGAGGCCATCAGGCCAAGGGCACGCCTGCCTGGGCATTGCGAGTCATATCTCTCCCTTAATGAGGCTGTCCATACATACTGTTCAACCGGTGCGGATGTGAGTTTGGCCCCTTTTTCTTTGGGGCGGGGGGTCTAAGAGCTGCATGGGCTTTTGATGGTCCTAAATACGGCAAGAGGTGGACGAACTATGCTGCAACAAAATTGCTGTGCGAATACCCCGGGTTGTCGTATTAGATGGGCCAGCATAATCTAAAGACCCTTTTGAACCCCATTGGAGGCCCATCAACCCATGATCAGTTGACGGCCATTTGGTTGCGACCCCAGATCAGGTGAGCAACCCGCTGAGTTTAAGC\n",
        "738\n",
        "gi|2765587|emb|Z78462.1|PSZ78462\n",
        "CGTCACGAGGTCTCCGGATGTGACCCTGCGGAAGGATCATTGTTGAGATCACATAATAATTGATCGAGTTAATCTGCAGGATCTGTTTACTTTGGTCACCCATGGGCATTTGCTGTTGAAGTGACCTAGATTTGCCATCGAGCCTCCTTGGGAGATTTCTTGTTGGCGAGATCTAAACCCTTGCCCGGCGCAGTTTTGCGCCAAGTCATANNNNNNNNNNNNNNNNNNNNNNNNNNNNNNNNNNNNNNNNNNNNNNNNNNNNNNNNNNNNNNNNNNNNNNNNNNNNNNNNNNNNNNNNNNNNNNNNNNNNNNNNNNNNNNNNNNNNNNNNNNNNNNNNNNNNNNNNNNNNNNNNNNNNNNNNNNNNNNNNNNNNNNNNNNNNNNNNNNNNNNNNNNNNNNNNNNNNNNNNNNNNNNNNNNNNNNNNNNNNNNNNNNNNNNNNNNNNNNNNNNNNNNNNNNNNNNNNNNNNNNNNNCGCCTGCCTGGGCATTGCGAGTCATATCTCTCCCTTAACGAGGCTGTCCATACATACTGTTCAGCCGGTGCGGATGTGAGTTTGGCCCCTTGTTCTTTGGTACGGGGGGTCTAAGAGCTGCATGGGCTTTTGATGGTCCTAAATACGGCAAGAGGTGGACGAACTATGCTACAACAAAATTGTTGTGCAAAGGCCCCGGGTTGTCGTATTAGATGGGCCACCGTAATCTGAAGACCCTTTTGAACCCCATTGGAGGCCCAT\n",
        "736\n",
        "gi|2765586|emb|Z78461.1|PWZ78461\n",
        "CGTAACAAGGTTTCCGTAGGTGAACCTCCGGAAGGATCATTGTTGAGATCACATAATAATTGATCGAGGTAATCTGGAGGATCTGTTTACTTTGGTCACCCATGGGCAGTTGCTGCTGGAGTGACCTAGAATTTCCATCGAGCCTCCTTGGGAGCTTTCTTGTTGGCGAGATCTAAACCCTTACCCGGCGCAATTTTTCCCCCAGTCAAATGACACATAATTGGTGGAGGGGGTGGCATTCTTCCCTGACCCTCCCCCAAATAATTTTTTCACAACTCTCAGCAACGGATATCTCGGCTCTTGCATCGATGAAGAACGCACCGAAATCCGATAAATGGTGTGAATTCCAGAATCCCGTGAACCATCGAGTCTTTGAACCCAAGTTGCGCCCGAGGCCATCAGGCCAAGGGAACGCCTGCCTGGGCATTGCGAGTCATATCTCTCCCTTAACGAGCCTGTCCATACATCCTGTTCAGCCGGTGCGGATGTGAGTTTGCCCCCTTGTTCTTTGGTACGGGGGGTCTAAGACCTGCATGGGCTTTTGATGGTCCTAAATACGGCAAGAGGTGGACGAACTATGCTACACCAAAATTGTTGTCCAAAGCCCCCGGGTTGTCGTATAAGATGGGCCACCGTAATCTGAAGACCCTTTGAACCCCATTGGAGCCCATCAACCCATGATCAGTTGATGCCATTGTTGCGACCCAGTCAGTGAGCAAGCCGCTGAGTTAA\n",
        "732\n",
        "gi|2765585|emb|Z78460.1|PCZ78460\n",
        "CGTAACAAGGTTTCCGTAGGTGAACCTCCGGAAGGATCATTGTTGAGATCACATAATAATTGATCGAGTTAATCTGGAGGATCTGTTTACTTTGGTCACCCATGAGCATTTGCTGTTGAAGTGACCTAGATTTGCCATCGAGCCTCCTTGGGAGCTTTCTTGTTGGCGAGATCTAAACCCTTGCCCGGCGCAGTTTTGCGCCAAGTCATATGACACATAATTGGTGAAGGGGGTGGCATCCTGCCCTGACCCTCCCCAAATTATTTTTTTAACAACTCTCAGCAACGGGATATCTCGGCTCTTGCATCGGATGGAGGAACGCAGCGAAATGCGATAAATGGTGTGAATTGCAGAATCCCGTGAACCATCGAGTCTTTGAACGCAAGTTGCGCCCGAGGCCATCAGGCCAAGGGCACGCCTGCCTGGGCATTGCGAGTCATATCTCTCCCTTAACGAGGCTGTCCATACATACTGTTCAGCCGGTGCGGATGTGAGTTTGGCCCCTTGTTCTTTGGTACGGGGGGTCTAAGAGCTGCATGGGCTTTTGATGGTCCCAAATACGGCAAGAGGTGGACGAACTATGCTACAACAAAATTGTTGTGCAAAGGCCCCGGGTTGTCGTATTAGATGGGCCACCGTAATCTGAAGACCCTTTTGAACCCCATTGGAGGCCCATCAACCCATGATCAGTTGATGGCCATTTGGGTTGCGACCCCAGGTCAGGTGAGGCAACCCGCTGAGTTTA\n",
        "745\n",
        "gi|2765584|emb|Z78459.1|PDZ78459\n",
        "CGTAACAAGGTTTCCGTAGGTGAACCTGCGGAAGGATCATTGTTGAGATCACATAATAATTGATCGAGTTAATCTGGAGGATCTGTTTACTTTGGTCACCCATGAGCATTTGCTGTTGAAGTGACCTAGATTTGCCATCGAGCCTCCTTGGGAGCTTTCTTGTTGGCGAGATCTAAACCCTTGCCCGGCGCAGTTTTGCGCCAAGTCATATGACACATAATTGGTGAAGGGGGTGGCATCCTGCCCTGACCCTCCCCAAATTATTTTTTTAACAACTCTCAGCAACGGATATCTCGGCTCTTGCATCGGATGGAGGAACGCAGCGAAATTGCGATAAATTGGTGTGAATTGCAGAATCCCGTGAACCATCGAGTCTTTGAACGCAAGTTGCGCCCGAGGCCATCAGGCCAAGGGCACGCCTGCCTGGGCATTGCGAGTCATATCTCTCCCTTAACGAGGCTGTCCATACATACTGTTCAGCCGGTGCGGATGTGAGTTTGGCCCCTTGTTCTTTGGTACGGGGGGTCTAAGAGCTGCATGGGCTTTTGATGGTCCTAAATACGGCAAGAGGTGGACGAACTATGCTACAACAAAATTGTTGTGCAAAGGCCCCGGGTTGTCGTATTAGATGGGCCACCGTAATCTGAAGACCCTTTTGAACCCCATTGGAGGCCCATCAACCCATGATCAGTTGATGGCCATTTGGTTGCGACCCCAGGTCAGGTGAGGCAACCCGCTGAGTTT\n",
        "744\n",
        "gi|2765583|emb|Z78458.1|PHZ78458\n",
        "CGTAACAAGGTTTCCGTAGGTGAACCTGCGGAAGGATCATTGTTGAGATCACATAATAATTGATCGAGTTAATCTGGAGGATCTGTTTACTTTGGTCACCCATGAGCATTTGCTGTTGAAGTGACCTAGATTTGCCATCGAGCCTCCTTGGGAGCTTTCTTGTTGGCGAGATCTAAACCCTTGCCCGGCGCAGTTTTGCGCCAAGTCGTACGACACATAATTGGTGAAGGGGGTGGCATCCTTCCCTGACCCTCCCCAAATTATTTTTTAACAACTCTCAGCAACGGATATCTCGGCTCTTGCATCGATGGAGGACGCAGCGAAATGCGATAAATGGTGTGAATTGCAGATCCCGTGAACCATCGAGTCTTTGAACGCAAGTTGCGCCCGAGGCCATCAGGCCAAGGGCACGCCTGCCTGGGCATTGCGAGTCATATCTCTCCCTTAACGAGGCTGTCCATACATACTGTTCAGCCGGTGCGGATGTGAGTTTGGCCCCTTGTTCTTTGGTACGGGGGGTCTAAGAGCTGCATGGGCTTTTGATGGTCCTAAATACGGCAAGAGGTGGACGAACTATGCTACAACAAAATTGTTGTGCAGAGGCCCCGGGTTGTCGTATTAGATGGGCCACCGTAATCTGAAGACCCTTTTGAACCCCATTGGAGGCCCATCAACCCATGATCAGTTGATGGCCATTTGGTTGCGACCCCAGGTCAGGTGAGGCAACCCGCTGAGTTG\n",
        "738\n",
        "gi|2765582|emb|Z78457.1|PCZ78457\n",
        "CGTAACAAGGTTTCCGTAGGTGAACCTCCGGAAGGATCATTGTTGAGATCACATAATAATTGATCGAGTTAATCTGGAGGATCTGTTTACTTTGGTCACCCATGGGCATTTTCTGTTGTAGTGACCTAGAATTTCCATCGAGCCTCCTTGGGAGCTTTCTTGTTGGCGAGATCTAAACCCTTGCCCGGCGCAGTTTTTCCCCCAGTCAAATGGCACATAATTGGTGGAGGGGGTGGCATTCTTCCCTGACCCTCCCCCAAATATTTTTTTAACAACTCTCAACAACGGATATCTCGGCTCTTTCATCGGATGAAGGACCGCAGCGAAATGCGATAAATGGTGTGAATTGCAGAATCCCGTGAACCATCGAGTCTTTGAACGCAAGTTGCGCCCGAGGCCATCAGGCCAAGGGCACGCCTGCCTGGGCATTGCGAGTCATATCTCTCCCTTAACGAGGCTGTCCATACATACTGTTCAGCCGGTGCGGATGTGAGTTTGGCCCCTTGTTCTTTGGTACGGGGGGTCTAAGAGCTGCATGGGCTTTTGATGGTCCTAAATACGGCAAGAGGTGGACGAACTATGCTACAACAAAATCGTTGTGCAAAGGCCCCGGGTTGTCGTATTAGATGGGCCACCGTAATCTAAAGACCCTTTTGAACCCCATTGGAGGCCCATCAACCCATGATCAGTTGATGGCCATTTGGTTGCGACCCCAGGTCAGGTGAGGCAACCCGCTGAG\n",
        "739\n",
        "gi|2765581|emb|Z78456.1|PTZ78456\n",
        "CGTAACAAGGTTTCCGTAGGTGAACCTGCGGAAGGATCATTGTTGAGATCACATAATAATTGATCGAGTTAATCTGGAGGATCTGTTTACTTTGGTCACCCATGAGCATTTGCTGTTGAAGTGACCTAGAATTTGCCATCGAGCCTCCTTGGGAGCTTTCTTGTTGGCGAGATCTAAACCCTTGCCCGGCGCAGTTTTGCGCCAAGTCATATGACACATAATTGGTGGAGGGGGTGGCATCCTGCCCTGACCCTCCCCAAATTATTTTTTTAACAACTCTCAGCAACGGATATCTCCGGTCTGGCATCGATGAAGAACGCAGCGAAATGCGATAAATGGTGTGATTGCAGAATCCCGTGAACATCGAGTCTTTGAACGCAAGTTGCGCCCGAGGCCATCAGGCCAAGGGCACGCCTGCCTGGGCATTGCGAGTCATATCTCTCCCTTAACGAGGCTGTCCATACATACTGTTCAGCCGGTGCGGATGTGAGTTTGGCCCCTTGTTCTTTGGTACGGGGGGTCTAAGAGCTGCATGGGCTTTTGATGGTCCTAAATACGGCAAGAGGTGGACGAACTATGCTACAACAAAATTGTTGTGCAAAGGCCCCGGGTTGTCGTATTAGATGGGCCACCGTAATCTGAAGACCCTTTTGGACCCCATTGGAGGCCCATCAACCCATGATCAGTTGATGGCCATTTGGGTTGCGACCCAGGTCAGGTGAGGCAACCCTGAGTTTAGC\n",
        "740\n",
        "gi|2765580|emb|Z78455.1|PJZ78455\n",
        "CGTAACCAGGTTTCCGTAGGTGGACCTTCGGGAGGATCATTTTTGAGATCACATAAAAATTGATCGAGTTAATCTGGAGGAACTTTTTACTTTGGTCACCCATGAACAATTTCTTTTGGAGTGACCTAGAATTTCCATCGAACCCCCTTGGGAACTTTCTTTTTGGCGAGAACTAAACCCTTTCCCGGCGCAGTTTTTCCCCCAATCAAATTACACAAAAATGGTGGAGGGGGTGGCATCCTTCCCTTACCCTCCCCCAAATAATTTTTTAACAACTCTCAGCAACGGATATCTCGGCTCTTGCATCGGTTGAAGAACCAGCGAAATGCGATAAATGGTGTGAATTGCAGAATCCCGTGAACCATCGAGTCTTTGAACGCAAGTTGCGCCCGAGGCCATCAGGCCAAGGGCACGCCTGCCTGGGCATTGCGAGTCATATCTCTCCCTTAACGAGGCTGTCCATACATACTGTTCAGCCGGTGCGGATGTGAGTTTGGCCCCTTGTTCTTTGGCACGGGGGGTCTAAGAGCTTCATGGGCTTTTGATGGTCCTAAATACGGCAAGAGGTGGACGAACTATGCTACAACAAAATTGTTGTGCAAAGGCCCCGGGTTGTCGTATTAGATGGGCCACCGTAATCTGAAGACCCTTTTGAACCCCATTGGAGGCCCATCAACCCATGATCAGTTGATGGCCATTTGGGTTGCGACCCCAGGTCAGGTGAGGCAACCCGCTGAGTTTAGCA\n",
        "745\n",
        "gi|2765579|emb|Z78454.1|PFZ78454\n",
        "CGTAACAAGGTTTCCGTAGGTGAACCTGCGGAAGGATCATTGTTGAGATCACATAATAATTGATCGAGATAATCTGGAGGATCTGTTTACTTTGGTCACCCATGAGCATTTGCTGTTGAAGTGACCTAGATTTACCATCGAGCCTCCTTGGGAGCTTTCTTGTTGGCGAGATCTAAACCCTTGCCCGGCGCAGTTTTTCTCCAAGTCATTTGACACATAATCGGTGAAGGGGGTGGCATCCTGCCCTGACCCTCCCCCCACTATTGTTAACAACTCTCATCAACGGAACTCATGCGATAAATGGTGTGATTTGCAGAATCCCGTGAACCATCGAGTCTGTGAACGCAAGTTGCGGCCGAGGCCATCAGACCAAGGGCACGCCTGCCTGGGCATTGCGAGTCATATCTCTCCCTTAACGAGGCTGTCCATACATACTGTTCAGCCGGTGCGGATGTGAGTTTGGCCCCTTGTTCTCTGGTACGGGGGGTCTAAGAGCTGCATGGGCTTTTGATGGTCCTAAATACGGCAAGAGGTGGACGAACTATGCTACAACAAAATTGTTGTGCAAAGGCCCCGGGTTGTCGTATTAGATGGGCCACCGTAATCTGAAGCCCCTTTTGAACCCATTGGAGGCCCATCAACCNCATGATCAGTTGATGGCCATTTGGATGCGACCCCAGGTCAGGTGAGGCAAC\n",
        "695\n",
        "gi|2765578|emb|Z78453.1|PSZ78453\n",
        "CGTAACAAGGTTTCCGTAGGTGAACCTGCGGAAGGATCATTGTTGAGATCACATAATAATTGATCGAGTTAATCTGGAGGATCTGTTTACTTTGGTCACCCATGAGCATTTGCTGTTGAAGTGACCTAGAGTTGCCATCGAGCCTCCTTGGGAGCTTTCTTGTTGGCGAGATCTAAACCCTTGCCCGGCGCAGTTTTGCGCCAACTCATTTGACACATAACTGGTGAAGGGGGTGGCATCCTTCCCTGACCCTCCCCCAAATTATTTTTTAACAACTCTCAGCAACCGGATATCTCAGCTCTTGCATCGATGAAGAACGCAGCGAAATGCGATAAATGGTGTGAATTGCAGAATCCCGTGAACCATCGAGTCTTTGAACGCAAGTTGCGCCCGAGGCCATCAGGCCAAGGGCACGCCTGCCTGGGCATTGCGAGTCATATCTCTCCCTTAACGAGGCTGTCCATACATACTGTTCAGCCGGTGCGGATGTGAGTTTGGCCCCTTGTTCTTTGGTACGGGGGGTCTAAGAGCTGCATGGGCTTTTGATGGTCCTAAATACGGCAAGAGGTGGACGAACTATGCTACAACAAAATTGTTGTGCAAAGGCCCCGGGTTGTCGTATTAGATGGGCCACCGTAATCTGAAGACCCTTTTGAACCCCATTGGAGGCCCATCAACCCATGATCAGTTGATGGCCATTTGGTTGCGACCCCAGGTCAGGTGAGGCAACCCGCTGAGTTTAGCA\n",
        "745\n",
        "gi|2765577|emb|Z78452.1|PBZ78452\n",
        "CGTAACAAGGTTTCCGTAGGTGAACCTGCGGAAGGATCATTGTTGAGATCACATAATAATTGATCGAGTTAATCTGGAGGATCTATTTACTTTGGTCACCCATGAGCATTTGCTGTTGAAGTGACCTAGATTTGCCATCAAGCCTCCTTGGGAGCTTTCTTTTTGGCGAGATCTAAACCCTTGCCCGGCGCAGTTTTGCGCCAAGTCATATGACACATAATTGGTGAAGGGGGTGGCATCCTGCCCTGACCCTCCCCAAATTATTTTTTTAACAACTCTCAGCAACGGATATCTCGGCTCTTGAATCGATGAAGAACGCAGCGAAATGCGATAAATGGTGTGAATTGCAGAATCCCGTGAACCATCGAGTCTTTGAACGCAAGTTGCGCCCGAGGCCATCAGGCCAAGGGCACGCCTGCCTGGGCATTGCGAGTCATATCTCTCCCTTAACGAGGCTGTCCATACATACTGTTCAGCCGGTGCGGATGTGAGTTTGGCCCCTTGTTCTTTGGTACGGGGGGTCTAAGAGCTGCATGGGCTTTTGATGGTCCTAAATACGGCAAGAGGTGGATGAACTATGCTACAACAAAATTGTTGTGCAAAGGCCCCGGGTTGTCGTATTAGATGGGCCACTGTAATCTGAAGACCCTTTTGAACCCCATTGGAGGCCCATCAACCCATGATCAGTTGATGGCCATTTGGATGCGACCCCAGGTCAGGTGAGGCAACCGCTGAGTTTAGCA\n",
        "743\n",
        "gi|2765576|emb|Z78451.1|PHZ78451\n",
        "CGTAACAAGGTTTCCGTAGGTGTACCTCCGGAAGGATCATTGTTGAGATCACATAATAATTGATCGAGATAATCTGGAGGATCTGTTTACTTTGGTCACCCATGGGCATTTGCTGTTGTAGTGACCTAGATTTCCATGGAGCCCCCCTGGGAGCTTTCTTGCTGGCGAGATCTAAACCCGTGCCCGGCGCAGTTTTGCGCCAAGTCATATGACACATAATTGGTGTAGGGGGCGGGCATCCTGCCCTGACCCTCCCCAAAGTATTTTTTGCAACTCTCAACAACGGAAATCTCGCTCTTTCATCGATGAAGAACCAGCGAAATCGATAAATGGTGTGAATTGCAGAATCCCGTGAACCATCGAGTCTTTGAACCCAAGTTGCGCCCGAGGCCATCAGGCCAAGGGCACCCCTCCCTGGGCATCGCGAGTCAAATCTCTCCCTTAACGAGGCTGTCCATACATACTGTTCACCCGGTGCGGATGTGAGTTTGCCCCCTTGTTCTTTGGTACGGGGGGTCTAAGACCTGCATGGGATTTTGATGGTCCTAAAAACGGCAAGAGGTGGACGAACTATCCCTACAATAAAATTGTTGTGCGAAGCCCCCGGGTTGTCGTATTAGATGGGCCACCGTAATCTGAAGACCCTATAGAACCCCATTGGAGGCCCATCAACCCATGATCAGTTGATGGCCATTTGATGCGACACCAGTCAGTGAGCAACCAGCTGAGC\n",
        "730\n",
        "gi|2765575|emb|Z78450.1|PPZ78450\n",
        "GGAAGGATCATTGCTGATATCACATAATAATTGATCGAGTTAAGCTGGAGGATCTGTTTACTTTGGTCATCCATGAGCATTTACTGTTGAAGTGACCTAGATTTGCCATCGAGCCTCCTTGGGAGCTTTCTTGTTGCCGAGATCTAAACCCTTGCCCGGCGCAGTTTTGCGCCAAGTCATATGACACATAATTGGTGAAGGGGGTGGCATCCTGCCCTGACCCTCCCCAAATTATTTTTTTAACAACTCTCAGCAACGGATATCTCGGCTCTTGCATCGATGAAGAACGCAGCGAAATGCGATAAATGGTGTGAATTGCAGAATCCCGTGAACCATCGAGTCTTTGAACGCAAGTTGCGCCCGAGGCCATCAGGCCAAGGGCACGCCTGCCTGGGCATTCCGAGTCATATCTCTCCCCTAACGAGGCTGTCCATACATACTGTTCATCCGGTGCGGATGTGAGTGTGGCCCCTTGTTCTTTGGTCCGGGGGGTCTAAGAACTGCATGGGCATATGATGGTCCTCAAAACTGGCAAGAGGTGGACGAACTATGCTACAACCAAATTGTTGTGCCAAGGCCCCGGGTTGTCGTATTAGATGGGCCACCGTAACCTGTAGACCCTGTTGAACCCCATTGGAGGACCATCAACCCATGATCAGTTGATGACCATGTGTTGCGACCCCAGATCAGCTGAGCAACCCCTGAG\n",
        "706\n",
        "gi|2765574|emb|Z78449.1|PMZ78449\n",
        "CGTAACAAGGTTTCCGTAGGTGAACCTGCGGAAGGATCATTGTTGAGATCACATAATAATTGATCGAGTTAATCTGGAGGATCTGTTTACTTTGGTCACCCATGAGCATTTGCTGTTGAAGTGACCTAGATTTGCCATCGAGCCTCCTTGGGAGCTTTCTTGTTGGCGAGATCTAAACCCTTGCCCGGCGCAGTTTTGCGCCAACTCATTTGACACATAATTGGTGAAGGGTGGCATCCTGCCCTGACCCTCCCCCAAATTATTTTTTTAACAACTCTCAGCAACGGATATCTCAGCTCTTGCATCGATGAAGAACGCAGCGAAAATGCGATAAATGGTGTGAATTGCAGAATCCCGTGAACCATCGAGTCTTTGAACGCAAGTTGCGCCCGAGGCCATCAGGCCAAGGGCACGCCTGCCTGGGCATTGCGAGTCATATCTCTCCCTTAACGAGGCTGTCCATACATACTGTTCAGCCGGTGCGGATGTGAGTTTGGCCCCTTGTTCTTTGGTACGGGGGGTCTAAGAGCTGCATGGGCTTTTGATGGTCCTAAATACGGCAAGAGGTGGACGAACTATGCTACAACTAAATTGTTGTGCAAAGGCCCCGGGTTGTCGTATTAGATGGGCCACCGTAATCTGAAGACCCTTTTGAACCCCATTGGAGGCCCATCAACCCATGATCAGTTGATGGCCATTTGGTTGCGACCCCAGGTCAGGTGAGGCAACCCGCTGAGTTTATGC\n",
        "744\n",
        "gi|2765573|emb|Z78448.1|PAZ78448\n",
        "CGTAACAAGGTTTCCGTAGGTGAACCTGCGGAAGGATCATTGTTGAGATCACATAATAATTGATCGAGTTAATCTGGAGGATCTGTTTACTTTGGTCACCCATGAGCATTTGCTGTTGAAGTGACCTAGAATTGCCATCGAGCCTCCTTGGGAGCTTTCTTGTTGGCGAGATCTAAACCCTTTCCCGGCGCAGTTTTGCGCCAAGTCGTATGACACATAATTGGTGAAGGGGGGTGGCATCCTTCCCTTGACCCTCCCCAAATTATTTTTTTAACAACTCTCAGCAACGGATATCTCAGCTCTTGCATCGGATGGAAGAACGCACCGAAATGCGATAAATGGTGTGAATTGCAGAATCCCGTGAACCATCGAGTCTTTGAACGCAAGTTGCGCCCGAGGCCATCAGGCCAAGGGCACGCCTGCCTGGGCATTGCGAGTCATATCTCTCCCTTAACGAGGCTGTCCATACATACTGTTCAGCCGGTGCGGATGTGAGTTTGGCCCCTTGTTCTTTGGTACGGGGGGTCTAAGAGCTGCATGGGCTTTTGATGGTCCTAAATACGGCAAGAGGTGGACGAACTATGCTACAANAAAATTGTTGTGCAAAGGCCCCGGGTTGTCGTATTAGATGGGCCACCGTAATCTGAAGACCCTTTTGAACCCCATTGGAGGCCCATCAGCCCATGATCAGTTGATGGCCATTTGGNTGCGACCCCAGGTCAGGTGAGGCAACCCGCTGAGG\n",
        "742\n",
        "gi|2765572|emb|Z78447.1|PVZ78447\n",
        "CGTAACAAGGATTCCGTAGGTGAACCTGCGGGAGGATCATTGTTGAGATCACATAATAATTGATCGAGTAATCTGGAGGATCTGTTTACTTTGGTCACCCATGGGCATTTCCTGTTGAAGTGACCTAGAGTTGCCATCGAGCCTCCCTGGGAGCTTTCTTGTTGGCGAGAACTAAACCCTTACCCGGCGCAATTTTGCCCCCAGTCAAATGACACATAAGTGGTGAAGGGGGTGGCATCCTATCTCGGCTCTTGCATCGATGAAGAACCCAGCGAAATGCGATAAATGGTGTGAATTGCAGAATCCCGTGAACCATCGAGTCTTTGAACGCAAGTTGCGCCCGAGGCCATCAGGCCAAGGGCACGCCTGCCTGGGCATTGCGAGTCATATCTCTCCCTTAACGAGGCTGTCCATACATACTGTTCAGCCGGTGCGGATGTGAGTTTGGCCCCTTGTTCTTTGGTACGGGGGGTCTAAGAGCTGCATGGGCTTTTGATGGTCCTAAATACGGCAAGAGGTGGACGAACTATGCTACACCAAAATTGTTGTGCAAAGGCCCCGGGTTGTCGTATTAGATGGGCCACCGTAATCTGAAGACCCTTTTGAACCCCATTGGAGGCCCATCAACCCATGATCAGTTGATGGCCATTTGGTTGCGACCCCAGTCAGGTGAGGCAACCCGCTGAGTTTAAGC\n",
        "694\n",
        "gi|2765571|emb|Z78446.1|PAZ78446\n",
        "CGTAACAAGGTTTCCGTAGGTGAACCTCCGGAAGGATCATTGTTGAGATCACATAATAATTGATCGAGTTAATCTGGAGGATCTGTTTACTTTGGTCACCCATGAGCATTTCCTGTTGAAGTGACCTAGATTTGCCATCGAGCCTCCTTGGGAGCTTTCTTGTTGGCGAGATCTAAACCCTTGCCCGGCGCAGTTTTGCGCCAAGTCATATGACACATAATTGGTGAAGGGGGTGGCATCCTCCCCAAATAATTTTTTAACAACTCTCAGCAACGGATACTCGGCTCTTCATCGATGGAGGACCAGCGAAATTGCGATAATGGTGTGATTGCAGAATCCCGTGAACATCGAGTCTTTGAACGCAAGTTGCGCCCGAGGCCATCAGGCCAAGGGCACGCCTGCCTGGGATTGCGAGTCATATCTCTCCCTTAACGAGGCTGTCCATACATACTGTTCAGCCGGTGCAGATGTGAGTTTGGCCCCTTGTTCTTCGGTACGGGGGGTCTAAGAGCTGCATGGGCTTTTGATGGCCCTAAATACGGCAAGAGGTGGACGAACTATGCTACAACAAAATTGTTGTGCAAAGGCTCCGGGTTGTCGTATTAGATGGGCCACCGTAATCTGAAGACCCTTTTGAACCCCATTGGAGGCCCATCAACCCATGATCAGTTGATGGCCATTTGGTTGCGACCCAGGTCAGGTGAGGCAACCC\n",
        "712\n",
        "gi|2765570|emb|Z78445.1|PUZ78445\n",
        "CGTAACAAGGTTTCCGTAGGTGAACCTGCGGAAGGATCATTGTTGAGATCACATAATAATTGATCGGGTTAATCTGGAGGATCTGTTTACTTTGGTCACCCATGAGCATTTGCTGTTGAAGTGACCTAGAATTGCCATCGAGCCTCCTTGGGAGCTTTCTTGTTGGCGAGATCTAAACCCTTGCCCGGCGCAGTTTTGCTCCAAGTCGTTTGACACATAATTGGTGAAGGGGGTGGCATCCTTCCCTGACCCTCCCCCAACTATTTTTTTAACAACTCTCAGCAACGGAGACTCAGTCTTCGGCAAATGCGATAAATGGTGTGAATTGCAGAATCCCGTGCACCATCGAGTCTTTGAACGCAAGTTGCGCCCGAGGCCATCAGGCCAAGGGCACGCCTGCCTGGGCATTGCGAGTCATATCTCTCCCTTAACGAGGCTGTCCATACATACTGTTCAGCCGGTGCGGATGTGAGTTTGGCCCCTTGTTCTTTGGTACGGGGGGTCTAAGAGCTGCATGGGCTTTTGATGGTCCTAAATACGGCAAGAGGTGGACGAACTATGCTACAACAAAATTGTTGTGCAGAGGCCCCGGGTTGTCGTATTAGATGGGCCACCGTAATCTGAAGACCCTTTTGAACCCCATTGGAGGCCCATCAACCCATGATCAGTTGATGGCCATTTGGTTGCGACCCCAGGTCAGGTGAGCAACAGCTGT\n",
        "715\n",
        "gi|2765569|emb|Z78444.1|PAZ78444\n",
        "CGTAACAAGGTTTCCGTAGGGTGAACTGCGGAAGGATCATTGTTGAGATCACATAATAATTGATCGAGTTAATCTGGAGGATCTGTTTACTTGGGTCACCCATGGGCATTTGCTGTTGAAGTGACCTAGATTTGCCATCGAGCCTCCTTGGGAGCATCCTTGTTGGCGATATCTAAACCCTCAATTTTTCCCCCAATCAAATTACACAAAATTGGTGGAGGGGGTGGCATTCTTCCCTTACCCTCCCCCAAATATTTTTTTAACAACTCTCAGCAACGGATATCTCAGCTCTTGCATCGATGAAGAACCCACCGAAATGCGATAAATGGTGTGAATTGCAGAATCCCGTGAACCATCGAGTCTTTGAACGCAAGTTGCGCCCGAGGCCATCAGGCCAAGGGCACGCCTGCCTGGGCATTGCGAGTCATATCTCTCCCTTAACGAGGCTGTCCATACATACTGTTCAGCCGGTGCGGATGTGAGTTTGGCCCCTTGTTCTTTGGTACGGGGGGTCTAAGAGATGCATGGGCTTTTGATGGTCCTAAATACGGCAAGAGGTGGACGAACTATGCTACAACAAAATTGTTGTGCAAAGGCCCCGGGTTGTCGTATAAGATGGGCCACCGATATCTGAAGACCCTTTTGGACCCCATTGGAGCCCATCAACCCATGTCAGTTGATGGCCATT\n",
        "688\n",
        "gi|2765568|emb|Z78443.1|PLZ78443\n",
        "CGTAACAAGGTTTCCGTAGGTGAACCTGCGGAAGGATCATTGTTGAGATCACATAATAATTGATCGAGTTAATCTGGAGGATCTGTTTACTTGGGTCACCCATGGGCATTTGCTGTTGAAGTGACCTAGATTTGCCATCGAGCCTCCTTGGGAGCTTTCTTGTTGGCGATATCTAAACCCTTGCCCGGCAGAGTTTTGGGCCACANNNNNNNNNNNNNNNNNNNNNNNNNNNNNNNNNNNNNNNNNNNNNNNNNNNNNNNNNNNNNNNNNNNNNNNNNNNNNNNNNNNNNNNNNNNNNNNNNNNNNNNNNNNNNNNNNNNNNNNNNNNNNNNNNNNNNNNNNNNNNNNNNNNNNNNNNNNNNNNNNNNNNNNNNNNNNNCAGCGAAATGCGATAATGGTGTGAATTGCAGAATCCCGTGAACCATCGAGTCTTTGAACGCAAGTTGCGCCCGAGGCCATCAGGCCAAGGGCACGCCTGCCTGGGCATTGCGAGTCATATCTCTCCCTTAACGAGGCTGTCCATACACACCTGTTCAGCCGGTGCGGATGTGAGTTTGGCCCCTTGTTCTTTGGTACGGGGGGTCTAAGAGCTGCATGGGCTTTTGATGGTCCTAAATACGGCAAGAGGTGGACGAACTATGCTACAACAAAATTGTTGTGCAAAGGCCCCGGGTTGTCGTATTAGATGGGCCACCATAATCTGAAGACCCTTTTGAACCCCATTGGAGGCCCATCAACCCATGATCAGTTGATGGCCATTTGGTTGCGACCCAGTCAGGTGAGG\n",
        "784\n",
        "gi|2765567|emb|Z78442.1|PBZ78442\n",
        "GTAGGTGAACCTGCGGAAGGATCATTGTTGAGATCACATAATAATTGATCGAGTTAATCTGGAGGATCTGTTTACTTTGGTCACCCATGGGCATTTGCTGTTGAAGTGACCTAGATTTGCCATCGAGCCTCCTTGGGAGCTTTCTTGTTGGCGAGATCTAAACCCTTGCCCGGCGGAGTTTGGCGCCAAGTCATATGACACATAATTGGTGAAGGGGGTGGCATCCTGCCCTGACCCTCCCCAAATTATTTTTTTAACAACTCTCAGCAACGGATATCTCGGCTCTTGCATCGATGAAGAACGCAGCGAAATGCGATAAATGGTGTGAATTGCAGAATCCCGTGAACCATCGAGTCTTTGGAACGCAAGTTGCGCCCGAGGCCATCAGGCCAAGGGCACGCCTGCCTGGGCATTGGGAATCATATCTCTCCCCTAACGAGGCTATCCAAACATACTGTTCATCCGGTGCGGATGTGAGTTTGGCCCCTTGTTCTTTGGTACCGGGGGTCTAAGAGCTGCATGGGCATTTGATGGTCCTCAAAACGGCAAGAGGTGGACGAACTATGCCACAACAAAATTGTTGTCCCAAGGCCCCGGGTTGTCGTATTAGATGGGCCACCGTAACCTGAAGACCCTTTTGAACCCCATTGGAGGCCCATCAACCCATGATCAGTTGATGACCATTTGTTGCGACCCCAGTCAGCTGAGCAACCCGCTGAGT\n",
        "721\n",
        "gi|2765566|emb|Z78441.1|PSZ78441\n",
        "GGAAGGTCATTGCCGATATCACATAATAATTGATCGAGTTAATCTGGAGGATCTGTTTACTTGGTCACCCATGAGCATTTGCTGTTGAAGTGACCTAGATTTGCCATCGAGCCTCCTTGGGAGTTTTCTTGTTGGCGAGATCTAAACCCTTGCCCGGCGGAGTTGTGCGCCAAGTCATATGACACATAATTGGTGAAGGGGGTGGCATCCTGCCCTGACCCTCCCCAAATTATTTTTTTAACAACTCTCAGCAACGGATATCTCGGCTCTTGCATCGATGAAGAACGCAGCGAAATGCGATAAATGGTGTGAATTGCAGAATCCCGTGAACCATCGAGTCTTTGAACGCAAGTTGCGCCCGAGGCCATCAGGCCAAGGGCACGCCTGCCTGGGCATTGCGAGTCATATCTCTCCCTTAACGAGGCTGTCCATACATACTGTTCATCCGGTGCGGATGTGAGTTTGGCCCCTTGTTCTTTGGTACGGGGGGTCTAAGAGCTGCATGGGCATTTGATGGTCCTCAAAACGGCAAGAGGTGGACGAACTATGCTACAACCAAATTGTTGTCCCAAGGCCCCGGGTTGTCGTATTAGATGGGCCACCGTAACCTGAAGACCCTTTTGAACCCCATTGGAGGCCCATCAACCCATGATCAGTTGATGACCATGTGTTGCGACCCCAGTCAGCTGAGCAACGCGCTGAG\n",
        "703\n",
        "gi|2765565|emb|Z78440.1|PPZ78440\n",
        "CGTAACAAGGTTTCCGTAGGTGGACCTCCGGGAGGATCATTGTTGAGATCACATAATAATTGATCGAGGTAATCTGGAGGATCTGCATATTTTGGTCACCCATGGGCAATTTCTGTTGTAGTGACCTAGAATTTCCATCGACCCTCCTTGGGAGCATTCTTGTTGGCGAGAACTAAACCCTTACCCGGCGCAGTTTTTCCCCCAATCAAATTACACAAAAATGGTGGAGGGGGTGGCATATCTTCCCTTACCCTCCCCCAAATAATTTTTTAACAACTCTCAGCAACGGATATCTCAGCTCTTGCATCGTTGAAGAACCCACCGAAATGCGATAAATGGTGTGAATTGCAGAATCCCGTGAACCATCGAGTCTTTGAACGCAAGTTGCGCCCGAGGCCATCAGGCCAAGGGCACGCCTGCCTGGGCATTGCGAGTCATATCTCTCCCTTAACGAGGCTGTCCATACATACTGTTCAGCCGGTGCGGATGTGAGTTTGGCCCCTTGTTCTTTGCTACGGGGGGTCTAAGAGCTGCATGGGCTTTTGATGGTCCTAAATACGGCAAGAGGTGGACGAACTATGCTACAGCAAAATTGTTGTGCAAAGGCCCCGGGTTGTCGTATTAGATGGGCCACCGTAATCTGAAGACCCTTTTGAACCCCATTGGAGGCCCATCAACCCATGATCAGTTGATGGCCATTTGGTTGCGACCCCAGGTCAGGTGAGGCAACCCCTGAGTTTAGCA\n",
        "744\n",
        "gi|2765564|emb|Z78439.1|PBZ78439\n",
        "CATTGTTGAGATCACATAATAATTGATCGAGTTAATCTGGAGGATCTGTTTACTTTGGTCACCCATGGGCATTTGCTGTTGAAGTGACCTAGATTTGCCATCGAGCCTCCTTGGGAGCTTTCTTGTTGGCGAGATCTAAACCCCTGCCCGGCGGAGTTGGGCGCCAAGTCATATGACACATAATTGGTGAAGGGGGTGGTAATCCTGCCCTGACCCTCCCCAAATTATTTTTTTAACAACTCTCAGCAACGGATATCTCGGCTCTTGCATCGATGAAGAACGCAGCGAAATGCGATAATGGTGTGAATTGCAGAATCCCGTGAACATCGAGTCTTTGAACGCAAGTTGCGCCCGAGGCCATCAGGCCAAGGGCACGCCTGCCTGGGCATTGCGAGTCATATCTCTCCCTTAATGAGGCTGTCCATACATACTGTTCAGCCGGTGCGGATGTGAGTTTGGCCCCTTGTTCTTTGGTACGGGGGGTCTAAGAGCTGCATGGGCTTTGGATGGTCCTAAATACGGAAAGAGGTGGACGAACTATGCTACAACAAAATTGTTGTGCAAATGCCCCGGTTGGCCGTTTAGTTGGGCC\n",
        "592\n"
       ]
      }
     ],
     "prompt_number": 32
    },
    {
     "cell_type": "code",
     "collapsed": false,
     "input": [
      "print \"We found\", len(allSeqIDs), \"sequences\""
     ],
     "language": "python",
     "metadata": {},
     "outputs": [
      {
       "output_type": "stream",
       "stream": "stdout",
       "text": [
        "We found 94 sequences\n"
       ]
      }
     ],
     "prompt_number": 147
    },
    {
     "cell_type": "code",
     "collapsed": false,
     "input": [
      "print \"information on the third sequence\""
     ],
     "language": "python",
     "metadata": {},
     "outputs": [
      {
       "output_type": "stream",
       "stream": "stdout",
       "text": [
        "information on the third sequence\n"
       ]
      }
     ],
     "prompt_number": 148
    },
    {
     "cell_type": "code",
     "collapsed": false,
     "input": [
      "ind = 2"
     ],
     "language": "python",
     "metadata": {},
     "outputs": [],
     "prompt_number": 149
    },
    {
     "cell_type": "code",
     "collapsed": false,
     "input": [
      "seqRec = allSeqRecords[ind]"
     ],
     "language": "python",
     "metadata": {},
     "outputs": [],
     "prompt_number": 150
    },
    {
     "cell_type": "code",
     "collapsed": false,
     "input": [
      "seqRec"
     ],
     "language": "python",
     "metadata": {},
     "outputs": [
      {
       "metadata": {},
       "output_type": "pyout",
       "prompt_number": 151,
       "text": [
        "SeqRecord(seq=Seq('CGTAACAAGGTTTCCGTAGGTGAACCTGCGGAAGGATCATTGTTGAGACAGCAG...TAA', SingleLetterAlphabet()), id='gi|2765656|emb|Z78531.1|CFZ78531', name='gi|2765656|emb|Z78531.1|CFZ78531', description='gi|2765656|emb|Z78531.1|CFZ78531 C.fasciculatum 5.8S rRNA gene and ITS1 and ITS2 DNA', dbxrefs=[])"
       ]
      }
     ],
     "prompt_number": 151
    },
    {
     "cell_type": "code",
     "collapsed": false,
     "input": [
      "print \"\\t\", \"GI number  \", allSeqIDs[ind]\n",
      "print \"\\t\", \"full id  \", seqRec.id\n",
      "print \"\\t\", \"num nucleo. \", len(seqRec.seq)\n",
      "print \"\\t\", \"1st 10 nucleo.\", seqRec.seq[:10]"
     ],
     "language": "python",
     "metadata": {},
     "outputs": [
      {
       "output_type": "stream",
       "stream": "stdout",
       "text": [
        "\tGI number   2765656\n",
        "\tfull id   gi|2765656|emb|Z78531.1|CFZ78531\n",
        "\tnum nucleo.  748\n",
        "\t1st 10 nucleo. CGTAACAAGG\n"
       ]
      }
     ],
     "prompt_number": 152
    },
    {
     "cell_type": "heading",
     "level": 3,
     "metadata": {},
     "source": [
      "What databases do I have access to?"
     ]
    },
    {
     "cell_type": "code",
     "collapsed": false,
     "input": [
      "from Bio import Entrez\n",
      "Entrez.email = 'test@email.com' # email address \n",
      "Entrez.tool =\"MyLocalScript\""
     ],
     "language": "python",
     "metadata": {},
     "outputs": [],
     "prompt_number": 35
    },
    {
     "cell_type": "code",
     "collapsed": false,
     "input": [
      "handle = Entrez.einfo()\n",
      "record = Entrez.read(handle)\n",
      "record"
     ],
     "language": "python",
     "metadata": {},
     "outputs": [
      {
       "metadata": {},
       "output_type": "pyout",
       "prompt_number": 36,
       "text": [
        "{u'DbList': ['pubmed', 'protein', 'nuccore', 'nucleotide', 'nucgss', 'nucest', 'structure', 'genome', 'assembly', 'genomeprj', 'bioproject', 'biosample', 'blastdbinfo', 'books', 'cdd', 'clinvar', 'clone', 'gap', 'gapplus', 'dbvar', 'epigenomics', 'gene', 'gds', 'geoprofiles', 'homologene', 'medgen', 'journals', 'mesh', 'ncbisearch', 'nlmcatalog', 'omim', 'orgtrack', 'pmc', 'popset', 'probe', 'proteinclusters', 'pcassay', 'biosystems', 'pccompound', 'pcsubstance', 'pubmedhealth', 'seqannot', 'snp', 'sra', 'taxonomy', 'toolkit', 'toolkitall', 'toolkitbook', 'unigene', 'gencoll', 'gtr']}"
       ]
      }
     ],
     "prompt_number": 36
    },
    {
     "cell_type": "heading",
     "level": 3,
     "metadata": {},
     "source": [
      "What if I want info about a database?"
     ]
    },
    {
     "cell_type": "code",
     "collapsed": false,
     "input": [
      "handle = Entrez.einfo(db=\"pubmed\")\n",
      "record = Entrez.read(handle)\n",
      "record[\"DbInfo\"][\"Description\"]"
     ],
     "language": "python",
     "metadata": {},
     "outputs": [
      {
       "metadata": {},
       "output_type": "pyout",
       "prompt_number": 37,
       "text": [
        "'PubMed bibliographic record'"
       ]
      }
     ],
     "prompt_number": 37
    },
    {
     "cell_type": "code",
     "collapsed": false,
     "input": [
      "record[\"DbInfo\"][\"Count\"]"
     ],
     "language": "python",
     "metadata": {},
     "outputs": [
      {
       "metadata": {},
       "output_type": "pyout",
       "prompt_number": 38,
       "text": [
        "'23988393'"
       ]
      }
     ],
     "prompt_number": 38
    },
    {
     "cell_type": "heading",
     "level": 3,
     "metadata": {},
     "source": [
      "How do I search a db for a given term?"
     ]
    },
    {
     "cell_type": "code",
     "collapsed": false,
     "input": [
      "handle = Entrez.esearch(db=\"pubmed\", term=\"biopython\")\n",
      "record = Entrez.read(handle)\n",
      "record[\"IdList\"]"
     ],
     "language": "python",
     "metadata": {},
     "outputs": [
      {
       "metadata": {},
       "output_type": "pyout",
       "prompt_number": 39,
       "text": [
        "['24929426', '24497503', '24267035', '24194598', '23842806', '23157543', '22909249', '22399473', '21666252', '21210977', '20015970', '19811691', '19773334', '19304878', '18606172', '21585724', '16403221', '16377612', '14871861', '14630660']"
       ]
      }
     ],
     "prompt_number": 39
    },
    {
     "cell_type": "heading",
     "level": 3,
     "metadata": {},
     "source": [
      "Other databases?"
     ]
    },
    {
     "cell_type": "code",
     "collapsed": false,
     "input": [
      "handle = Entrez.esearch(db=\"nucleotide\", term=\"Cypripedioideae[Orgn] AND matK[Gene]\")\n",
      "record = Entrez.read(handle)\n",
      "record[\"Count\"]"
     ],
     "language": "python",
     "metadata": {},
     "outputs": [
      {
       "metadata": {},
       "output_type": "pyout",
       "prompt_number": 40,
       "text": [
        "'192'"
       ]
      }
     ],
     "prompt_number": 40
    },
    {
     "cell_type": "heading",
     "level": 3,
     "metadata": {},
     "source": [
      "Get all journals that have 'computational' as a term"
     ]
    },
    {
     "cell_type": "code",
     "collapsed": false,
     "input": [
      "handle = Entrez.esearch(db=\"journals\", term = \"computational\")\n",
      "record = Entrez.read(handle)\n",
      "record[\"Count\"]"
     ],
     "language": "python",
     "metadata": {},
     "outputs": [
      {
       "metadata": {},
       "output_type": "pyout",
       "prompt_number": 42,
       "text": [
        "'59'"
       ]
      }
     ],
     "prompt_number": 42
    },
    {
     "cell_type": "code",
     "collapsed": false,
     "input": [
      "record[\"IdList\"]"
     ],
     "language": "python",
     "metadata": {},
     "outputs": [
      {
       "metadata": {},
       "output_type": "pyout",
       "prompt_number": 43,
       "text": [
        "['39206', '37505', '37511', '37435', '37518', '36366', '39786', '34878', '40350', '30367', '38517', '40761', '33843', '37406', '40084', '36622', '39212', '33823', '32989', '33190']"
       ]
      }
     ],
     "prompt_number": 43
    },
    {
     "cell_type": "heading",
     "level": 3,
     "metadata": {},
     "source": [
      "Ok  I have a term now I want the item itself"
     ]
    },
    {
     "cell_type": "code",
     "collapsed": false,
     "input": [
      "from Bio import Entrez, SeqIO"
     ],
     "language": "python",
     "metadata": {},
     "outputs": [],
     "prompt_number": 44
    },
    {
     "cell_type": "code",
     "collapsed": false,
     "input": [
      "handle = Entrez.efetch(db=\"nucleotide\", id=\"186972394\", rettype=\"gb\", retmode = \"text\")"
     ],
     "language": "python",
     "metadata": {},
     "outputs": [],
     "prompt_number": 45
    },
    {
     "cell_type": "code",
     "collapsed": false,
     "input": [
      "record = SeqIO.read(handle, \"genbank\")"
     ],
     "language": "python",
     "metadata": {},
     "outputs": [],
     "prompt_number": 46
    },
    {
     "cell_type": "code",
     "collapsed": false,
     "input": [
      "handle.close()"
     ],
     "language": "python",
     "metadata": {},
     "outputs": [],
     "prompt_number": 47
    },
    {
     "cell_type": "code",
     "collapsed": false,
     "input": [
      "print record"
     ],
     "language": "python",
     "metadata": {},
     "outputs": [
      {
       "output_type": "stream",
       "stream": "stdout",
       "text": [
        "ID: EU490707.1\n",
        "Name: EU490707\n",
        "Description: Selenipedium aequinoctiale maturase K (matK) gene, partial cds; chloroplast.\n",
        "Number of features: 3\n",
        "/sequence_version=1\n",
        "/source=chloroplast Selenipedium aequinoctiale\n",
        "/taxonomy=['Eukaryota', 'Viridiplantae', 'Streptophyta', 'Embryophyta', 'Tracheophyta', 'Spermatophyta', 'Magnoliophyta', 'Liliopsida', 'Asparagales', 'Orchidaceae', 'Cypripedioideae', 'Selenipedium']\n",
        "/keywords=['']\n",
        "/references=[Reference(title='Phylogenetic utility of ycf1 in orchids: a plastid gene more variable than matK', ...), Reference(title='Direct Submission', ...)]\n",
        "/accessions=['EU490707']\n",
        "/data_file_division=PLN\n",
        "/date=15-JAN-2009\n",
        "/organism=Selenipedium aequinoctiale\n",
        "/gi=186972394\n",
        "Seq('ATTTTTTACGAACCTGTGGAAATTTTTGGTTATGACAATAAATCTAGTTTAGTA...GAA', IUPACAmbiguousDNA())\n"
       ]
      }
     ],
     "prompt_number": 49
    },
    {
     "cell_type": "code",
     "collapsed": false,
     "input": [
      "handle = Entrez.efetch(db=\"pubmed\", id=\"21210977\")"
     ],
     "language": "python",
     "metadata": {},
     "outputs": [],
     "prompt_number": 50
    },
    {
     "cell_type": "code",
     "collapsed": false,
     "input": [
      "print handle.read()"
     ],
     "language": "python",
     "metadata": {},
     "outputs": [
      {
       "output_type": "stream",
       "stream": "stdout",
       "text": [
        "\n",
        "Pubmed-entry ::= {\n",
        "  pmid 21210977,\n",
        "  medent {\n",
        "    em std {\n",
        "      year 2011,\n",
        "      month 1,\n",
        "      day 7\n",
        "    },\n",
        "    cit {\n",
        "      title {\n",
        "        name \"interPopula: a Python API to access the HapMap Project dataset.\"\n",
        "      },\n",
        "      authors {\n",
        "        names std {\n",
        "          {\n",
        "            name ml \"Antao T\",\n",
        "            affil str \"Liverpool School of Tropical Medicine, L3 5QA,\n",
        " Liverpool, UK. tra@popgen.eu\"\n",
        "          }\n",
        "        }\n",
        "      },\n",
        "      from journal {\n",
        "        title {\n",
        "          iso-jta \"BMC Bioinformatics\",\n",
        "          ml-jta \"BMC Bioinformatics\",\n",
        "          issn \"1471-2105\"\n",
        "        },\n",
        "        imp {\n",
        "          date std {\n",
        "            year 2010\n",
        "          },\n",
        "          volume \"11\",\n",
        "          pages \"S10\",\n",
        "          part-sup \"SUPPL 12\",\n",
        "          language \"eng\",\n",
        "          pubstatus epublish,\n",
        "          history {\n",
        "            {\n",
        "              pubstatus aheadofprint,\n",
        "              date std {\n",
        "                year 2010,\n",
        "                month 12,\n",
        "                day 21\n",
        "              }\n",
        "            },\n",
        "            {\n",
        "              pubstatus other,\n",
        "              date std {\n",
        "                year 2011,\n",
        "                month 1,\n",
        "                day 8,\n",
        "                hour 6,\n",
        "                minute 0\n",
        "              }\n",
        "            },\n",
        "            {\n",
        "              pubstatus pubmed,\n",
        "              date std {\n",
        "                year 2011,\n",
        "                month 1,\n",
        "                day 19,\n",
        "                hour 6,\n",
        "                minute 0\n",
        "              }\n",
        "            },\n",
        "            {\n",
        "              pubstatus medline,\n",
        "              date std {\n",
        "                year 2011,\n",
        "                month 5,\n",
        "                day 28,\n",
        "                hour 6,\n",
        "                minute 0\n",
        "              }\n",
        "            }\n",
        "          }\n",
        "        }\n",
        "      },\n",
        "      ids {\n",
        "        pii \"1471-2105-11-S12-S10\",\n",
        "        doi \"10.1186/1471-2105-11-S12-S10\",\n",
        "        pubmed 21210977,\n",
        "        other {\n",
        "          db \"pmc\",\n",
        "          tag str \"PMC3040524\"\n",
        "        },\n",
        "        other {\n",
        "          db \"ELocationID doi\",\n",
        "          tag str \"10.1186/1471-2105-11-S12-S10\"\n",
        "        }\n",
        "      }\n",
        "    },\n",
        "    abstract \"BACKGROUND: The HapMap project is a publicly available catalogue\n",
        " of common genetic variants that occur in humans, currently including several\n",
        " million SNPs across 1115 individuals spanning 11 different populations. This\n",
        " important database does not provide any programmatic access to the dataset,\n",
        " furthermore no standard relational database interface is provided. RESULTS:\n",
        " interPopula is a Python API to access the HapMap dataset. interPopula\n",
        " provides integration facilities with both the Python ecology of software\n",
        " (e.g. Biopython and matplotlib) and other relevant human population datasets\n",
        " (e.g. Ensembl gene annotation and UCSC Known Genes). A set of guidelines and\n",
        " code examples to address possible inconsistencies across heterogeneous data\n",
        " sources is also provided. CONCLUSIONS: interPopula is a straightforward and\n",
        " flexible Python API that facilitates the construction of scripts and\n",
        " applications that require access to the HapMap dataset.\",\n",
        "    mesh {\n",
        "      {\n",
        "        mp TRUE,\n",
        "        term \"Databases, Nucleic Acid\"\n",
        "      },\n",
        "      {\n",
        "        term \"Humans\"\n",
        "      },\n",
        "      {\n",
        "        term \"Molecular Sequence Annotation\"\n",
        "      },\n",
        "      {\n",
        "        mp TRUE,\n",
        "        term \"Polymorphism, Single Nucleotide\"\n",
        "      },\n",
        "      {\n",
        "        term \"Population Groups\",\n",
        "        qual {\n",
        "          {\n",
        "            subh \"genetics\"\n",
        "          }\n",
        "        }\n",
        "      },\n",
        "      {\n",
        "        mp TRUE,\n",
        "        term \"Software\"\n",
        "      },\n",
        "      {\n",
        "        term \"Systems Integration\"\n",
        "      }\n",
        "    },\n",
        "    pmid 21210977,\n",
        "    pub-type {\n",
        "      \"Journal Article\",\n",
        "      \"Research Support, Non-U.S. Gov't\"\n",
        "    },\n",
        "    status medline\n",
        "  }\n",
        "}\n",
        "\n",
        "\n",
        "\n"
       ]
      }
     ],
     "prompt_number": 51
    },
    {
     "cell_type": "code",
     "collapsed": false,
     "input": [
      "# \uc218\uace0\ud558\uc168\uc2b5\ub2c8\ub2e4 ^-^"
     ],
     "language": "python",
     "metadata": {},
     "outputs": []
    }
   ],
   "metadata": {}
  }
 ]
}